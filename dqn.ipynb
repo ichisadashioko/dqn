{
 "cells": [
  {
   "cell_type": "code",
   "execution_count": 1,
   "metadata": {},
   "outputs": [],
   "source": [
    "import os\n",
    "import time\n",
    "import math\n",
    "\n",
    "import numpy as np\n",
    "import matplotlib.pyplot as plt"
   ]
  },
  {
   "cell_type": "code",
   "execution_count": 2,
   "metadata": {},
   "outputs": [],
   "source": [
    "import gym"
   ]
  },
  {
   "cell_type": "code",
   "execution_count": 3,
   "metadata": {},
   "outputs": [],
   "source": [
    "env_name = 'Breakout-v0'\n",
    "env = gym.make(env_name)"
   ]
  },
  {
   "cell_type": "code",
   "execution_count": 4,
   "metadata": {
    "scrolled": true
   },
   "outputs": [
    {
     "data": {
      "text/plain": [
       "3"
      ]
     },
     "execution_count": 4,
     "metadata": {},
     "output_type": "execute_result"
    }
   ],
   "source": [
    "env.action_space.sample()"
   ]
  },
  {
   "cell_type": "code",
   "execution_count": 5,
   "metadata": {},
   "outputs": [
    {
     "data": {
      "text/plain": [
       "4"
      ]
     },
     "execution_count": 5,
     "metadata": {},
     "output_type": "execute_result"
    }
   ],
   "source": [
    "env.action_space.n"
   ]
  },
  {
   "cell_type": "code",
   "execution_count": 6,
   "metadata": {},
   "outputs": [
    {
     "data": {
      "text/plain": [
       "(210, 160, 3)"
      ]
     },
     "execution_count": 6,
     "metadata": {},
     "output_type": "execute_result"
    }
   ],
   "source": [
    "env.observation_space.shape"
   ]
  },
  {
   "cell_type": "code",
   "execution_count": 7,
   "metadata": {},
   "outputs": [
    {
     "data": {
      "text/plain": [
       "(210, 160, 3)"
      ]
     },
     "execution_count": 7,
     "metadata": {},
     "output_type": "execute_result"
    }
   ],
   "source": [
    "state = env.reset()\n",
    "state.shape"
   ]
  },
  {
   "cell_type": "code",
   "execution_count": 8,
   "metadata": {},
   "outputs": [
    {
     "data": {
      "text/plain": [
       "<matplotlib.image.AxesImage at 0x25dc3d21e10>"
      ]
     },
     "execution_count": 8,
     "metadata": {},
     "output_type": "execute_result"
    },
    {
     "data": {
      "image/png": "[encoded data removed]",
      "text/plain": [
       "<Figure size 432x288 with 1 Axes>"
      ]
     },
     "metadata": {
      "needs_background": "light"
     },
     "output_type": "display_data"
    }
   ],
   "source": [
    "plt.imshow(state)"
   ]
  },
  {
   "cell_type": "markdown",
   "metadata": {},
   "source": [
    "**Convert RGB to GRAY**"
   ]
  },
  {
   "cell_type": "code",
   "execution_count": 9,
   "metadata": {},
   "outputs": [
    {
     "data": {
      "text/plain": [
       "(210, 160)"
      ]
     },
     "execution_count": 9,
     "metadata": {},
     "output_type": "execute_result"
    }
   ],
   "source": [
    "gray = np.mean(state, axis=2)\n",
    "gray.shape"
   ]
  },
  {
   "cell_type": "code",
   "execution_count": 10,
   "metadata": {},
   "outputs": [
    {
     "data": {
      "text/plain": [
       "<matplotlib.colorbar.Colorbar at 0x25dc3e0b860>"
      ]
     },
     "execution_count": 10,
     "metadata": {},
     "output_type": "execute_result"
    },
    {
     "data": {
      "image/png": "[encoded data removed]",
      "text/plain": [
       "<Figure size 432x288 with 2 Axes>"
      ]
     },
     "metadata": {
      "needs_background": "light"
     },
     "output_type": "display_data"
    }
   ],
   "source": [
    "plt.imshow(gray, cmap='gray')\n",
    "plt.colorbar()"
   ]
  },
  {
   "cell_type": "markdown",
   "metadata": {},
   "source": [
    "**Resize (down-sample) image**"
   ]
  },
  {
   "cell_type": "code",
   "execution_count": 11,
   "metadata": {},
   "outputs": [
    {
     "data": {
      "text/plain": [
       "(105, 80)"
      ]
     },
     "execution_count": 11,
     "metadata": {},
     "output_type": "execute_result"
    }
   ],
   "source": [
    "down_sample = gray[::2, ::2]\n",
    "down_sample.shape"
   ]
  },
  {
   "cell_type": "code",
   "execution_count": 12,
   "metadata": {},
   "outputs": [
    {
     "data": {
      "text/plain": [
       "<matplotlib.colorbar.Colorbar at 0x25dc3ed6ac8>"
      ]
     },
     "execution_count": 12,
     "metadata": {},
     "output_type": "execute_result"
    },
    {
     "data": {
      "image/png": "[encoded data removed]",
      "text/plain": [
       "<Figure size 432x288 with 2 Axes>"
      ]
     },
     "metadata": {
      "needs_background": "light"
     },
     "output_type": "display_data"
    }
   ],
   "source": [
    "plt.imshow(down_sample, cmap='gray')\n",
    "plt.colorbar()"
   ]
  },
  {
   "cell_type": "markdown",
   "metadata": {},
   "source": [
    "**Convert to 0 or 255** "
   ]
  },
  {
   "cell_type": "code",
   "execution_count": 13,
   "metadata": {},
   "outputs": [
    {
     "data": {
      "text/plain": [
       "(105, 80)"
      ]
     },
     "execution_count": 13,
     "metadata": {},
     "output_type": "execute_result"
    }
   ],
   "source": [
    "abs_img = np.where(down_sample == 0, 0, 255).astype(np.uint8)\n",
    "abs_img.shape"
   ]
  },
  {
   "cell_type": "code",
   "execution_count": 14,
   "metadata": {},
   "outputs": [
    {
     "data": {
      "text/plain": [
       "dtype('uint8')"
      ]
     },
     "execution_count": 14,
     "metadata": {},
     "output_type": "execute_result"
    }
   ],
   "source": [
    "abs_img.dtype"
   ]
  },
  {
   "cell_type": "code",
   "execution_count": 15,
   "metadata": {},
   "outputs": [
    {
     "data": {
      "text/plain": [
       "<matplotlib.colorbar.Colorbar at 0x25dc3f80c18>"
      ]
     },
     "execution_count": 15,
     "metadata": {},
     "output_type": "execute_result"
    },
    {
     "data": {
      "image/png": "[encoded data removed]",
      "text/plain": [
       "<Figure size 432x288 with 2 Axes>"
      ]
     },
     "metadata": {
      "needs_background": "light"
     },
     "output_type": "display_data"
    }
   ],
   "source": [
    "plt.imshow(abs_img, cmap='gray')\n",
    "plt.colorbar()"
   ]
  },
  {
   "cell_type": "markdown",
   "metadata": {},
   "source": [
    "**Wrap all together**"
   ]
  },
  {
   "cell_type": "code",
   "execution_count": 16,
   "metadata": {},
   "outputs": [],
   "source": [
    "def process_state(img):\n",
    "    _img = np.mean(img, axis=2, dtype=np.uint8)\n",
    "    _img = _img[::2, ::2]\n",
    "    _img = np.where(_img==0, 0, 255).astype(np.uint8)\n",
    "    return _img"
   ]
  },
  {
   "cell_type": "code",
   "execution_count": 17,
   "metadata": {},
   "outputs": [
    {
     "data": {
      "text/plain": [
       "<matplotlib.colorbar.Colorbar at 0x25dc4027eb8>"
      ]
     },
     "execution_count": 17,
     "metadata": {},
     "output_type": "execute_result"
    },
    {
     "data": {
      "image/png": "[encoded data removed]",
      "text/plain": [
       "<Figure size 432x288 with 2 Axes>"
      ]
     },
     "metadata": {
      "needs_background": "light"
     },
     "output_type": "display_data"
    }
   ],
   "source": [
    "plt.imshow(process_state(state), cmap='gray')\n",
    "plt.colorbar()"
   ]
  },
  {
   "cell_type": "code",
   "execution_count": 18,
   "metadata": {},
   "outputs": [
    {
     "data": {
      "text/plain": [
       "(105, 80)"
      ]
     },
     "execution_count": 18,
     "metadata": {},
     "output_type": "execute_result"
    }
   ],
   "source": [
    "_state = process_state(state)\n",
    "_state.shape"
   ]
  },
  {
   "cell_type": "code",
   "execution_count": 19,
   "metadata": {},
   "outputs": [
    {
     "data": {
      "text/plain": [
       "dtype('uint8')"
      ]
     },
     "execution_count": 19,
     "metadata": {},
     "output_type": "execute_result"
    }
   ],
   "source": [
    "state.dtype"
   ]
  },
  {
   "cell_type": "code",
   "execution_count": 20,
   "metadata": {},
   "outputs": [
    {
     "data": {
      "text/plain": [
       "dtype('uint8')"
      ]
     },
     "execution_count": 20,
     "metadata": {},
     "output_type": "execute_result"
    }
   ],
   "source": [
    "_state.dtype"
   ]
  },
  {
   "cell_type": "code",
   "execution_count": 21,
   "metadata": {},
   "outputs": [],
   "source": [
    "state_memory = []"
   ]
  },
  {
   "cell_type": "code",
   "execution_count": 22,
   "metadata": {},
   "outputs": [],
   "source": [
    "for _ in range(64):\n",
    "    action = env.action_space.sample()\n",
    "    observation = env.step(action)\n",
    "    state, reward, done, info = observation\n",
    "    _state = process_state(state)\n",
    "    state_memory.append(_state)"
   ]
  },
  {
   "cell_type": "code",
   "execution_count": 23,
   "metadata": {},
   "outputs": [
    {
     "data": {
      "text/plain": [
       "64"
      ]
     },
     "execution_count": 23,
     "metadata": {},
     "output_type": "execute_result"
    }
   ],
   "source": [
    "len(state_memory)"
   ]
  },
  {
   "cell_type": "code",
   "execution_count": 24,
   "metadata": {},
   "outputs": [],
   "source": [
    "idx = 0"
   ]
  },
  {
   "cell_type": "code",
   "execution_count": 25,
   "metadata": {},
   "outputs": [
    {
     "name": "stdout",
     "output_type": "stream",
     "text": [
      "1\n"
     ]
    },
    {
     "data": {
      "text/plain": [
       "<matplotlib.colorbar.Colorbar at 0x25dc40df320>"
      ]
     },
     "execution_count": 25,
     "metadata": {},
     "output_type": "execute_result"
    },
    {
     "data": {
      "image/png": "[encoded data removed]",
      "text/plain": [
       "<Figure size 432x288 with 2 Axes>"
      ]
     },
     "metadata": {
      "needs_background": "light"
     },
     "output_type": "display_data"
    }
   ],
   "source": [
    "idx %= len(state_memory)\n",
    "idx += 1\n",
    "print(idx)\n",
    "plt.imshow(state_memory[idx], cmap='gray')\n",
    "plt.colorbar()"
   ]
  },
  {
   "cell_type": "markdown",
   "metadata": {},
   "source": [
    "**Grab sequence of frames**"
   ]
  },
  {
   "cell_type": "code",
   "execution_count": 26,
   "metadata": {},
   "outputs": [
    {
     "data": {
      "text/plain": [
       "(10, 105, 80)"
      ]
     },
     "execution_count": 26,
     "metadata": {},
     "output_type": "execute_result"
    }
   ],
   "source": [
    "seq_states = np.array(state_memory[20:30])\n",
    "seq_states.shape"
   ]
  },
  {
   "cell_type": "code",
   "execution_count": 27,
   "metadata": {},
   "outputs": [
    {
     "data": {
      "text/plain": [
       "dtype('uint8')"
      ]
     },
     "execution_count": 27,
     "metadata": {},
     "output_type": "execute_result"
    }
   ],
   "source": [
    "seq_states.dtype"
   ]
  },
  {
   "cell_type": "markdown",
   "metadata": {},
   "source": [
    "**Merge them together**"
   ]
  },
  {
   "cell_type": "code",
   "execution_count": 28,
   "metadata": {},
   "outputs": [
    {
     "data": {
      "text/plain": [
       "(105, 80)"
      ]
     },
     "execution_count": 28,
     "metadata": {},
     "output_type": "execute_result"
    }
   ],
   "source": [
    "max_seq_states = np.max(seq_states, axis=0)\n",
    "max_seq_states.shape"
   ]
  },
  {
   "cell_type": "code",
   "execution_count": 29,
   "metadata": {},
   "outputs": [
    {
     "data": {
      "text/plain": [
       "dtype('uint8')"
      ]
     },
     "execution_count": 29,
     "metadata": {},
     "output_type": "execute_result"
    }
   ],
   "source": [
    "max_seq_states.dtype"
   ]
  },
  {
   "cell_type": "code",
   "execution_count": 30,
   "metadata": {},
   "outputs": [
    {
     "data": {
      "text/plain": [
       "<matplotlib.colorbar.Colorbar at 0x25dc4175e10>"
      ]
     },
     "execution_count": 30,
     "metadata": {},
     "output_type": "execute_result"
    },
    {
     "data": {
      "image/png": "[encoded data removed]",
      "text/plain": [
       "<Figure size 432x288 with 2 Axes>"
      ]
     },
     "metadata": {
      "needs_background": "light"
     },
     "output_type": "display_data"
    }
   ],
   "source": [
    "plt.imshow(max_seq_states, cmap='gray')\n",
    "plt.colorbar()"
   ]
  },
  {
   "cell_type": "markdown",
   "metadata": {},
   "source": [
    "**Fade frame**"
   ]
  },
  {
   "cell_type": "code",
   "execution_count": 31,
   "metadata": {},
   "outputs": [],
   "source": [
    "process_seq_state = []\n",
    "\n",
    "for idx, s in enumerate(seq_states):\n",
    "    # fade past images\n",
    "    alpha = idx / len(seq_states)\n",
    "    s = s * alpha\n",
    "    process_seq_state.append(s)\n",
    "\n",
    "process_seq_state = np.array(process_seq_state, dtype=np.uint8)\n",
    "process_seq_state = np.max(process_seq_state, axis=0)"
   ]
  },
  {
   "cell_type": "code",
   "execution_count": 32,
   "metadata": {},
   "outputs": [
    {
     "data": {
      "text/plain": [
       "(105, 80)"
      ]
     },
     "execution_count": 32,
     "metadata": {},
     "output_type": "execute_result"
    }
   ],
   "source": [
    "process_seq_state.shape"
   ]
  },
  {
   "cell_type": "code",
   "execution_count": 33,
   "metadata": {},
   "outputs": [
    {
     "data": {
      "text/plain": [
       "<matplotlib.colorbar.Colorbar at 0x25dc4224208>"
      ]
     },
     "execution_count": 33,
     "metadata": {},
     "output_type": "execute_result"
    },
    {
     "data": {
      "image/png": "[encoded data removed]",
      "text/plain": [
       "<Figure size 432x288 with 2 Axes>"
      ]
     },
     "metadata": {
      "needs_background": "light"
     },
     "output_type": "display_data"
    }
   ],
   "source": [
    "plt.imshow(process_seq_state, cmap='gray')\n",
    "plt.colorbar()"
   ]
  },
  {
   "cell_type": "code",
   "execution_count": 34,
   "metadata": {},
   "outputs": [],
   "source": [
    "def ray_trace(seq_images):\n",
    "    process_seq = []\n",
    "\n",
    "    for idx, s in enumerate(seq_images):\n",
    "        s = s * ((idx+1) / len(seq_images))\n",
    "        process_seq.append(s)\n",
    "    process_seq = np.array(process_seq, dtype=np.uint8)\n",
    "    ray_trace_image = np.max(process_seq, axis=0)\n",
    "    return ray_trace_image"
   ]
  },
  {
   "cell_type": "code",
   "execution_count": 35,
   "metadata": {},
   "outputs": [
    {
     "data": {
      "text/plain": [
       "(105, 80)"
      ]
     },
     "execution_count": 35,
     "metadata": {},
     "output_type": "execute_result"
    }
   ],
   "source": [
    "idx = 60\n",
    "# grab `x` sequential frames\n",
    "x = 8\n",
    "ray_trace_image = ray_trace(state_memory[idx-8:idx])\n",
    "ray_trace_image.shape"
   ]
  },
  {
   "cell_type": "code",
   "execution_count": 36,
   "metadata": {},
   "outputs": [
    {
     "data": {
      "text/plain": [
       "<matplotlib.colorbar.Colorbar at 0x25dc42c71d0>"
      ]
     },
     "execution_count": 36,
     "metadata": {},
     "output_type": "execute_result"
    },
    {
     "data": {
      "image/png": "[encoded data removed]",
      "text/plain": [
       "<Figure size 432x288 with 2 Axes>"
      ]
     },
     "metadata": {
      "needs_background": "light"
     },
     "output_type": "display_data"
    }
   ],
   "source": [
    "plt.imshow(ray_trace_image, cmap='gray')\n",
    "plt.colorbar()"
   ]
  },
  {
   "cell_type": "markdown",
   "metadata": {},
   "source": [
    "**Tranditional Q-Learning update equation**\n",
    "\n",
    "$Q_{s,a} \\leftarrow (1 - \\alpha) Q_{s,a} + \\alpha (reward + \\gamma \\max(Q_{s'})$"
   ]
  },
  {
   "cell_type": "code",
   "execution_count": null,
   "metadata": {},
   "outputs": [],
   "source": [
    "import tensorflow as tf\n",
    "tf.__version__"
   ]
  },
  {
   "cell_type": "code",
   "execution_count": null,
   "metadata": {},
   "outputs": [],
   "source": [
    "from tensorflow import keras\n",
    "from tensorflow.keras.layers import Conv2D, Dense, Flatten\n",
    "from tensorflow.keras.optimizers import Adam"
   ]
  },
  {
   "cell_type": "code",
   "execution_count": null,
   "metadata": {},
   "outputs": [],
   "source": [
    "model_filename = f'{env_name}.h5'\n",
    "model_filename"
   ]
  },
  {
   "cell_type": "code",
   "execution_count": null,
   "metadata": {},
   "outputs": [],
   "source": [
    "model = keras.models.load_model(model_filename)\n",
    "model.summary()"
   ]
  },
  {
   "cell_type": "markdown",
   "metadata": {},
   "source": [
    "Test unpack `input_shape`"
   ]
  },
  {
   "cell_type": "code",
   "execution_count": 41,
   "metadata": {},
   "outputs": [
    {
     "data": {
      "text/plain": [
       "(105, 80, 1)"
      ]
     },
     "execution_count": 41,
     "metadata": {},
     "output_type": "execute_result"
    }
   ],
   "source": [
    "(*(105, 80, 1), )"
   ]
  },
  {
   "cell_type": "code",
   "execution_count": 68,
   "metadata": {},
   "outputs": [],
   "source": [
    "from dqn_utils import *"
   ]
  },
  {
   "cell_type": "markdown",
   "metadata": {},
   "source": [
    "**Populate DQN memory**"
   ]
  },
  {
   "cell_type": "code",
   "execution_count": 69,
   "metadata": {},
   "outputs": [],
   "source": [
    "dqn_memory = DQNMemory()"
   ]
  },
  {
   "cell_type": "code",
   "execution_count": 70,
   "metadata": {},
   "outputs": [],
   "source": [
    "done = False\n",
    "state = env.reset()\n",
    "state = process_state(state)\n",
    "dqn_memory.start_eps(state)\n",
    "\n",
    "while not done:\n",
    "    action = env.action_space.sample()\n",
    "    observation = env.step(action)\n",
    "\n",
    "    new_state, reward, done, info = observation\n",
    "\n",
    "    new_state = process_state(new_state)\n",
    "    # add new observation to `dqn_memory`\n",
    "    dqn_memory.add(new_state, action, reward, done)\n",
    "    \n",
    "dqn_memory.end_eps()"
   ]
  },
  {
   "cell_type": "code",
   "execution_count": 72,
   "metadata": {},
   "outputs": [
    {
     "ename": "AttributeError",
     "evalue": "'DQNMemory' object has no attribute 'get_current_size'",
     "output_type": "error",
     "traceback": [
      "\u001b[1;31m---------------------------------------------------------------------------\u001b[0m",
      "\u001b[1;31mAttributeError\u001b[0m                            Traceback (most recent call last)",
      "\u001b[1;32m<ipython-input-72-2328617c9071>\u001b[0m in \u001b[0;36m<module>\u001b[1;34m\u001b[0m\n\u001b[1;32m----> 1\u001b[1;33m \u001b[0mdqn_memory\u001b[0m\u001b[1;33m.\u001b[0m\u001b[0mget_current_size\u001b[0m\u001b[1;33m(\u001b[0m\u001b[1;33m)\u001b[0m\u001b[1;33m\u001b[0m\u001b[1;33m\u001b[0m\u001b[0m\n\u001b[0m",
      "\u001b[1;31mAttributeError\u001b[0m: 'DQNMemory' object has no attribute 'get_current_size'"
     ]
    }
   ],
   "source": [
    "dqn_memory.get_current_size()"
   ]
  },
  {
   "cell_type": "code",
   "execution_count": 60,
   "metadata": {},
   "outputs": [
    {
     "name": "stdout",
     "output_type": "stream",
     "text": [
      "20190710_083235 [0.25 0.5  0.75 1.  ]\n",
      "20190710_083235 [0.25 0.5  0.75 1.  ]\n",
      "20190710_083235 [0.25 1.  ]\n",
      "20190710_083235 [0.25 0.5  0.75 1.  ]\n",
      "20190710_083235 [0.25 0.5  0.75 1.  ]\n",
      "20190710_083235 [0.25 0.5  0.75 1.  ]\n",
      "20190710_083235 [0.25 0.5  0.75 1.  ]\n",
      "20190710_083235 [0.25 0.5  0.75 1.  ]\n",
      "20190710_083235 [0.25 0.5  0.75 1.  ]\n",
      "20190710_083235 [0.25 0.5  0.75 1.  ]\n",
      "20190710_083235 [0.25 0.5  0.75 1.  ]\n",
      "20190710_083235 [0.25 0.5  0.75 1.  ]\n",
      "20190710_083235 [0.25 0.5  0.75 1.  ]\n",
      "20190710_083235 [0.25 0.5  0.75 1.  ]\n",
      "20190710_083235 [0.25 0.5  0.75 1.  ]\n",
      "20190710_083235 [0.25 0.5  0.75 1.  ]\n",
      "20190710_083235 [0.25 0.5  0.75 1.  ]\n",
      "20190710_083235 [0.25 0.5  0.75 1.  ]\n",
      "20190710_083235 [0.25 0.5  0.75 1.  ]\n",
      "20190710_083235 [0.25 0.5  0.75 1.  ]\n",
      "20190710_083235 [0.25 0.5  0.75 1.  ]\n",
      "20190710_083235 [0.25 0.5  0.75 1.  ]\n",
      "20190710_083235 [0.25 0.5  0.75 1.  ]\n",
      "20190710_083235 [0.25 0.5  0.75 1.  ]\n",
      "20190710_083235 [0.25 0.5  0.75 1.  ]\n",
      "20190710_083235 [0.25 0.5  0.75 1.  ]\n",
      "20190710_083235 [0.25 0.5  0.75 1.  ]\n",
      "20190710_083235 [0.25 0.5  0.75 1.  ]\n",
      "20190710_083235 [0.25 0.5  0.75 1.  ]\n",
      "20190710_083235 [0.25 0.5  0.75 1.  ]\n",
      "20190710_083235 [0.25 0.5  0.75 1.  ]\n",
      "20190710_083235 [0.25 0.5  0.75 1.  ]\n",
      "20190710_083235 [0.25 0.5  0.75 1.  ]\n",
      "20190710_083235 [0.25 0.5  0.75 1.  ]\n",
      "20190710_083235 [0.25 0.5  0.75 1.  ]\n",
      "20190710_083235 [0.25 0.5  0.75 1.  ]\n",
      "20190710_083235 [0.25 0.5  0.75 1.  ]\n",
      "20190710_083235 [0.25 0.5  0.75 1.  ]\n",
      "20190710_083235 [0.25 0.5  0.75 1.  ]\n",
      "20190710_083235 [0.25 0.5  0.75 1.  ]\n",
      "20190710_083235 [0.25 0.5  0.75 1.  ]\n",
      "20190710_083235 [0.25 0.5  0.75 1.  ]\n",
      "20190710_083235 [0.25 0.5  0.75 1.  ]\n",
      "20190710_083235 [0.25 0.5  0.75 1.  ]\n",
      "20190710_083235 [0.25 0.5  0.75 1.  ]\n",
      "20190710_083235 [0.25 0.5  0.75 1.  ]\n",
      "20190710_083235 [0.25 0.5  0.75 1.  ]\n",
      "20190710_083235 [0.25 0.5  0.75 1.  ]\n",
      "20190710_083235 [0.25 0.5  0.75 1.  ]\n",
      "20190710_083235 [0.25 0.5  0.75 1.  ]\n",
      "20190710_083235 [0.25 0.5  0.75 1.  ]\n",
      "20190710_083235 [0.25 0.5  0.75 1.  ]\n",
      "20190710_083235 [0.25 0.5  0.75 1.  ]\n",
      "20190710_083235 [0.25 0.5  0.75 1.  ]\n",
      "20190710_083235 [0.25 0.5  0.75 1.  ]\n",
      "20190710_083235 [0.25 0.5  0.75 1.  ]\n",
      "20190710_083235 [0.25 0.5  0.75 1.  ]\n",
      "20190710_083235 [0.25 0.5  0.75 1.  ]\n",
      "20190710_083235 [0.25 0.5  0.75 1.  ]\n",
      "20190710_083235 [0.25 0.5  0.75 1.  ]\n",
      "20190710_083235 [0.25 0.5  0.75 1.  ]\n",
      "20190710_083235 [0.25 0.5  0.75 1.  ]\n",
      "20190710_083235 [0.25 0.5  0.75 1.  ]\n",
      "20190710_083235 [0.25 0.5  0.75 1.  ]\n",
      "20190710_083235 [0.25 0.5  0.75 1.  ]\n",
      "20190710_083235 [0.25 0.5  0.75 1.  ]\n",
      "20190710_083235 [0.25 0.5  0.75 1.  ]\n",
      "20190710_083235 [0.25 0.5  0.75 1.  ]\n",
      "20190710_083235 [0.25 0.5  0.75 1.  ]\n",
      "20190710_083235 [0.25 0.5  0.75 1.  ]\n",
      "20190710_083235 [0.25 0.5  0.75 1.  ]\n",
      "20190710_083235 [0.25 0.5  0.75 1.  ]\n",
      "20190710_083235 [0.25 0.5  0.75 1.  ]\n",
      "20190710_083235 [0.25 0.5  0.75 1.  ]\n",
      "20190710_083235 [0.25 0.5  0.75 1.  ]\n",
      "20190710_083235 [0.25 0.5  0.75 1.  ]\n",
      "20190710_083235 [0.25 0.5  0.75 1.  ]\n",
      "20190710_083235 [0.25 0.5  0.75 1.  ]\n",
      "20190710_083235 [0.25 0.5  0.75 1.  ]\n",
      "20190710_083235 [0.25 0.5  0.75 1.  ]\n",
      "20190710_083235 [0.25 0.5  0.75 1.  ]\n",
      "20190710_083235 [0.25 0.5  0.75 1.  ]\n",
      "20190710_083235 [0.25 0.5  0.75 1.  ]\n",
      "20190710_083235 [0.25 0.5  0.75 1.  ]\n",
      "20190710_083235 [0.25 0.5  0.75 1.  ]\n",
      "20190710_083235 [0.25 0.5  0.75 1.  ]\n",
      "20190710_083235 [0.25 0.5  0.75 1.  ]\n",
      "20190710_083235 [0.25 0.5  0.75 1.  ]\n",
      "20190710_083235 [0.25 0.5  0.75 1.  ]\n",
      "20190710_083235 [0.25 0.5  0.75 1.  ]\n",
      "20190710_083235 [0.25 0.5  0.75 1.  ]\n",
      "20190710_083235 [0.25 0.5  0.75 1.  ]\n",
      "20190710_083235 [0.25 0.5  0.75 1.  ]\n",
      "20190710_083235 [0.25 0.5  0.75 1.  ]\n",
      "20190710_083235 [0.25 0.5  0.75 1.  ]\n",
      "20190710_083235 [0.25 0.5  0.75 1.  ]\n",
      "20190710_083235 [0.25 0.5  0.75 1.  ]\n",
      "20190710_083235 [0.25 0.5  0.75 1.  ]\n",
      "20190710_083235 [0.25 0.5  0.75 1.  ]\n",
      "20190710_083235 [0.25 0.5  0.75 1.  ]\n",
      "20190710_083235 [0.25 0.5  0.75 1.  ]\n",
      "20190710_083235 [0.25 0.5  0.75 1.  ]\n",
      "20190710_083235 [0.25 0.5  0.75 1.  ]\n",
      "20190710_083235 [0.25 0.5  0.75 1.  ]\n",
      "20190710_083235 [0.25 0.5  0.75 1.  ]\n",
      "20190710_083235 [0.25 0.5  0.75 1.  ]\n",
      "20190710_083235 [0.25 0.5  0.75 1.  ]\n",
      "20190710_083235 [0.25 0.5  0.75 1.  ]\n",
      "20190710_083235 [0.25 0.5  0.75 1.  ]\n",
      "20190710_083235 [0.25 0.5  0.75 1.  ]\n",
      "20190710_083235 [0.25 0.5  0.75 1.  ]\n",
      "20190710_083235 [0.25 0.5  0.75 1.  ]\n",
      "20190710_083235 [0.25 0.5  0.75 1.  ]\n",
      "20190710_083235 [0.25 0.5  0.75 1.  ]\n",
      "20190710_083235 [0.25 0.5  0.75 1.  ]\n",
      "20190710_083235 [0.25 0.5  0.75 1.  ]\n",
      "20190710_083235 [0.25 0.5  0.75 1.  ]\n",
      "20190710_083235 [0.25 0.5  0.75 1.  ]\n",
      "20190710_083235 [0.25 0.5  0.75 1.  ]\n",
      "20190710_083235 [0.25 0.5  0.75 1.  ]\n",
      "20190710_083235 [0.25 0.5  0.75 1.  ]\n",
      "20190710_083235 [0.25 0.5  0.75 1.  ]\n",
      "20190710_083235 [0.25 0.5  0.75 1.  ]\n",
      "20190710_083235 [0.25 0.5  0.75 1.  ]\n",
      "20190710_083235 [0.25 0.5  0.75 1.  ]\n",
      "20190710_083235 [0.25 0.5  0.75 1.  ]\n",
      "20190710_083235 [0.25 0.5  0.75 1.  ]\n",
      "20190710_083235 [0.25 0.5  0.75 1.  ]\n",
      "20190710_083235 [0.25 0.5  0.75 1.  ]\n",
      "20190710_083235 [0.25 0.5  0.75 1.  ]\n",
      "20190710_083235 [0.25 0.5  0.75 1.  ]\n",
      "20190710_083235 [0.25 0.5  0.75 1.  ]\n",
      "20190710_083235 [0.25 0.5  0.75 1.  ]\n",
      "20190710_083235 [0.25 0.5  0.75 1.  ]\n",
      "20190710_083235 [0.25 0.5  0.75 1.  ]\n",
      "20190710_083235 [0.25 0.5  0.75 1.  ]\n",
      "20190710_083235 [0.25 0.5  0.75 1.  ]\n",
      "20190710_083235 [0.25 0.5  0.75 1.  ]\n",
      "20190710_083235 [0.25 0.5  0.75 1.  ]\n",
      "20190710_083235 [0.25 0.5  0.75 1.  ]\n",
      "20190710_083235 [0.25 0.5  0.75 1.  ]\n",
      "20190710_083235 [0.25 0.5  0.75 1.  ]\n",
      "20190710_083235 [0.25 0.5  0.75 1.  ]\n",
      "20190710_083235 [0.25 0.5  0.75 1.  ]\n",
      "20190710_083235 [0.25 0.5  0.75 1.  ]\n",
      "20190710_083235 [0.25 0.5  0.75 1.  ]\n",
      "20190710_083235 [0.25 0.5  0.75 1.  ]\n",
      "20190710_083235 [0.25 0.5  0.75 1.  ]\n",
      "20190710_083235 [0.25 0.5  0.75 1.  ]\n",
      "20190710_083235 [0.25 0.5  0.75 1.  ]\n",
      "20190710_083235 [0.25 0.5  0.75 1.  ]\n",
      "20190710_083235 [0.25 0.5  0.75 1.  ]\n",
      "20190710_083235 [0.25 0.5  0.75 1.  ]\n",
      "20190710_083235 [0.25 0.5  0.75 1.  ]\n",
      "20190710_083235 [0.25 0.5  0.75 1.  ]\n",
      "20190710_083235 [0.25 0.5  0.75 1.  ]\n",
      "20190710_083235 [0.25 0.5  0.75 1.  ]\n",
      "20190710_083235 [0.25 0.5  0.75 1.  ]\n",
      "20190710_083235 [0.25 0.5  0.75 1.  ]\n",
      "20190710_083235 [0.25 0.5  0.75 1.  ]\n",
      "20190710_083235 [0.25 0.5  0.75 1.  ]\n",
      "20190710_083235 [0.25 0.5  0.75 1.  ]\n"
     ]
    },
    {
     "ename": "ValueError",
     "evalue": "Empty stack for 1956",
     "output_type": "error",
     "traceback": [
      "\u001b[1;31m---------------------------------------------------------------------------\u001b[0m",
      "\u001b[1;31mValueError\u001b[0m                                Traceback (most recent call last)",
      "\u001b[1;32m<ipython-input-60-37d473806281>\u001b[0m in \u001b[0;36m<module>\u001b[1;34m\u001b[0m\n\u001b[1;32m----> 1\u001b[1;33m \u001b[0mstate_list\u001b[0m\u001b[1;33m,\u001b[0m \u001b[0maction_list\u001b[0m\u001b[1;33m,\u001b[0m \u001b[0mreward_list\u001b[0m\u001b[1;33m,\u001b[0m \u001b[0mnext_state_list\u001b[0m \u001b[1;33m=\u001b[0m \u001b[0mdqn_memory\u001b[0m\u001b[1;33m.\u001b[0m\u001b[0msample_memory\u001b[0m\u001b[1;33m(\u001b[0m\u001b[1;33m)\u001b[0m\u001b[1;33m\u001b[0m\u001b[1;33m\u001b[0m\u001b[0m\n\u001b[0m",
      "\u001b[1;32mE:\\programming\\DQN-Breakout-v0\\dqn_utils.py\u001b[0m in \u001b[0;36msample_memory\u001b[1;34m(self, size)\u001b[0m\n\u001b[0;32m    173\u001b[0m             \u001b[0mreward\u001b[0m \u001b[1;33m=\u001b[0m \u001b[0mself\u001b[0m\u001b[1;33m.\u001b[0m\u001b[0mrewards\u001b[0m\u001b[1;33m[\u001b[0m\u001b[0midx\u001b[0m\u001b[1;33m]\u001b[0m\u001b[1;33m\u001b[0m\u001b[1;33m\u001b[0m\u001b[0m\n\u001b[0;32m    174\u001b[0m \u001b[1;33m\u001b[0m\u001b[0m\n\u001b[1;32m--> 175\u001b[1;33m             \u001b[0mnext_state\u001b[0m \u001b[1;33m=\u001b[0m \u001b[0mself\u001b[0m\u001b[1;33m.\u001b[0m\u001b[0mget_state\u001b[0m\u001b[1;33m(\u001b[0m\u001b[0midx\u001b[0m \u001b[1;33m+\u001b[0m \u001b[1;36m1\u001b[0m\u001b[1;33m,\u001b[0m \u001b[0mnext_state\u001b[0m\u001b[1;33m=\u001b[0m\u001b[1;32mTrue\u001b[0m\u001b[1;33m)\u001b[0m\u001b[1;33m\u001b[0m\u001b[1;33m\u001b[0m\u001b[0m\n\u001b[0m\u001b[0;32m    176\u001b[0m             \u001b[0mnext_state\u001b[0m \u001b[1;33m=\u001b[0m \u001b[0mray_trace\u001b[0m\u001b[1;33m(\u001b[0m\u001b[0mnext_state\u001b[0m\u001b[1;33m)\u001b[0m\u001b[1;33m\u001b[0m\u001b[1;33m\u001b[0m\u001b[0m\n\u001b[0;32m    177\u001b[0m \u001b[1;33m\u001b[0m\u001b[0m\n",
      "\u001b[1;32mE:\\programming\\DQN-Breakout-v0\\dqn_utils.py\u001b[0m in \u001b[0;36mget_state\u001b[1;34m(self, idx, state_count, next_state)\u001b[0m\n\u001b[0;32m    109\u001b[0m \u001b[1;33m\u001b[0m\u001b[0m\n\u001b[0;32m    110\u001b[0m         \u001b[1;32mif\u001b[0m \u001b[0mlen\u001b[0m\u001b[1;33m(\u001b[0m\u001b[0mstate_stack\u001b[0m\u001b[1;33m)\u001b[0m \u001b[1;33m==\u001b[0m \u001b[1;36m0\u001b[0m\u001b[1;33m:\u001b[0m\u001b[1;33m\u001b[0m\u001b[1;33m\u001b[0m\u001b[0m\n\u001b[1;32m--> 111\u001b[1;33m             \u001b[1;32mraise\u001b[0m \u001b[0mValueError\u001b[0m\u001b[1;33m(\u001b[0m\u001b[1;34mf'Empty stack for {idx}'\u001b[0m\u001b[1;33m)\u001b[0m\u001b[1;33m\u001b[0m\u001b[1;33m\u001b[0m\u001b[0m\n\u001b[0m\u001b[0;32m    112\u001b[0m             \u001b[1;32mreturn\u001b[0m \u001b[1;32mNone\u001b[0m\u001b[1;33m\u001b[0m\u001b[1;33m\u001b[0m\u001b[0m\n\u001b[0;32m    113\u001b[0m \u001b[1;33m\u001b[0m\u001b[0m\n",
      "\u001b[1;31mValueError\u001b[0m: Empty stack for 1956"
     ]
    }
   ],
   "source": [
    "state_list, action_list, reward_list, next_state_list = dqn_memory.sample_memory()"
   ]
  },
  {
   "cell_type": "code",
   "execution_count": 62,
   "metadata": {},
   "outputs": [
    {
     "data": {
      "text/plain": [
       "<matplotlib.image.AxesImage at 0x25e817b5048>"
      ]
     },
     "execution_count": 62,
     "metadata": {},
     "output_type": "execute_result"
    },
    {
     "data": {
      "image/png": "[encoded data removed]",
      "text/plain": [
       "<Figure size 432x288 with 1 Axes>"
      ]
     },
     "metadata": {
      "needs_background": "light"
     },
     "output_type": "display_data"
    }
   ],
   "source": [
    "plt.imshow(dqn_memory.states[1956])"
   ]
  }
 ],
 "metadata": {
  "kernelspec": {
   "display_name": "Python 3",
   "language": "python",
   "name": "python3"
  },
  "language_info": {
   "codemirror_mode": {
    "name": "ipython",
    "version": 3
   },
   "file_extension": ".py",
   "mimetype": "text/x-python",
   "name": "python",
   "nbconvert_exporter": "python",
   "pygments_lexer": "ipython3",
   "version": "3.7.3"
  }
 },
 "nbformat": 4,
 "nbformat_minor": 2
}
