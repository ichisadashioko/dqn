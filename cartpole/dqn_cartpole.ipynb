{
 "cells": [
  {
   "cell_type": "code",
   "execution_count": 1,
   "metadata": {},
   "outputs": [],
   "source": [
    "import os\n",
    "import time\n",
    "import math\n",
    "import random\n",
    "from datetime import datetime\n",
    "from collections import namedtuple\n",
    "\n",
    "from tqdm import tqdm\n",
    "\n",
    "import numpy as np\n",
    "import matplotlib.pyplot as plt\n",
    "\n",
    "import gym\n",
    "from gym.envs.registration import register"
   ]
  },
  {
   "cell_type": "code",
   "execution_count": 2,
   "metadata": {},
   "outputs": [],
   "source": [
    "# disable TensorFlow logs\n",
    "os.environ['TF_CPP_MIN_LOG_LEVEL'] = '3'\n",
    "import tensorflow as tf\n",
    "\n",
    "from tensorflow import keras\n",
    "from tensorflow.keras.layers import Conv2D, Dense, Flatten\n",
    "from tensorflow.keras.optimizers import RMSprop"
   ]
  },
  {
   "cell_type": "code",
   "execution_count": 3,
   "metadata": {},
   "outputs": [],
   "source": [
    "Transition = namedtuple('Transition', ('state', 'action', 'next_state', 'reward'))\n",
    "\n",
    "class ReplayMemory(object):\n",
    "    def __init__(self, capacity=1_000_000):\n",
    "        self.capacity = capacity\n",
    "        self.memory = []\n",
    "        self.position = 0\n",
    "\n",
    "    def push(self, *args):\n",
    "        if len(self.memory) < self.capacity:\n",
    "            self.memory.append(None)\n",
    "        self.memory[self.position] = Transition(*args)\n",
    "        self.position = (self.position + 1) % self.capacity\n",
    "\n",
    "    def sample(self, batch_size=32):\n",
    "        return random.sample(self.memory, batch_size)\n",
    "\n",
    "    def __len__(self):\n",
    "        return len(self.memory)"
   ]
  },
  {
   "cell_type": "code",
   "execution_count": 4,
   "metadata": {},
   "outputs": [
    {
     "data": {
      "text/plain": [
       "0"
      ]
     },
     "execution_count": 4,
     "metadata": {},
     "output_type": "execute_result"
    }
   ],
   "source": [
    "memory = ReplayMemory()\n",
    "len(memory)"
   ]
  },
  {
   "cell_type": "code",
   "execution_count": 5,
   "metadata": {},
   "outputs": [],
   "source": [
    "env_name = 'CartPole-v0'\n",
    "env = gym.make(env_name)"
   ]
  },
  {
   "cell_type": "markdown",
   "metadata": {},
   "source": [
    "## Hyperparameters"
   ]
  },
  {
   "cell_type": "code",
   "execution_count": 12,
   "metadata": {},
   "outputs": [],
   "source": [
    "input_shape = env.observation_space.shape\n",
    "n_actions = env.action_space.n\n",
    "lr = 0.0001\n",
    "BATCH_SIZE = 32\n",
    "GAMMA = 0.99\n",
    "update_freq = 10_000\n",
    "\n",
    "EPS_START = 1 # initial value of epsilon\n",
    "EPS_END = 0.1 # final value of epsilon\n",
    "EPS_DECAY = 20_000 # number of steps until epsilon reach its final value\n",
    "steps_done = 0"
   ]
  },
  {
   "cell_type": "code",
   "execution_count": 7,
   "metadata": {},
   "outputs": [],
   "source": [
    "def create_network(name, input_shape, n_actions, lr):\n",
    "    model = keras.Sequential(name=name, layers=[\n",
    "        Dense(\n",
    "            name=f'{name}_dense_01',\n",
    "            units=32,\n",
    "            input_shape=input_shape,\n",
    "            # activation='sigmoid',\n",
    "        ),\n",
    "        Dense(\n",
    "            name=f'{name}_dense_02',\n",
    "            units=32,\n",
    "            # activation='sigmoid',\n",
    "        ),\n",
    "        Dense(\n",
    "            name=f'{name}_dense_03',\n",
    "            units=n_actions,\n",
    "            activation='linear',\n",
    "        )\n",
    "    ])\n",
    "\n",
    "    optimizer = RMSprop(lr=lr)\n",
    "\n",
    "    model.compile(\n",
    "        optimizer=optimizer,\n",
    "        loss='mse',\n",
    "    )\n",
    "\n",
    "    return model"
   ]
  },
  {
   "cell_type": "code",
   "execution_count": 8,
   "metadata": {},
   "outputs": [
    {
     "name": "stdout",
     "output_type": "stream",
     "text": [
      "Model: \"target_net\"\n",
      "_________________________________________________________________\n",
      "Layer (type)                 Output Shape              Param #   \n",
      "=================================================================\n",
      "target_net_dense_01 (Dense)  (None, 32)                160       \n",
      "_________________________________________________________________\n",
      "target_net_dense_02 (Dense)  (None, 32)                1056      \n",
      "_________________________________________________________________\n",
      "target_net_dense_03 (Dense)  (None, 2)                 66        \n",
      "=================================================================\n",
      "Total params: 1,282\n",
      "Trainable params: 1,282\n",
      "Non-trainable params: 0\n",
      "_________________________________________________________________\n",
      "Model: \"policy_net\"\n",
      "_________________________________________________________________\n",
      "Layer (type)                 Output Shape              Param #   \n",
      "=================================================================\n",
      "policy_net_dense_01 (Dense)  (None, 32)                160       \n",
      "_________________________________________________________________\n",
      "policy_net_dense_02 (Dense)  (None, 32)                1056      \n",
      "_________________________________________________________________\n",
      "policy_net_dense_03 (Dense)  (None, 2)                 66        \n",
      "=================================================================\n",
      "Total params: 1,282\n",
      "Trainable params: 1,282\n",
      "Non-trainable params: 0\n",
      "_________________________________________________________________\n"
     ]
    }
   ],
   "source": [
    "target_net = create_network(\n",
    "    name='target_net',\n",
    "    input_shape=input_shape,\n",
    "    n_actions=n_actions,\n",
    "    lr=lr\n",
    ")\n",
    "\n",
    "target_net.summary()\n",
    "\n",
    "policy_net = create_network(\n",
    "    name='policy_net',\n",
    "    input_shape=input_shape,\n",
    "    n_actions=n_actions,\n",
    "    lr=lr\n",
    ")\n",
    "\n",
    "policy_net.summary()"
   ]
  },
  {
   "cell_type": "code",
   "execution_count": 9,
   "metadata": {},
   "outputs": [],
   "source": [
    "def target_to_policy():\n",
    "    for i in range(len(policy_net.weights)):\n",
    "        tf.keras.backend.set_value(policy_net.weights[i], target_net.weights[i].numpy())\n",
    "\n",
    "def policy_to_target():\n",
    "    for i in range(len(target_net.weights)):\n",
    "        tf.keras.backend.set_value(target_net.weights[i], policy_net.weights[i].numpy())"
   ]
  },
  {
   "cell_type": "markdown",
   "metadata": {},
   "source": [
    "Copy weights from target network to policy network"
   ]
  },
  {
   "cell_type": "code",
   "execution_count": 10,
   "metadata": {},
   "outputs": [],
   "source": [
    "target_to_policy()"
   ]
  },
  {
   "cell_type": "code",
   "execution_count": 13,
   "metadata": {},
   "outputs": [],
   "source": [
    "def select_action(state):\n",
    "    sample = random.random()\n",
    "    eps_threshold = EPS_END + (EPS_START - EPS_END) * math.exp(-1. * steps_done / EPS_DECAY)\n",
    "    if sample > eps_threshold:\n",
    "        batch = np.array([state])\n",
    "        action = np.argmax(policy_net.predict(batch)[0])\n",
    "    else:\n",
    "        action = random.randrange(n_actions)\n",
    "\n",
    "    return action"
   ]
  },
  {
   "cell_type": "code",
   "execution_count": 14,
   "metadata": {},
   "outputs": [],
   "source": [
    "def optimize_model():\n",
    "    if len(memory) < BATCH_SIZE:\n",
    "        return\n",
    "    \n",
    "    transitions = memory.sample(BATCH_SIZE)\n",
    "    # transpose the batch\n",
    "    batch = Transition(*zip(*transitions))\n",
    "    \n",
    "    s = np.array(batch.state)\n",
    "    a = np.array(batch.action)\n",
    "    r = np.array(batch.reward)\n",
    "    \n",
    "    non_final_mask = np.array(list(map(lambda s: s is not None, batch.next_state)))\n",
    "    non_final_s2 = np.array([s for s in batch.next_state if s is not None])\n",
    "    \n",
    "    # compute V(s_{t+1}) for all next states (except for terminal states)\n",
    "    s2_values = target_net.predict(non_final_s2)\n",
    "    target_q = np.zeros((BATCH_SIZE, n_actions), dtype=np.float32)\n",
    "    s2_index = 0\n",
    "    for i in range(BATCH_SIZE):\n",
    "        if non_final_mask[i]:\n",
    "            target_q[i][a[i]] = np.max(s2_values[s2_index]) * GAMMA + r[i]\n",
    "            s2_index += 1\n",
    "    \n",
    "    policy_net.fit(\n",
    "        x=s,\n",
    "        y=target_q,\n",
    "        verbose=0,\n",
    "    )"
   ]
  },
  {
   "cell_type": "markdown",
   "metadata": {},
   "source": [
    "## Training loop"
   ]
  },
  {
   "cell_type": "code",
   "execution_count": 15,
   "metadata": {},
   "outputs": [
    {
     "name": "stderr",
     "output_type": "stream",
     "text": [
      "100%|█████████████████████████████████████████████████████████████████████████| 100000/100000 [10:44<00:00, 155.04it/s]\n"
     ]
    }
   ],
   "source": [
    "state = env.reset()\n",
    "reward = 0\n",
    "\n",
    "for step_num in tqdm(range(100_000)):\n",
    "    action = random.randrange(n_actions)\n",
    "    next_state, reward, done, info = env.step(action)\n",
    "    \n",
    "    if done:\n",
    "        next_state = None\n",
    "    memory.push(state, action, next_state, reward)\n",
    "    \n",
    "    if done:\n",
    "        state = env.reset()\n",
    "    else:\n",
    "        state = next_state\n",
    "    \n",
    "    optimize_model()\n",
    "    \n",
    "    if step_num % update_freq == 0:\n",
    "        policy_to_target()"
   ]
  },
  {
   "cell_type": "markdown",
   "metadata": {},
   "source": [
    "## Populate memory for testing"
   ]
  },
  {
   "cell_type": "code",
   "execution_count": null,
   "metadata": {},
   "outputs": [],
   "source": [
    "state = env.reset()\n",
    "reward = 0\n",
    "\n",
    "for _ in tqdm(range(100_000)):\n",
    "    action = random.randrange(n_actions)\n",
    "    next_state, reward, done, info = env.step(action)\n",
    "    \n",
    "    if done:\n",
    "        next_state = None\n",
    "    memory.push(state, action, next_state, reward)\n",
    "    \n",
    "    if done:\n",
    "        state = env.reset()\n",
    "    else:\n",
    "        state = next_state"
   ]
  },
  {
   "cell_type": "markdown",
   "metadata": {},
   "source": [
    "## Evaluate target network"
   ]
  },
  {
   "cell_type": "markdown",
   "metadata": {},
   "source": [
    "Use random as baseline"
   ]
  },
  {
   "cell_type": "code",
   "execution_count": 26,
   "metadata": {},
   "outputs": [
    {
     "name": "stdout",
     "output_type": "stream",
     "text": [
      "Total reward: 34.0\n"
     ]
    },
    {
     "data": {
      "text/plain": [
       "[<matplotlib.lines.Line2D at 0x19e8d276cf8>]"
      ]
     },
     "execution_count": 26,
     "metadata": {},
     "output_type": "execute_result"
    },
    {
     "data": {
      "image/png": "[encoded data removed]",
      "text/plain": [
       "<Figure size 432x288 with 1 Axes>"
      ]
     },
     "metadata": {
      "needs_background": "light"
     },
     "output_type": "display_data"
    }
   ],
   "source": [
    "state = env.reset()\n",
    "\n",
    "total_reward = 0\n",
    "max_steps = 2_000\n",
    "action_log = []\n",
    "\n",
    "for _ in range(max_steps):\n",
    "    action = random.randrange(env.action_space.n)\n",
    "    action_log.append(action)\n",
    "    next_state, reward, done, info = env.step(action)\n",
    "    total_reward += reward\n",
    "    \n",
    "    state = next_state\n",
    "\n",
    "    if done:\n",
    "        break\n",
    "\n",
    "print('Total reward:', total_reward)\n",
    "action_log = np.array(action_log)\n",
    "plt.plot(action_log)"
   ]
  },
  {
   "cell_type": "code",
   "execution_count": 25,
   "metadata": {},
   "outputs": [
    {
     "name": "stdout",
     "output_type": "stream",
     "text": [
      "Total reward: 9.0\n"
     ]
    },
    {
     "data": {
      "text/plain": [
       "[<matplotlib.lines.Line2D at 0x19e8cc68358>]"
      ]
     },
     "execution_count": 25,
     "metadata": {},
     "output_type": "execute_result"
    },
    {
     "data": {
      "image/png": "[encoded data removed]",
      "text/plain": [
       "<Figure size 432x288 with 1 Axes>"
      ]
     },
     "metadata": {
      "needs_background": "light"
     },
     "output_type": "display_data"
    }
   ],
   "source": [
    "state = env.reset()\n",
    "\n",
    "total_reward = 0\n",
    "max_steps = 2_000\n",
    "action_log = []\n",
    "\n",
    "for _ in range(max_steps):\n",
    "    action = np.argmax(target_net.predict(np.array([state]))[0])\n",
    "    action_log.append(action)\n",
    "    next_state, reward, done, info = env.step(action)\n",
    "    total_reward += reward\n",
    "    \n",
    "    state = next_state\n",
    "\n",
    "    if done:\n",
    "        break\n",
    "\n",
    "print('Total reward:', total_reward)\n",
    "action_log = np.array(action_log)\n",
    "plt.plot(action_log)"
   ]
  },
  {
   "cell_type": "markdown",
   "metadata": {},
   "source": [
    "## Evaluate visually"
   ]
  },
  {
   "cell_type": "code",
   "execution_count": 36,
   "metadata": {},
   "outputs": [
    {
     "data": {
      "image/png": "[encoded data removed]",
      "text/plain": [
       "<Figure size 432x288 with 1 Axes>"
      ]
     },
     "metadata": {
      "needs_background": "light"
     },
     "output_type": "display_data"
    }
   ],
   "source": [
    "transitions = memory.sample(BATCH_SIZE)\n",
    "# transpose the batch\n",
    "batch = Transition(*zip(*transitions))\n",
    "\n",
    "s = np.array(batch.state)\n",
    "a = np.array(batch.action)\n",
    "r = np.array(batch.reward)\n",
    "\n",
    "non_final_mask = np.array(list(map(lambda s: s is not None, batch.next_state)))\n",
    "non_final_s2 = np.array([s for s in batch.next_state if s is not None])\n",
    "\n",
    "# compute V(s_{t+1}) for all next states (except for terminal states)\n",
    "s2_values = target_net.predict(non_final_s2)\n",
    "target_q = np.zeros((BATCH_SIZE, n_actions), dtype=np.float32)\n",
    "\n",
    "# DEBUG\n",
    "s_q = target_net.predict(s)\n",
    "_old_q = []\n",
    "_target_q = []\n",
    "# END_DEBUG\n",
    "\n",
    "s2_index = 0\n",
    "for i in range(BATCH_SIZE):\n",
    "    if non_final_mask[i]:\n",
    "        target_q[i][a[i]] = np.max(s2_values[s2_index]) * GAMMA + r[i]\n",
    "        # DEBUG\n",
    "        _old_q.append(s_q[i][a[i]])\n",
    "        _target_q.append(target_q[i][a[i]])\n",
    "        # END_DEBUG\n",
    "        s2_index += 1\n",
    "    else:\n",
    "        # DEBUG\n",
    "        _old_q.append(s_q[i][a[i]])\n",
    "        _target_q.append(0)\n",
    "        # END_DEBUG\n",
    "_old_q = np.array(_old_q)\n",
    "_target_q = np.array(_target_q)\n",
    "\n",
    "plt.plot(_old_q, label='Old Q')\n",
    "plt.plot(_target_q, label='Target Q')\n",
    "plt.legend()\n",
    "plt.grid()"
   ]
  }
 ],
 "metadata": {
  "kernelspec": {
   "display_name": "Python 3",
   "language": "python",
   "name": "python3"
  },
  "language_info": {
   "codemirror_mode": {
    "name": "ipython",
    "version": 3
   },
   "file_extension": ".py",
   "mimetype": "text/x-python",
   "name": "python",
   "nbconvert_exporter": "python",
   "pygments_lexer": "ipython3",
   "version": "3.7.3"
  }
 },
 "nbformat": 4,
 "nbformat_minor": 2
}
