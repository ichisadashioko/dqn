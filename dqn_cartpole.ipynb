{
  "nbformat": 4,
  "nbformat_minor": 0,
  "metadata": {
    "kernelspec": {
      "display_name": "Python 3",
      "language": "python",
      "name": "python3"
    },
    "language_info": {
      "codemirror_mode": {
        "name": "ipython",
        "version": 3
      },
      "file_extension": ".py",
      "mimetype": "text/x-python",
      "name": "python",
      "nbconvert_exporter": "python",
      "pygments_lexer": "ipython3",
      "version": "3.7.3"
    },
    "colab": {
      "name": "dqn_cartpole.ipynb",
      "version": "0.3.2",
      "provenance": [],
      "collapsed_sections": [],
      "include_colab_link": true
    }
  },
  "cells": [
    {
      "cell_type": "markdown",
      "metadata": {
        "id": "view-in-github",
        "colab_type": "text"
      },
      "source": [
        "<a href=\"https://colab.research.google.com/github/ichisadashioko/dqn/blob/master/dqn_cartpole.ipynb\" target=\"_parent\"><img src=\"https://colab.research.google.com/assets/colab-badge.svg\" alt=\"Open In Colab\"/></a>"
      ]
    },
    {
      "cell_type": "code",
      "metadata": {
        "id": "_CTS0EC87ODi",
        "colab_type": "code",
        "outputId": "6a3f936a-f063-4ee1-c4ee-5ffa5952e040",
        "colab": {
          "base_uri": "https://localhost:8080/",
          "height": 564
        }
      },
      "source": [
        "!pip install tensorflow==2.0.0-beta1"
      ],
      "execution_count": 1,
      "outputs": [
        {
          "output_type": "stream",
          "text": [
            "Collecting tensorflow==2.0.0-beta1\n",
            "\u001b[?25l  Downloading https://files.pythonhosted.org/packages/29/6c/2c9a5c4d095c63c2fb37d20def0e4f92685f7aee9243d6aae25862694fd1/tensorflow-2.0.0b1-cp36-cp36m-manylinux1_x86_64.whl (87.9MB)\n",
            "\u001b[K     |████████████████████████████████| 87.9MB 295kB/s \n",
            "\u001b[?25hRequirement already satisfied: wrapt>=1.11.1 in /usr/local/lib/python3.6/dist-packages (from tensorflow==2.0.0-beta1) (1.11.2)\n",
            "Requirement already satisfied: wheel>=0.26 in /usr/local/lib/python3.6/dist-packages (from tensorflow==2.0.0-beta1) (0.33.4)\n",
            "Requirement already satisfied: termcolor>=1.1.0 in /usr/local/lib/python3.6/dist-packages (from tensorflow==2.0.0-beta1) (1.1.0)\n",
            "Requirement already satisfied: gast>=0.2.0 in /usr/local/lib/python3.6/dist-packages (from tensorflow==2.0.0-beta1) (0.2.2)\n",
            "Collecting tf-estimator-nightly<1.14.0.dev2019060502,>=1.14.0.dev2019060501 (from tensorflow==2.0.0-beta1)\n",
            "\u001b[?25l  Downloading https://files.pythonhosted.org/packages/32/dd/99c47dd007dcf10d63fd895611b063732646f23059c618a373e85019eb0e/tf_estimator_nightly-1.14.0.dev2019060501-py2.py3-none-any.whl (496kB)\n",
            "\u001b[K     |████████████████████████████████| 501kB 37.9MB/s \n",
            "\u001b[?25hRequirement already satisfied: numpy<2.0,>=1.14.5 in /usr/local/lib/python3.6/dist-packages (from tensorflow==2.0.0-beta1) (1.16.4)\n",
            "Requirement already satisfied: protobuf>=3.6.1 in /usr/local/lib/python3.6/dist-packages (from tensorflow==2.0.0-beta1) (3.7.1)\n",
            "Requirement already satisfied: grpcio>=1.8.6 in /usr/local/lib/python3.6/dist-packages (from tensorflow==2.0.0-beta1) (1.15.0)\n",
            "Requirement already satisfied: astor>=0.6.0 in /usr/local/lib/python3.6/dist-packages (from tensorflow==2.0.0-beta1) (0.8.0)\n",
            "Requirement already satisfied: six>=1.10.0 in /usr/local/lib/python3.6/dist-packages (from tensorflow==2.0.0-beta1) (1.12.0)\n",
            "Requirement already satisfied: google-pasta>=0.1.6 in /usr/local/lib/python3.6/dist-packages (from tensorflow==2.0.0-beta1) (0.1.7)\n",
            "Collecting tb-nightly<1.14.0a20190604,>=1.14.0a20190603 (from tensorflow==2.0.0-beta1)\n",
            "\u001b[?25l  Downloading https://files.pythonhosted.org/packages/a4/96/571b875cd81dda9d5dfa1422a4f9d749e67c0a8d4f4f0b33a4e5f5f35e27/tb_nightly-1.14.0a20190603-py3-none-any.whl (3.1MB)\n",
            "\u001b[K     |████████████████████████████████| 3.1MB 35.0MB/s \n",
            "\u001b[?25hRequirement already satisfied: absl-py>=0.7.0 in /usr/local/lib/python3.6/dist-packages (from tensorflow==2.0.0-beta1) (0.7.1)\n",
            "Requirement already satisfied: keras-applications>=1.0.6 in /usr/local/lib/python3.6/dist-packages (from tensorflow==2.0.0-beta1) (1.0.8)\n",
            "Requirement already satisfied: keras-preprocessing>=1.0.5 in /usr/local/lib/python3.6/dist-packages (from tensorflow==2.0.0-beta1) (1.1.0)\n",
            "Requirement already satisfied: setuptools in /usr/local/lib/python3.6/dist-packages (from protobuf>=3.6.1->tensorflow==2.0.0-beta1) (41.0.1)\n",
            "Requirement already satisfied: werkzeug>=0.11.15 in /usr/local/lib/python3.6/dist-packages (from tb-nightly<1.14.0a20190604,>=1.14.0a20190603->tensorflow==2.0.0-beta1) (0.15.5)\n",
            "Requirement already satisfied: markdown>=2.6.8 in /usr/local/lib/python3.6/dist-packages (from tb-nightly<1.14.0a20190604,>=1.14.0a20190603->tensorflow==2.0.0-beta1) (3.1.1)\n",
            "Requirement already satisfied: h5py in /usr/local/lib/python3.6/dist-packages (from keras-applications>=1.0.6->tensorflow==2.0.0-beta1) (2.8.0)\n",
            "Installing collected packages: tf-estimator-nightly, tb-nightly, tensorflow\n",
            "  Found existing installation: tensorflow 1.14.0\n",
            "    Uninstalling tensorflow-1.14.0:\n",
            "      Successfully uninstalled tensorflow-1.14.0\n",
            "Successfully installed tb-nightly-1.14.0a20190603 tensorflow-2.0.0b1 tf-estimator-nightly-1.14.0.dev2019060501\n"
          ],
          "name": "stdout"
        }
      ]
    },
    {
      "cell_type": "code",
      "metadata": {
        "id": "99I5FE3g6_NZ",
        "colab_type": "code",
        "colab": {}
      },
      "source": [
        "import os\n",
        "import time\n",
        "import math\n",
        "import random\n",
        "from datetime import datetime\n",
        "from collections import namedtuple\n",
        "\n",
        "from tqdm import tqdm\n",
        "\n",
        "import numpy as np\n",
        "import matplotlib.pyplot as plt\n",
        "\n",
        "import gym\n",
        "from gym.envs.registration import register"
      ],
      "execution_count": 0,
      "outputs": []
    },
    {
      "cell_type": "code",
      "metadata": {
        "id": "9NRxHaba6_Ne",
        "colab_type": "code",
        "colab": {}
      },
      "source": [
        "# disable TensorFlow logs\n",
        "os.environ['TF_CPP_MIN_LOG_LEVEL'] = '3'\n",
        "import tensorflow as tf\n",
        "\n",
        "from tensorflow import keras\n",
        "from tensorflow.keras.layers import Conv2D, Dense, Flatten\n",
        "from tensorflow.keras.optimizers import RMSprop"
      ],
      "execution_count": 0,
      "outputs": []
    },
    {
      "cell_type": "code",
      "metadata": {
        "id": "-noAyxK96_Nh",
        "colab_type": "code",
        "colab": {}
      },
      "source": [
        "Transition = namedtuple('Transition', ('state', 'action', 'next_state', 'reward'))\n",
        "\n",
        "class ReplayMemory(object):\n",
        "    def __init__(self, capacity=1_000_000):\n",
        "        self.capacity = capacity\n",
        "        self.memory = []\n",
        "        self.position = 0\n",
        "\n",
        "    def push(self, *args):\n",
        "        if len(self.memory) < self.capacity:\n",
        "            self.memory.append(None)\n",
        "        self.memory[self.position] = Transition(*args)\n",
        "        self.position = (self.position + 1) % self.capacity\n",
        "\n",
        "    def sample(self, batch_size=32):\n",
        "        return random.sample(self.memory, batch_size)\n",
        "\n",
        "    def __len__(self):\n",
        "        return len(self.memory)"
      ],
      "execution_count": 0,
      "outputs": []
    },
    {
      "cell_type": "code",
      "metadata": {
        "id": "gocp3-F96_Np",
        "colab_type": "code",
        "outputId": "938ec3f6-c0a9-4d5b-9c2c-fbdd90946d68",
        "colab": {
          "base_uri": "https://localhost:8080/",
          "height": 34
        }
      },
      "source": [
        "memory = ReplayMemory()\n",
        "len(memory)"
      ],
      "execution_count": 5,
      "outputs": [
        {
          "output_type": "execute_result",
          "data": {
            "text/plain": [
              "0"
            ]
          },
          "metadata": {
            "tags": []
          },
          "execution_count": 5
        }
      ]
    },
    {
      "cell_type": "code",
      "metadata": {
        "id": "NxudH-Ja6_Ny",
        "colab_type": "code",
        "colab": {}
      },
      "source": [
        "env_name = 'CartPole-v0'\n",
        "env = gym.make(env_name)"
      ],
      "execution_count": 0,
      "outputs": []
    },
    {
      "cell_type": "markdown",
      "metadata": {
        "id": "BAqmI8Tp6_N3",
        "colab_type": "text"
      },
      "source": [
        "## Hyperparameters"
      ]
    },
    {
      "cell_type": "code",
      "metadata": {
        "id": "Dp20t31JtuwA",
        "colab_type": "code",
        "colab": {}
      },
      "source": [
        "from google.colab import drive"
      ],
      "execution_count": 0,
      "outputs": []
    },
    {
      "cell_type": "code",
      "metadata": {
        "id": "Vdt3EJp2tzw7",
        "colab_type": "code",
        "colab": {
          "base_uri": "https://localhost:8080/",
          "height": 34
        },
        "outputId": "eb5d01b3-6e82-4449-9d99-5e09793c096b"
      },
      "source": [
        "mount_point = '/gdrive'\n",
        "drive.mount(mount_point, force_remount=True)"
      ],
      "execution_count": 9,
      "outputs": [
        {
          "output_type": "stream",
          "text": [
            "Mounted at /gdrive\n"
          ],
          "name": "stdout"
        }
      ]
    },
    {
      "cell_type": "code",
      "metadata": {
        "id": "XskxnshXuOXv",
        "colab_type": "code",
        "colab": {
          "base_uri": "https://localhost:8080/",
          "height": 34
        },
        "outputId": "9b715ba5-1d3a-45fb-c61c-e27d453cf25c"
      },
      "source": [
        "save_dir = f'{mount_point}/My Drive/DQN-{env_name}'\n",
        "if not os.path.exists(save_dir):\n",
        "    os.makedirs(save_dir)\n",
        "\n",
        "os.path.exists(save_dir)"
      ],
      "execution_count": 10,
      "outputs": [
        {
          "output_type": "execute_result",
          "data": {
            "text/plain": [
              "True"
            ]
          },
          "metadata": {
            "tags": []
          },
          "execution_count": 10
        }
      ]
    },
    {
      "cell_type": "code",
      "metadata": {
        "id": "UwW1nKbe6_N5",
        "colab_type": "code",
        "colab": {}
      },
      "source": [
        "input_shape = env.observation_space.shape\n",
        "n_actions = env.action_space.n\n",
        "lr = 0.000025\n",
        "BATCH_SIZE = 32\n",
        "GAMMA = 0.99\n",
        "update_freq = 10_000\n",
        "\n",
        "EPS_START = 1 # initial value of epsilon\n",
        "EPS_END = 0.1 # final value of epsilon\n",
        "EPS_DECAY = 500_000 # number of steps until epsilon reach its final value\n",
        "steps_done = 0"
      ],
      "execution_count": 0,
      "outputs": []
    },
    {
      "cell_type": "code",
      "metadata": {
        "id": "vM6yFSQL6_OB",
        "colab_type": "code",
        "colab": {}
      },
      "source": [
        "def create_network(name, input_shape, n_actions, lr, activation_name):\n",
        "    model = keras.Sequential(name=name, layers=[\n",
        "        Dense(\n",
        "            name=f'{name}_dense_01',\n",
        "            units=32,\n",
        "            input_shape=input_shape,\n",
        "            activation=activation_name,\n",
        "        ),\n",
        "        Dense(\n",
        "            name=f'{name}_dense_02',\n",
        "            units=64,\n",
        "            activation=activation_name,\n",
        "        ),\n",
        "        Dense(\n",
        "            name=f'{name}_dense_03',\n",
        "            units=n_actions,\n",
        "            activation='linear',\n",
        "        )\n",
        "    ])\n",
        "\n",
        "    optimizer = RMSprop(lr=lr)\n",
        "\n",
        "    model.compile(\n",
        "        optimizer=optimizer,\n",
        "        loss='mse',\n",
        "    )\n",
        "\n",
        "    return model"
      ],
      "execution_count": 0,
      "outputs": []
    },
    {
      "cell_type": "code",
      "metadata": {
        "id": "Th_N1LMY6_OE",
        "colab_type": "code",
        "outputId": "c2d9aee8-921a-4a38-b0dd-61aab0bce141",
        "colab": {
          "base_uri": "https://localhost:8080/",
          "height": 493
        }
      },
      "source": [
        "activation_name = 'relu'\n",
        "\n",
        "target_net = create_network(\n",
        "    name='target_net',\n",
        "    input_shape=input_shape,\n",
        "    n_actions=n_actions,\n",
        "    lr=lr,\n",
        "    activation_name=activation_name,\n",
        ")\n",
        "\n",
        "target_net.summary()\n",
        "\n",
        "policy_net = create_network(\n",
        "    name='policy_net',\n",
        "    input_shape=input_shape,\n",
        "    n_actions=n_actions,\n",
        "    lr=lr,\n",
        "    activation_name=activation_name,\n",
        ")\n",
        "\n",
        "policy_net.summary()"
      ],
      "execution_count": 13,
      "outputs": [
        {
          "output_type": "stream",
          "text": [
            "Model: \"target_net\"\n",
            "_________________________________________________________________\n",
            "Layer (type)                 Output Shape              Param #   \n",
            "=================================================================\n",
            "target_net_dense_01 (Dense)  (None, 32)                160       \n",
            "_________________________________________________________________\n",
            "target_net_dense_02 (Dense)  (None, 64)                2112      \n",
            "_________________________________________________________________\n",
            "target_net_dense_03 (Dense)  (None, 2)                 130       \n",
            "=================================================================\n",
            "Total params: 2,402\n",
            "Trainable params: 2,402\n",
            "Non-trainable params: 0\n",
            "_________________________________________________________________\n",
            "Model: \"policy_net\"\n",
            "_________________________________________________________________\n",
            "Layer (type)                 Output Shape              Param #   \n",
            "=================================================================\n",
            "policy_net_dense_01 (Dense)  (None, 32)                160       \n",
            "_________________________________________________________________\n",
            "policy_net_dense_02 (Dense)  (None, 64)                2112      \n",
            "_________________________________________________________________\n",
            "policy_net_dense_03 (Dense)  (None, 2)                 130       \n",
            "=================================================================\n",
            "Total params: 2,402\n",
            "Trainable params: 2,402\n",
            "Non-trainable params: 0\n",
            "_________________________________________________________________\n"
          ],
          "name": "stdout"
        }
      ]
    },
    {
      "cell_type": "code",
      "metadata": {
        "id": "6LeJcIiyvgqk",
        "colab_type": "code",
        "colab": {
          "base_uri": "https://localhost:8080/",
          "height": 510
        },
        "outputId": "fe6ecb5e-b2cd-4d9f-9180-766a0042a435"
      },
      "source": [
        "target_net.weights[0]"
      ],
      "execution_count": 18,
      "outputs": [
        {
          "output_type": "execute_result",
          "data": {
            "text/plain": [
              "<tf.Variable 'target_net_dense_01/kernel:0' shape=(4, 32) dtype=float32, numpy=\n",
              "array([[-0.20672755, -0.39890727, -0.3023206 , -0.15306324, -0.0504263 ,\n",
              "        -0.30436033, -0.18554416,  0.01543942, -0.16392833,  0.3728934 ,\n",
              "        -0.12361592,  0.17924345, -0.35382003,  0.21672112, -0.2847008 ,\n",
              "        -0.15062863,  0.24914968, -0.3962476 , -0.27160347, -0.37846723,\n",
              "        -0.05192614,  0.31007248, -0.2815833 ,  0.24953598, -0.17953826,\n",
              "         0.01156172,  0.36689556,  0.32648212, -0.24376868,  0.22926414,\n",
              "        -0.05253455,  0.15047795],\n",
              "       [-0.26502746,  0.29776525, -0.30775076,  0.04584703,  0.06598145,\n",
              "         0.08491805, -0.20450453,  0.23172152, -0.4015631 , -0.20350608,\n",
              "         0.06892902,  0.34053636,  0.11237335, -0.40596515, -0.34055263,\n",
              "        -0.08696938, -0.05929556, -0.37015665, -0.0396485 ,  0.26822108,\n",
              "        -0.22453305,  0.27558786,  0.2540313 ,  0.34312606,  0.34889835,\n",
              "        -0.40582487, -0.23340192, -0.10714981,  0.14393419,  0.01619822,\n",
              "         0.0005877 , -0.36849293],\n",
              "       [ 0.32146436,  0.0305911 , -0.17891338, -0.26816   , -0.40796527,\n",
              "        -0.30560836, -0.34109485,  0.36935598,  0.39086688, -0.31626934,\n",
              "         0.24758059, -0.17283887,  0.34969318, -0.12375918,  0.23493862,\n",
              "         0.19524896, -0.11544532, -0.18500231, -0.00298834, -0.11529309,\n",
              "        -0.19415997, -0.11568096, -0.32846394, -0.37679678,  0.3422913 ,\n",
              "        -0.20433196,  0.00992581, -0.01379699, -0.06656086, -0.20624487,\n",
              "         0.2501486 , -0.3870948 ],\n",
              "       [-0.28329036,  0.22753072,  0.20494694,  0.03944772,  0.3038289 ,\n",
              "        -0.32679603,  0.17263955,  0.33361804,  0.25934833, -0.1845101 ,\n",
              "        -0.21295546,  0.27121878, -0.14669126,  0.17515385, -0.05992368,\n",
              "        -0.01184729,  0.33245242, -0.24442694, -0.24533361,  0.21557444,\n",
              "        -0.03872395, -0.13150746, -0.24996603,  0.3368985 , -0.31491262,\n",
              "         0.2225349 ,  0.21052045,  0.20297563,  0.39505827, -0.02641371,\n",
              "         0.28845304,  0.06196457]], dtype=float32)>"
            ]
          },
          "metadata": {
            "tags": []
          },
          "execution_count": 18
        }
      ]
    },
    {
      "cell_type": "code",
      "metadata": {
        "id": "KTJw9j31vm1P",
        "colab_type": "code",
        "colab": {
          "base_uri": "https://localhost:8080/",
          "height": 510
        },
        "outputId": "70a09188-d287-4871-b8c4-329c64c6658c"
      },
      "source": [
        "policy_net.weights[0]"
      ],
      "execution_count": 19,
      "outputs": [
        {
          "output_type": "execute_result",
          "data": {
            "text/plain": [
              "<tf.Variable 'policy_net_dense_01/kernel:0' shape=(4, 32) dtype=float32, numpy=\n",
              "array([[-0.20672755, -0.39890727, -0.3023206 , -0.15306324, -0.0504263 ,\n",
              "        -0.30436033, -0.18554416,  0.01543942, -0.16392833,  0.3728934 ,\n",
              "        -0.12361592,  0.17924345, -0.35382003,  0.21672112, -0.2847008 ,\n",
              "        -0.15062863,  0.24914968, -0.3962476 , -0.27160347, -0.37846723,\n",
              "        -0.05192614,  0.31007248, -0.2815833 ,  0.24953598, -0.17953826,\n",
              "         0.01156172,  0.36689556,  0.32648212, -0.24376868,  0.22926414,\n",
              "        -0.05253455,  0.15047795],\n",
              "       [-0.26502746,  0.29776525, -0.30775076,  0.04584703,  0.06598145,\n",
              "         0.08491805, -0.20450453,  0.23172152, -0.4015631 , -0.20350608,\n",
              "         0.06892902,  0.34053636,  0.11237335, -0.40596515, -0.34055263,\n",
              "        -0.08696938, -0.05929556, -0.37015665, -0.0396485 ,  0.26822108,\n",
              "        -0.22453305,  0.27558786,  0.2540313 ,  0.34312606,  0.34889835,\n",
              "        -0.40582487, -0.23340192, -0.10714981,  0.14393419,  0.01619822,\n",
              "         0.0005877 , -0.36849293],\n",
              "       [ 0.32146436,  0.0305911 , -0.17891338, -0.26816   , -0.40796527,\n",
              "        -0.30560836, -0.34109485,  0.36935598,  0.39086688, -0.31626934,\n",
              "         0.24758059, -0.17283887,  0.34969318, -0.12375918,  0.23493862,\n",
              "         0.19524896, -0.11544532, -0.18500231, -0.00298834, -0.11529309,\n",
              "        -0.19415997, -0.11568096, -0.32846394, -0.37679678,  0.3422913 ,\n",
              "        -0.20433196,  0.00992581, -0.01379699, -0.06656086, -0.20624487,\n",
              "         0.2501486 , -0.3870948 ],\n",
              "       [-0.28329036,  0.22753072,  0.20494694,  0.03944772,  0.3038289 ,\n",
              "        -0.32679603,  0.17263955,  0.33361804,  0.25934833, -0.1845101 ,\n",
              "        -0.21295546,  0.27121878, -0.14669126,  0.17515385, -0.05992368,\n",
              "        -0.01184729,  0.33245242, -0.24442694, -0.24533361,  0.21557444,\n",
              "        -0.03872395, -0.13150746, -0.24996603,  0.3368985 , -0.31491262,\n",
              "         0.2225349 ,  0.21052045,  0.20297563,  0.39505827, -0.02641371,\n",
              "         0.28845304,  0.06196457]], dtype=float32)>"
            ]
          },
          "metadata": {
            "tags": []
          },
          "execution_count": 19
        }
      ]
    },
    {
      "cell_type": "code",
      "metadata": {
        "id": "wCMJR5Xd6_OL",
        "colab_type": "code",
        "colab": {}
      },
      "source": [
        "def target_to_policy():\n",
        "    for i in range(len(policy_net.weights)):\n",
        "        tf.keras.backend.set_value(policy_net.weights[i], target_net.weights[i].numpy())\n",
        "\n",
        "def policy_to_target():\n",
        "    for i in range(len(target_net.weights)):\n",
        "        tf.keras.backend.set_value(target_net.weights[i], policy_net.weights[i].numpy())"
      ],
      "execution_count": 0,
      "outputs": []
    },
    {
      "cell_type": "markdown",
      "metadata": {
        "id": "HgAoLqog6_OP",
        "colab_type": "text"
      },
      "source": [
        "Copy weights from target network to policy network"
      ]
    },
    {
      "cell_type": "code",
      "metadata": {
        "id": "sX_1GHKj6_OQ",
        "colab_type": "code",
        "colab": {}
      },
      "source": [
        "target_to_policy()"
      ],
      "execution_count": 0,
      "outputs": []
    },
    {
      "cell_type": "code",
      "metadata": {
        "id": "sW7hRaiRvyCP",
        "colab_type": "code",
        "colab": {
          "base_uri": "https://localhost:8080/",
          "height": 510
        },
        "outputId": "189a975c-009e-41c4-f861-b8530a2ab401"
      },
      "source": [
        "target_net.weights[0]"
      ],
      "execution_count": 20,
      "outputs": [
        {
          "output_type": "execute_result",
          "data": {
            "text/plain": [
              "<tf.Variable 'target_net_dense_01/kernel:0' shape=(4, 32) dtype=float32, numpy=\n",
              "array([[-0.20672755, -0.39890727, -0.3023206 , -0.15306324, -0.0504263 ,\n",
              "        -0.30436033, -0.18554416,  0.01543942, -0.16392833,  0.3728934 ,\n",
              "        -0.12361592,  0.17924345, -0.35382003,  0.21672112, -0.2847008 ,\n",
              "        -0.15062863,  0.24914968, -0.3962476 , -0.27160347, -0.37846723,\n",
              "        -0.05192614,  0.31007248, -0.2815833 ,  0.24953598, -0.17953826,\n",
              "         0.01156172,  0.36689556,  0.32648212, -0.24376868,  0.22926414,\n",
              "        -0.05253455,  0.15047795],\n",
              "       [-0.26502746,  0.29776525, -0.30775076,  0.04584703,  0.06598145,\n",
              "         0.08491805, -0.20450453,  0.23172152, -0.4015631 , -0.20350608,\n",
              "         0.06892902,  0.34053636,  0.11237335, -0.40596515, -0.34055263,\n",
              "        -0.08696938, -0.05929556, -0.37015665, -0.0396485 ,  0.26822108,\n",
              "        -0.22453305,  0.27558786,  0.2540313 ,  0.34312606,  0.34889835,\n",
              "        -0.40582487, -0.23340192, -0.10714981,  0.14393419,  0.01619822,\n",
              "         0.0005877 , -0.36849293],\n",
              "       [ 0.32146436,  0.0305911 , -0.17891338, -0.26816   , -0.40796527,\n",
              "        -0.30560836, -0.34109485,  0.36935598,  0.39086688, -0.31626934,\n",
              "         0.24758059, -0.17283887,  0.34969318, -0.12375918,  0.23493862,\n",
              "         0.19524896, -0.11544532, -0.18500231, -0.00298834, -0.11529309,\n",
              "        -0.19415997, -0.11568096, -0.32846394, -0.37679678,  0.3422913 ,\n",
              "        -0.20433196,  0.00992581, -0.01379699, -0.06656086, -0.20624487,\n",
              "         0.2501486 , -0.3870948 ],\n",
              "       [-0.28329036,  0.22753072,  0.20494694,  0.03944772,  0.3038289 ,\n",
              "        -0.32679603,  0.17263955,  0.33361804,  0.25934833, -0.1845101 ,\n",
              "        -0.21295546,  0.27121878, -0.14669126,  0.17515385, -0.05992368,\n",
              "        -0.01184729,  0.33245242, -0.24442694, -0.24533361,  0.21557444,\n",
              "        -0.03872395, -0.13150746, -0.24996603,  0.3368985 , -0.31491262,\n",
              "         0.2225349 ,  0.21052045,  0.20297563,  0.39505827, -0.02641371,\n",
              "         0.28845304,  0.06196457]], dtype=float32)>"
            ]
          },
          "metadata": {
            "tags": []
          },
          "execution_count": 20
        }
      ]
    },
    {
      "cell_type": "code",
      "metadata": {
        "id": "d7qJnxsSv7BQ",
        "colab_type": "code",
        "colab": {
          "base_uri": "https://localhost:8080/",
          "height": 510
        },
        "outputId": "06fc6bbd-72c4-4fcc-a36f-3b4e15f58e8f"
      },
      "source": [
        "policy_net.weights[0]"
      ],
      "execution_count": 21,
      "outputs": [
        {
          "output_type": "execute_result",
          "data": {
            "text/plain": [
              "<tf.Variable 'policy_net_dense_01/kernel:0' shape=(4, 32) dtype=float32, numpy=\n",
              "array([[-0.20672755, -0.39890727, -0.3023206 , -0.15306324, -0.0504263 ,\n",
              "        -0.30436033, -0.18554416,  0.01543942, -0.16392833,  0.3728934 ,\n",
              "        -0.12361592,  0.17924345, -0.35382003,  0.21672112, -0.2847008 ,\n",
              "        -0.15062863,  0.24914968, -0.3962476 , -0.27160347, -0.37846723,\n",
              "        -0.05192614,  0.31007248, -0.2815833 ,  0.24953598, -0.17953826,\n",
              "         0.01156172,  0.36689556,  0.32648212, -0.24376868,  0.22926414,\n",
              "        -0.05253455,  0.15047795],\n",
              "       [-0.26502746,  0.29776525, -0.30775076,  0.04584703,  0.06598145,\n",
              "         0.08491805, -0.20450453,  0.23172152, -0.4015631 , -0.20350608,\n",
              "         0.06892902,  0.34053636,  0.11237335, -0.40596515, -0.34055263,\n",
              "        -0.08696938, -0.05929556, -0.37015665, -0.0396485 ,  0.26822108,\n",
              "        -0.22453305,  0.27558786,  0.2540313 ,  0.34312606,  0.34889835,\n",
              "        -0.40582487, -0.23340192, -0.10714981,  0.14393419,  0.01619822,\n",
              "         0.0005877 , -0.36849293],\n",
              "       [ 0.32146436,  0.0305911 , -0.17891338, -0.26816   , -0.40796527,\n",
              "        -0.30560836, -0.34109485,  0.36935598,  0.39086688, -0.31626934,\n",
              "         0.24758059, -0.17283887,  0.34969318, -0.12375918,  0.23493862,\n",
              "         0.19524896, -0.11544532, -0.18500231, -0.00298834, -0.11529309,\n",
              "        -0.19415997, -0.11568096, -0.32846394, -0.37679678,  0.3422913 ,\n",
              "        -0.20433196,  0.00992581, -0.01379699, -0.06656086, -0.20624487,\n",
              "         0.2501486 , -0.3870948 ],\n",
              "       [-0.28329036,  0.22753072,  0.20494694,  0.03944772,  0.3038289 ,\n",
              "        -0.32679603,  0.17263955,  0.33361804,  0.25934833, -0.1845101 ,\n",
              "        -0.21295546,  0.27121878, -0.14669126,  0.17515385, -0.05992368,\n",
              "        -0.01184729,  0.33245242, -0.24442694, -0.24533361,  0.21557444,\n",
              "        -0.03872395, -0.13150746, -0.24996603,  0.3368985 , -0.31491262,\n",
              "         0.2225349 ,  0.21052045,  0.20297563,  0.39505827, -0.02641371,\n",
              "         0.28845304,  0.06196457]], dtype=float32)>"
            ]
          },
          "metadata": {
            "tags": []
          },
          "execution_count": 21
        }
      ]
    },
    {
      "cell_type": "code",
      "metadata": {
        "id": "p2mnbQNj6_OT",
        "colab_type": "code",
        "colab": {}
      },
      "source": [
        "def select_action(state):\n",
        "    sample = random.random()\n",
        "    eps_threshold = EPS_END + (EPS_START - EPS_END) * math.exp(-1. * steps_done / EPS_DECAY)\n",
        "    if sample > eps_threshold:\n",
        "        batch = np.array([state])\n",
        "        action = np.argmax(policy_net.predict(batch)[0])\n",
        "    else:\n",
        "        action = random.randrange(n_actions)\n",
        "\n",
        "    return action"
      ],
      "execution_count": 0,
      "outputs": []
    },
    {
      "cell_type": "code",
      "metadata": {
        "id": "NrxJBzXy6_OW",
        "colab_type": "code",
        "colab": {}
      },
      "source": [
        "def optimize_model():\n",
        "    if len(memory) < BATCH_SIZE:\n",
        "        return\n",
        "    \n",
        "    transitions = memory.sample(BATCH_SIZE)\n",
        "    # transpose the batch\n",
        "    batch = Transition(*zip(*transitions))\n",
        "    \n",
        "    s = np.array(batch.state)\n",
        "    a = np.array(batch.action)\n",
        "    r = np.array(batch.reward)\n",
        "    \n",
        "    non_final_mask = np.array(list(map(lambda s: s is not None, batch.next_state)))\n",
        "    non_final_s2 = np.array([s for s in batch.next_state if s is not None])\n",
        "    \n",
        "    # compute V(s_{t+1}) for all next states (except for terminal states)\n",
        "    s2_values = target_net.predict(non_final_s2)\n",
        "    target_q = np.zeros((BATCH_SIZE, n_actions), dtype=np.float32)\n",
        "    s2_index = 0\n",
        "    for i in range(BATCH_SIZE):\n",
        "        if non_final_mask[i]:\n",
        "            target_q[i][a[i]] = np.max(s2_values[s2_index]) * GAMMA + r[i]\n",
        "            s2_index += 1\n",
        "    \n",
        "    policy_net.fit(\n",
        "        x=s,\n",
        "        y=target_q,\n",
        "        verbose=0,\n",
        "    )"
      ],
      "execution_count": 0,
      "outputs": []
    },
    {
      "cell_type": "markdown",
      "metadata": {
        "id": "2WcL-WiL6_Oe",
        "colab_type": "text"
      },
      "source": [
        "## Training loop"
      ]
    },
    {
      "cell_type": "code",
      "metadata": {
        "id": "iOYJuUnF6_Oe",
        "colab_type": "code",
        "outputId": "334a6fbb-ca8a-46d3-d72c-b0eb8f3cfba3",
        "colab": {
          "base_uri": "https://localhost:8080/",
          "height": 34
        }
      },
      "source": [
        "save_freq = 25_000\n",
        "\n",
        "state = env.reset()\n",
        "reward = 0\n",
        "\n",
        "for step_num in tqdm(range(1_000_000)):\n",
        "    action = random.randrange(n_actions)\n",
        "    next_state, reward, done, info = env.step(action)\n",
        "    \n",
        "    if done:\n",
        "        next_state = None\n",
        "    memory.push(state, action, next_state, reward)\n",
        "    \n",
        "    if done:\n",
        "        state = env.reset()\n",
        "    else:\n",
        "        state = next_state\n",
        "    \n",
        "    optimize_model()\n",
        "    \n",
        "    if step_num > 0:\n",
        "        if step_num % update_freq == 0:\n",
        "            policy_to_target()\n",
        "        if step_num % save_freq == 0:\n",
        "            timestr = time.strftime('%Y%m%d-%H%M%S')\n",
        "            fname = f'{save_dir}/weights_{timestr}_{activation_name}.h5'\n",
        "            target_net.save_weights(fname)\n",
        "\n",
        "timestr = time.strftime('%Y%m%d-%H%M%S')\n",
        "fname = f'{save_dir}/model_{timestr}_{activation_name}.h5'\n",
        "target_net.save(fname)"
      ],
      "execution_count": 29,
      "outputs": [
        {
          "output_type": "stream",
          "text": [
            "100%|██████████| 1000000/1000000 [1:08:42<00:00, 242.59it/s]\n"
          ],
          "name": "stderr"
        }
      ]
    },
    {
      "cell_type": "markdown",
      "metadata": {
        "id": "sa1vQY7K6_Ol",
        "colab_type": "text"
      },
      "source": [
        "Populate memory for testing if you haven't start training loop."
      ]
    },
    {
      "cell_type": "code",
      "metadata": {
        "id": "wXc2uLV56_Om",
        "colab_type": "code",
        "outputId": "3ae54294-35b7-4132-bde1-46bd642d58d7",
        "colab": {
          "base_uri": "https://localhost:8080/",
          "height": 34
        }
      },
      "source": [
        "state = env.reset()\n",
        "reward = 0\n",
        "\n",
        "for _ in tqdm(range(100_000)):\n",
        "    action = random.randrange(n_actions)\n",
        "    next_state, reward, done, info = env.step(action)\n",
        "    \n",
        "    if done:\n",
        "        next_state = None\n",
        "    memory.push(state, action, next_state, reward)\n",
        "    \n",
        "    if done:\n",
        "        state = env.reset()\n",
        "    else:\n",
        "        state = next_state"
      ],
      "execution_count": 0,
      "outputs": [
        {
          "output_type": "stream",
          "text": [
            "100%|██████████| 100000/100000 [00:01<00:00, 65011.69it/s]\n"
          ],
          "name": "stderr"
        }
      ]
    },
    {
      "cell_type": "markdown",
      "metadata": {
        "id": "a9xJQiuy6_Ox",
        "colab_type": "text"
      },
      "source": [
        "## Evaluate target network"
      ]
    },
    {
      "cell_type": "markdown",
      "metadata": {
        "id": "tej9KfGu6_Oy",
        "colab_type": "text"
      },
      "source": [
        "Use random as baseline"
      ]
    },
    {
      "cell_type": "code",
      "metadata": {
        "id": "K99hdzcE6_Oz",
        "colab_type": "code",
        "outputId": "0b3cf444-2e93-4d61-d68b-e750a2ec0054",
        "colab": {
          "base_uri": "https://localhost:8080/",
          "height": 320
        }
      },
      "source": [
        "num_episodes = 100\n",
        "max_steps = 2_000\n",
        "\n",
        "reward_log = []\n",
        "action_log = []\n",
        "\n",
        "for episode in tqdm(range(num_episodes)):\n",
        "\n",
        "    state = env.reset()\n",
        "\n",
        "    total_reward = 0\n",
        "    ep_action_log = []\n",
        "\n",
        "    for _ in range(max_steps):\n",
        "        action = random.randrange(env.action_space.n)\n",
        "        ep_action_log.append(action)\n",
        "        next_state, reward, done, info = env.step(action)\n",
        "        total_reward += reward\n",
        "\n",
        "        state = next_state\n",
        "\n",
        "        if done:\n",
        "            break\n",
        "    \n",
        "    reward_log.append(total_reward)\n",
        "    action_log.append(ep_action_log)\n",
        "reward_log = np.array(reward_log)\n",
        "reward_mean = np.mean(reward_log)\n",
        "\n",
        "print(f'Reward mean: {reward_mean}')\n",
        "\n",
        "mean_plot = np.zeros_like(reward_log)\n",
        "mean_plot.fill(reward_mean)\n",
        "\n",
        "plt.plot(reward_log)\n",
        "plt.plot(mean_plot)"
      ],
      "execution_count": 30,
      "outputs": [
        {
          "output_type": "stream",
          "text": [
            "100%|██████████| 100/100 [00:00<00:00, 2948.09it/s]"
          ],
          "name": "stderr"
        },
        {
          "output_type": "stream",
          "text": [
            "Reward mean: 22.34\n"
          ],
          "name": "stdout"
        },
        {
          "output_type": "stream",
          "text": [
            "\n"
          ],
          "name": "stderr"
        },
        {
          "output_type": "execute_result",
          "data": {
            "text/plain": [
              "[<matplotlib.lines.Line2D at 0x7fe88b80bcf8>]"
            ]
          },
          "metadata": {
            "tags": []
          },
          "execution_count": 30
        },
        {
          "output_type": "display_data",
          "data": {
            "image/png": "[encoded data removed]",
            "text/plain": [
              "<Figure size 432x288 with 1 Axes>"
            ]
          },
          "metadata": {
            "tags": []
          }
        }
      ]
    },
    {
      "cell_type": "markdown",
      "metadata": {
        "id": "HB32c8G9sAhv",
        "colab_type": "text"
      },
      "source": [
        "Now it's time for the agent's turn."
      ]
    },
    {
      "cell_type": "code",
      "metadata": {
        "id": "aHxqqcl-r1Nt",
        "colab_type": "code",
        "colab": {
          "base_uri": "https://localhost:8080/",
          "height": 320
        },
        "outputId": "42d6ad4e-a58f-4fe6-b783-74fc1d0a254c"
      },
      "source": [
        "num_episodes = 100\n",
        "max_steps = 2_000\n",
        "\n",
        "reward_log = []\n",
        "action_log = []\n",
        "\n",
        "for episode in tqdm(range(num_episodes)):\n",
        "\n",
        "    state = env.reset()\n",
        "\n",
        "    total_reward = 0\n",
        "    ep_action_log = []\n",
        "\n",
        "    for _ in range(max_steps):\n",
        "        action = np.argmax(target_net.predict(np.array([state]))[0])\n",
        "        ep_action_log.append(action)\n",
        "        next_state, reward, done, info = env.step(action)\n",
        "        total_reward += reward\n",
        "\n",
        "        state = next_state\n",
        "\n",
        "        if done:\n",
        "            break\n",
        "    \n",
        "    reward_log.append(total_reward)\n",
        "    action_log.append(ep_action_log)\n",
        "reward_log = np.array(reward_log)\n",
        "reward_mean = np.mean(reward_log)\n",
        "\n",
        "print(f'Reward mean: {reward_mean}')\n",
        "\n",
        "mean_plot = np.zeros_like(reward_log)\n",
        "mean_plot.fill(reward_mean)\n",
        "\n",
        "plt.plot(reward_log)\n",
        "plt.plot(mean_plot)"
      ],
      "execution_count": 33,
      "outputs": [
        {
          "output_type": "stream",
          "text": [
            "100%|██████████| 100/100 [00:08<00:00, 11.82it/s]\n"
          ],
          "name": "stderr"
        },
        {
          "output_type": "stream",
          "text": [
            "Reward mean: 70.68\n"
          ],
          "name": "stdout"
        },
        {
          "output_type": "execute_result",
          "data": {
            "text/plain": [
              "[<matplotlib.lines.Line2D at 0x7fe88b337cc0>]"
            ]
          },
          "metadata": {
            "tags": []
          },
          "execution_count": 33
        },
        {
          "output_type": "display_data",
          "data": {
            "image/png": "[encoded data removed]",
            "text/plain": [
              "<Figure size 432x288 with 1 Axes>"
            ]
          },
          "metadata": {
            "tags": []
          }
        }
      ]
    },
    {
      "cell_type": "markdown",
      "metadata": {
        "id": "E34b4JjL6_O-",
        "colab_type": "text"
      },
      "source": [
        "## Evaluate visually"
      ]
    },
    {
      "cell_type": "code",
      "metadata": {
        "id": "DdZ2vwfu6_O_",
        "colab_type": "code",
        "outputId": "eca5a223-f4e7-406f-d54e-11924201a090",
        "colab": {
          "base_uri": "https://localhost:8080/",
          "height": 269
        }
      },
      "source": [
        "transitions = memory.sample(BATCH_SIZE)\n",
        "# transpose the batch\n",
        "batch = Transition(*zip(*transitions))\n",
        "\n",
        "s = np.array(batch.state)\n",
        "a = np.array(batch.action)\n",
        "r = np.array(batch.reward)\n",
        "\n",
        "non_final_mask = np.array(list(map(lambda s: s is not None, batch.next_state)))\n",
        "non_final_s2 = np.array([s for s in batch.next_state if s is not None])\n",
        "\n",
        "# compute V(s_{t+1}) for all next states (except for terminal states)\n",
        "s2_values = target_net.predict(non_final_s2)\n",
        "target_q = np.zeros((BATCH_SIZE, n_actions), dtype=np.float32)\n",
        "\n",
        "# DEBUG\n",
        "s_q = target_net.predict(s)\n",
        "_old_q = []\n",
        "_target_q = []\n",
        "# END_DEBUG\n",
        "\n",
        "s2_index = 0\n",
        "for i in range(BATCH_SIZE):\n",
        "    if non_final_mask[i]:\n",
        "        target_q[i][a[i]] = np.max(s2_values[s2_index]) * GAMMA + r[i]\n",
        "        # DEBUG\n",
        "        _old_q.append(s_q[i][a[i]])\n",
        "        _target_q.append(target_q[i][a[i]])\n",
        "        # END_DEBUG\n",
        "        s2_index += 1\n",
        "    else:\n",
        "        # DEBUG\n",
        "        _old_q.append(s_q[i][a[i]])\n",
        "        _target_q.append(0)\n",
        "        # END_DEBUG\n",
        "_old_q = np.array(_old_q)\n",
        "_target_q = np.array(_target_q)\n",
        "\n",
        "plt.plot(_old_q, label='Old Q')\n",
        "plt.plot(_target_q, label='Target Q')\n",
        "plt.legend()\n",
        "plt.grid()"
      ],
      "execution_count": 25,
      "outputs": [
        {
          "output_type": "display_data",
          "data": {
            "image/png": "[encoded data removed]",
            "text/plain": [
              "<Figure size 432x288 with 1 Axes>"
            ]
          },
          "metadata": {
            "tags": []
          }
        }
      ]
    }
  ]
}