{
  "nbformat": 4,
  "nbformat_minor": 0,
  "metadata": {
    "kernelspec": {
      "name": "python3",
      "display_name": "Python 3"
    },
    "language_info": {
      "codemirror_mode": {
        "name": "ipython",
        "version": 3
      },
      "file_extension": ".py",
      "mimetype": "text/x-python",
      "name": "python",
      "nbconvert_exporter": "python",
      "pygments_lexer": "ipython3",
      "version": "3.7.3"
    },
    "colab": {
      "name": "dqn_cartpole.ipynb",
      "version": "0.3.2",
      "provenance": [],
      "collapsed_sections": [],
      "include_colab_link": true
    }
  },
  "cells": [
    {
      "cell_type": "markdown",
      "metadata": {
        "id": "view-in-github",
        "colab_type": "text"
      },
      "source": [
        "<a href=\"https://colab.research.google.com/github/ichisadashioko/dqn/blob/master/dqn_cartpole.ipynb\" target=\"_parent\"><img src=\"https://colab.research.google.com/assets/colab-badge.svg\" alt=\"Open In Colab\"/></a>"
      ]
    },
    {
      "cell_type": "code",
      "metadata": {
        "id": "_CTS0EC87ODi",
        "colab_type": "code",
        "outputId": "20c9b279-fb1a-43c5-b82d-3b4480043a77",
        "colab": {
          "base_uri": "https://localhost:8080/",
          "height": 377
        }
      },
      "source": [
        "!pip install tensorflow==2.0.0-beta1"
      ],
      "execution_count": 0,
      "outputs": [
        {
          "output_type": "stream",
          "text": [
            "Requirement already satisfied: tensorflow==2.0.0-beta1 in /usr/local/lib/python3.6/dist-packages (2.0.0b1)\n",
            "Requirement already satisfied: wrapt>=1.11.1 in /usr/local/lib/python3.6/dist-packages (from tensorflow==2.0.0-beta1) (1.11.2)\n",
            "Requirement already satisfied: gast>=0.2.0 in /usr/local/lib/python3.6/dist-packages (from tensorflow==2.0.0-beta1) (0.2.2)\n",
            "Requirement already satisfied: protobuf>=3.6.1 in /usr/local/lib/python3.6/dist-packages (from tensorflow==2.0.0-beta1) (3.7.1)\n",
            "Requirement already satisfied: google-pasta>=0.1.6 in /usr/local/lib/python3.6/dist-packages (from tensorflow==2.0.0-beta1) (0.1.7)\n",
            "Requirement already satisfied: six>=1.10.0 in /usr/local/lib/python3.6/dist-packages (from tensorflow==2.0.0-beta1) (1.12.0)\n",
            "Requirement already satisfied: absl-py>=0.7.0 in /usr/local/lib/python3.6/dist-packages (from tensorflow==2.0.0-beta1) (0.7.1)\n",
            "Requirement already satisfied: termcolor>=1.1.0 in /usr/local/lib/python3.6/dist-packages (from tensorflow==2.0.0-beta1) (1.1.0)\n",
            "Requirement already satisfied: wheel>=0.26 in /usr/local/lib/python3.6/dist-packages (from tensorflow==2.0.0-beta1) (0.33.4)\n",
            "Requirement already satisfied: tb-nightly<1.14.0a20190604,>=1.14.0a20190603 in /usr/local/lib/python3.6/dist-packages (from tensorflow==2.0.0-beta1) (1.14.0a20190603)\n",
            "Requirement already satisfied: tf-estimator-nightly<1.14.0.dev2019060502,>=1.14.0.dev2019060501 in /usr/local/lib/python3.6/dist-packages (from tensorflow==2.0.0-beta1) (1.14.0.dev2019060501)\n",
            "Requirement already satisfied: numpy<2.0,>=1.14.5 in /usr/local/lib/python3.6/dist-packages (from tensorflow==2.0.0-beta1) (1.16.4)\n",
            "Requirement already satisfied: astor>=0.6.0 in /usr/local/lib/python3.6/dist-packages (from tensorflow==2.0.0-beta1) (0.8.0)\n",
            "Requirement already satisfied: keras-preprocessing>=1.0.5 in /usr/local/lib/python3.6/dist-packages (from tensorflow==2.0.0-beta1) (1.1.0)\n",
            "Requirement already satisfied: grpcio>=1.8.6 in /usr/local/lib/python3.6/dist-packages (from tensorflow==2.0.0-beta1) (1.15.0)\n",
            "Requirement already satisfied: keras-applications>=1.0.6 in /usr/local/lib/python3.6/dist-packages (from tensorflow==2.0.0-beta1) (1.0.8)\n",
            "Requirement already satisfied: setuptools in /usr/local/lib/python3.6/dist-packages (from protobuf>=3.6.1->tensorflow==2.0.0-beta1) (41.0.1)\n",
            "Requirement already satisfied: markdown>=2.6.8 in /usr/local/lib/python3.6/dist-packages (from tb-nightly<1.14.0a20190604,>=1.14.0a20190603->tensorflow==2.0.0-beta1) (3.1.1)\n",
            "Requirement already satisfied: werkzeug>=0.11.15 in /usr/local/lib/python3.6/dist-packages (from tb-nightly<1.14.0a20190604,>=1.14.0a20190603->tensorflow==2.0.0-beta1) (0.15.5)\n",
            "Requirement already satisfied: h5py in /usr/local/lib/python3.6/dist-packages (from keras-applications>=1.0.6->tensorflow==2.0.0-beta1) (2.8.0)\n"
          ],
          "name": "stdout"
        }
      ]
    },
    {
      "cell_type": "code",
      "metadata": {
        "id": "DSI4ZtEk2MUN",
        "colab_type": "code",
        "outputId": "087b4415-7265-4107-cf01-e46d377e6b27",
        "colab": {
          "base_uri": "https://localhost:8080/",
          "height": 445
        }
      },
      "source": [
        "!pip install tensorflow-gpu==2.0.0-beta1"
      ],
      "execution_count": 0,
      "outputs": [
        {
          "output_type": "stream",
          "text": [
            "Collecting tensorflow-gpu==2.0.0-beta1\n",
            "\u001b[?25l  Downloading https://files.pythonhosted.org/packages/2b/53/e18c5e7a2263d3581a979645a185804782e59b8e13f42b9c3c3cfb5bb503/tensorflow_gpu-2.0.0b1-cp36-cp36m-manylinux1_x86_64.whl (348.9MB)\n",
            "\u001b[K     |████████████████████████████████| 348.9MB 39kB/s \n",
            "\u001b[?25hRequirement already satisfied: google-pasta>=0.1.6 in /usr/local/lib/python3.6/dist-packages (from tensorflow-gpu==2.0.0-beta1) (0.1.7)\n",
            "Requirement already satisfied: protobuf>=3.6.1 in /usr/local/lib/python3.6/dist-packages (from tensorflow-gpu==2.0.0-beta1) (3.7.1)\n",
            "Requirement already satisfied: gast>=0.2.0 in /usr/local/lib/python3.6/dist-packages (from tensorflow-gpu==2.0.0-beta1) (0.2.2)\n",
            "Requirement already satisfied: keras-applications>=1.0.6 in /usr/local/lib/python3.6/dist-packages (from tensorflow-gpu==2.0.0-beta1) (1.0.8)\n",
            "Requirement already satisfied: numpy<2.0,>=1.14.5 in /usr/local/lib/python3.6/dist-packages (from tensorflow-gpu==2.0.0-beta1) (1.16.4)\n",
            "Requirement already satisfied: six>=1.10.0 in /usr/local/lib/python3.6/dist-packages (from tensorflow-gpu==2.0.0-beta1) (1.12.0)\n",
            "Requirement already satisfied: termcolor>=1.1.0 in /usr/local/lib/python3.6/dist-packages (from tensorflow-gpu==2.0.0-beta1) (1.1.0)\n",
            "Requirement already satisfied: astor>=0.6.0 in /usr/local/lib/python3.6/dist-packages (from tensorflow-gpu==2.0.0-beta1) (0.8.0)\n",
            "Requirement already satisfied: keras-preprocessing>=1.0.5 in /usr/local/lib/python3.6/dist-packages (from tensorflow-gpu==2.0.0-beta1) (1.1.0)\n",
            "Requirement already satisfied: tb-nightly<1.14.0a20190604,>=1.14.0a20190603 in /usr/local/lib/python3.6/dist-packages (from tensorflow-gpu==2.0.0-beta1) (1.14.0a20190603)\n",
            "Requirement already satisfied: absl-py>=0.7.0 in /usr/local/lib/python3.6/dist-packages (from tensorflow-gpu==2.0.0-beta1) (0.7.1)\n",
            "Requirement already satisfied: wrapt>=1.11.1 in /usr/local/lib/python3.6/dist-packages (from tensorflow-gpu==2.0.0-beta1) (1.11.2)\n",
            "Requirement already satisfied: wheel>=0.26 in /usr/local/lib/python3.6/dist-packages (from tensorflow-gpu==2.0.0-beta1) (0.33.4)\n",
            "Requirement already satisfied: tf-estimator-nightly<1.14.0.dev2019060502,>=1.14.0.dev2019060501 in /usr/local/lib/python3.6/dist-packages (from tensorflow-gpu==2.0.0-beta1) (1.14.0.dev2019060501)\n",
            "Requirement already satisfied: grpcio>=1.8.6 in /usr/local/lib/python3.6/dist-packages (from tensorflow-gpu==2.0.0-beta1) (1.15.0)\n",
            "Requirement already satisfied: setuptools in /usr/local/lib/python3.6/dist-packages (from protobuf>=3.6.1->tensorflow-gpu==2.0.0-beta1) (41.0.1)\n",
            "Requirement already satisfied: h5py in /usr/local/lib/python3.6/dist-packages (from keras-applications>=1.0.6->tensorflow-gpu==2.0.0-beta1) (2.8.0)\n",
            "Requirement already satisfied: markdown>=2.6.8 in /usr/local/lib/python3.6/dist-packages (from tb-nightly<1.14.0a20190604,>=1.14.0a20190603->tensorflow-gpu==2.0.0-beta1) (3.1.1)\n",
            "Requirement already satisfied: werkzeug>=0.11.15 in /usr/local/lib/python3.6/dist-packages (from tb-nightly<1.14.0a20190604,>=1.14.0a20190603->tensorflow-gpu==2.0.0-beta1) (0.15.5)\n",
            "Installing collected packages: tensorflow-gpu\n",
            "Successfully installed tensorflow-gpu-2.0.0b1\n"
          ],
          "name": "stdout"
        }
      ]
    },
    {
      "cell_type": "code",
      "metadata": {
        "id": "99I5FE3g6_NZ",
        "colab_type": "code",
        "colab": {}
      },
      "source": [
        "import os\n",
        "import time\n",
        "import math\n",
        "import random\n",
        "from datetime import datetime\n",
        "from collections import namedtuple\n",
        "\n",
        "from tqdm import tqdm\n",
        "\n",
        "import numpy as np\n",
        "import matplotlib.pyplot as plt\n",
        "\n",
        "import gym\n",
        "from gym.envs.registration import register"
      ],
      "execution_count": 0,
      "outputs": []
    },
    {
      "cell_type": "code",
      "metadata": {
        "id": "9NRxHaba6_Ne",
        "colab_type": "code",
        "colab": {}
      },
      "source": [
        "# disable TensorFlow logs\n",
        "os.environ['TF_CPP_MIN_LOG_LEVEL'] = '3'\n",
        "import tensorflow as tf\n",
        "\n",
        "from tensorflow import keras\n",
        "from tensorflow.keras.layers import Conv2D, Dense, Flatten\n",
        "from tensorflow.keras.optimizers import RMSprop"
      ],
      "execution_count": 0,
      "outputs": []
    },
    {
      "cell_type": "code",
      "metadata": {
        "id": "-noAyxK96_Nh",
        "colab_type": "code",
        "colab": {}
      },
      "source": [
        "Transition = namedtuple('Transition', ('state', 'action', 'next_state', 'reward'))\n",
        "\n",
        "class ReplayMemory(object):\n",
        "    def __init__(self, capacity=1_000_000):\n",
        "        self.capacity = capacity\n",
        "        self.memory = []\n",
        "        self.position = 0\n",
        "\n",
        "    def push(self, *args):\n",
        "        if len(self.memory) < self.capacity:\n",
        "            self.memory.append(None)\n",
        "        self.memory[self.position] = Transition(*args)\n",
        "        self.position = (self.position + 1) % self.capacity\n",
        "\n",
        "    def sample(self, batch_size=32):\n",
        "        return random.sample(self.memory, batch_size)\n",
        "\n",
        "    def __len__(self):\n",
        "        return len(self.memory)"
      ],
      "execution_count": 0,
      "outputs": []
    },
    {
      "cell_type": "code",
      "metadata": {
        "id": "gocp3-F96_Np",
        "colab_type": "code",
        "outputId": "70661790-89f6-46e1-97ab-99d20926e936",
        "colab": {
          "base_uri": "https://localhost:8080/",
          "height": 34
        }
      },
      "source": [
        "memory = ReplayMemory()\n",
        "len(memory)"
      ],
      "execution_count": 0,
      "outputs": [
        {
          "output_type": "execute_result",
          "data": {
            "text/plain": [
              "0"
            ]
          },
          "metadata": {
            "tags": []
          },
          "execution_count": 6
        }
      ]
    },
    {
      "cell_type": "code",
      "metadata": {
        "id": "NxudH-Ja6_Ny",
        "colab_type": "code",
        "colab": {}
      },
      "source": [
        "env_name = 'CartPole-v0'\n",
        "env = gym.make(env_name)"
      ],
      "execution_count": 0,
      "outputs": []
    },
    {
      "cell_type": "markdown",
      "metadata": {
        "id": "BAqmI8Tp6_N3",
        "colab_type": "text"
      },
      "source": [
        "## Hyperparameters"
      ]
    },
    {
      "cell_type": "code",
      "metadata": {
        "id": "Dp20t31JtuwA",
        "colab_type": "code",
        "colab": {}
      },
      "source": [
        "from google.colab import drive"
      ],
      "execution_count": 0,
      "outputs": []
    },
    {
      "cell_type": "code",
      "metadata": {
        "id": "Vdt3EJp2tzw7",
        "colab_type": "code",
        "outputId": "a7e7cd19-da1e-4a1f-dfbc-f1547c342a7f",
        "colab": {
          "base_uri": "https://localhost:8080/",
          "height": 34
        }
      },
      "source": [
        "mount_point = '/gdrive'\n",
        "drive.mount(mount_point, force_remount=True)"
      ],
      "execution_count": 0,
      "outputs": [
        {
          "output_type": "stream",
          "text": [
            "Mounted at /gdrive\n"
          ],
          "name": "stdout"
        }
      ]
    },
    {
      "cell_type": "code",
      "metadata": {
        "id": "XskxnshXuOXv",
        "colab_type": "code",
        "outputId": "ed72b94c-6ca7-4197-c166-0a787803e6e3",
        "colab": {
          "base_uri": "https://localhost:8080/",
          "height": 34
        }
      },
      "source": [
        "save_dir = f'{mount_point}/My Drive/DQN-{env_name}'\n",
        "if not os.path.exists(save_dir):\n",
        "    os.makedirs(save_dir)\n",
        "\n",
        "os.path.exists(save_dir)"
      ],
      "execution_count": 0,
      "outputs": [
        {
          "output_type": "execute_result",
          "data": {
            "text/plain": [
              "True"
            ]
          },
          "metadata": {
            "tags": []
          },
          "execution_count": 10
        }
      ]
    },
    {
      "cell_type": "code",
      "metadata": {
        "id": "UwW1nKbe6_N5",
        "colab_type": "code",
        "colab": {}
      },
      "source": [
        "input_shape = env.observation_space.shape\n",
        "n_actions = env.action_space.n\n",
        "lr = 0.0001\n",
        "BATCH_SIZE = 32\n",
        "GAMMA = 0.99\n",
        "\n",
        "EPS_START = 1 # initial value of epsilon\n",
        "EPS_END = 0.1 # final value of epsilon\n",
        "EPS_DECAY = 500_000 # number of steps until epsilon reach its final value\n",
        "steps_done = 0"
      ],
      "execution_count": 0,
      "outputs": []
    },
    {
      "cell_type": "code",
      "metadata": {
        "id": "vM6yFSQL6_OB",
        "colab_type": "code",
        "colab": {}
      },
      "source": [
        "def create_network(name, input_shape, n_actions, lr, activation_name):\n",
        "    model = keras.Sequential(name=name, layers=[\n",
        "        Dense(\n",
        "            name=f'{name}_dense_01',\n",
        "            units=32,\n",
        "            input_shape=input_shape,\n",
        "            activation=activation_name,\n",
        "        ),\n",
        "        Dense(\n",
        "            name=f'{name}_dense_02',\n",
        "            units=64,\n",
        "            activation=activation_name,\n",
        "        ),\n",
        "        Dense(\n",
        "            name=f'{name}_dense_03',\n",
        "            units=n_actions,\n",
        "            activation='linear',\n",
        "        )\n",
        "    ])\n",
        "\n",
        "    optimizer = RMSprop(lr=lr)\n",
        "\n",
        "    model.compile(\n",
        "        optimizer=optimizer,\n",
        "        loss='mse',\n",
        "    )\n",
        "\n",
        "    return model"
      ],
      "execution_count": 0,
      "outputs": []
    },
    {
      "cell_type": "code",
      "metadata": {
        "id": "Th_N1LMY6_OE",
        "colab_type": "code",
        "outputId": "ada4c5e9-28dc-4032-f956-5c04f5091f96",
        "colab": {
          "base_uri": "https://localhost:8080/",
          "height": 493
        }
      },
      "source": [
        "activation_name = 'relu'\n",
        "\n",
        "target_net = create_network(\n",
        "    name='target_net',\n",
        "    input_shape=input_shape,\n",
        "    n_actions=n_actions,\n",
        "    lr=lr,\n",
        "    activation_name=activation_name,\n",
        ")\n",
        "\n",
        "target_net.summary()\n",
        "\n",
        "policy_net = create_network(\n",
        "    name='policy_net',\n",
        "    input_shape=input_shape,\n",
        "    n_actions=n_actions,\n",
        "    lr=lr,\n",
        "    activation_name=activation_name,\n",
        ")\n",
        "\n",
        "policy_net.summary()"
      ],
      "execution_count": 0,
      "outputs": [
        {
          "output_type": "stream",
          "text": [
            "Model: \"target_net\"\n",
            "_________________________________________________________________\n",
            "Layer (type)                 Output Shape              Param #   \n",
            "=================================================================\n",
            "target_net_dense_01 (Dense)  (None, 32)                160       \n",
            "_________________________________________________________________\n",
            "target_net_dense_02 (Dense)  (None, 64)                2112      \n",
            "_________________________________________________________________\n",
            "target_net_dense_03 (Dense)  (None, 2)                 130       \n",
            "=================================================================\n",
            "Total params: 2,402\n",
            "Trainable params: 2,402\n",
            "Non-trainable params: 0\n",
            "_________________________________________________________________\n",
            "Model: \"policy_net\"\n",
            "_________________________________________________________________\n",
            "Layer (type)                 Output Shape              Param #   \n",
            "=================================================================\n",
            "policy_net_dense_01 (Dense)  (None, 32)                160       \n",
            "_________________________________________________________________\n",
            "policy_net_dense_02 (Dense)  (None, 64)                2112      \n",
            "_________________________________________________________________\n",
            "policy_net_dense_03 (Dense)  (None, 2)                 130       \n",
            "=================================================================\n",
            "Total params: 2,402\n",
            "Trainable params: 2,402\n",
            "Non-trainable params: 0\n",
            "_________________________________________________________________\n"
          ],
          "name": "stdout"
        }
      ]
    },
    {
      "cell_type": "code",
      "metadata": {
        "id": "6LeJcIiyvgqk",
        "colab_type": "code",
        "outputId": "881327dd-cb88-43b4-c7f5-72e87e773e3f",
        "colab": {
          "base_uri": "https://localhost:8080/",
          "height": 510
        }
      },
      "source": [
        "target_net.weights[0]"
      ],
      "execution_count": 0,
      "outputs": [
        {
          "output_type": "execute_result",
          "data": {
            "text/plain": [
              "<tf.Variable 'target_net_dense_01/kernel:0' shape=(4, 32) dtype=float32, numpy=\n",
              "array([[-0.2903304 ,  0.15775728, -0.3099111 , -0.13895291, -0.37072566,\n",
              "        -0.23374824,  0.14921874,  0.34970367,  0.17436069, -0.23189111,\n",
              "        -0.27255774,  0.24855256,  0.01648107, -0.14891806,  0.09979576,\n",
              "        -0.1533674 ,  0.20650727,  0.25669026, -0.05707413, -0.39687356,\n",
              "         0.27697426,  0.39898843, -0.3062862 ,  0.2389713 , -0.02829149,\n",
              "        -0.38638067, -0.03242448, -0.23036072,  0.13910133, -0.3045591 ,\n",
              "        -0.32903868,  0.2776913 ],\n",
              "       [-0.3850325 , -0.19779979, -0.10743013, -0.19120093, -0.3331997 ,\n",
              "        -0.37097153, -0.12807515, -0.21097355, -0.32262614,  0.14916062,\n",
              "        -0.29991987,  0.371311  ,  0.06295699, -0.39255184, -0.36007148,\n",
              "        -0.01850864, -0.33189934,  0.35801655, -0.08989152,  0.03506088,\n",
              "        -0.14240673, -0.39952406,  0.31688052, -0.36672115, -0.050255  ,\n",
              "        -0.09038717, -0.3145625 ,  0.05345768,  0.2746902 ,  0.01589465,\n",
              "        -0.0107154 , -0.36766315],\n",
              "       [-0.11821669,  0.14471   ,  0.16423804, -0.3303556 ,  0.30461985,\n",
              "        -0.17437859,  0.07050046,  0.15202212,  0.13670576, -0.32199988,\n",
              "        -0.24667068, -0.1538125 ,  0.40618628, -0.02114561, -0.21709312,\n",
              "        -0.25317085, -0.08408701, -0.1539079 , -0.19617869, -0.27771828,\n",
              "        -0.07061443,  0.303289  ,  0.32051873, -0.28725195,  0.27968532,\n",
              "        -0.38483033, -0.01515236,  0.07281613,  0.2266587 ,  0.19467187,\n",
              "        -0.2500025 , -0.21511939],\n",
              "       [ 0.35872322,  0.25606662,  0.09582424, -0.21934621,  0.1787703 ,\n",
              "        -0.17835537,  0.02533615, -0.1733855 ,  0.1394586 , -0.0067175 ,\n",
              "         0.23353899,  0.38426298, -0.23957174,  0.26111943, -0.20690946,\n",
              "        -0.13611594,  0.20078754,  0.23114163,  0.12282252, -0.04054797,\n",
              "         0.23202443, -0.00508064,  0.3945691 ,  0.04770708,  0.05986711,\n",
              "         0.322254  ,  0.21183348,  0.28598183, -0.02693281, -0.17679453,\n",
              "         0.32520616, -0.28049248]], dtype=float32)>"
            ]
          },
          "metadata": {
            "tags": []
          },
          "execution_count": 14
        }
      ]
    },
    {
      "cell_type": "code",
      "metadata": {
        "id": "KTJw9j31vm1P",
        "colab_type": "code",
        "outputId": "8620db15-b431-4b6b-d7b1-024b6f8ea258",
        "colab": {
          "base_uri": "https://localhost:8080/",
          "height": 510
        }
      },
      "source": [
        "policy_net.weights[0]"
      ],
      "execution_count": 0,
      "outputs": [
        {
          "output_type": "execute_result",
          "data": {
            "text/plain": [
              "<tf.Variable 'policy_net_dense_01/kernel:0' shape=(4, 32) dtype=float32, numpy=\n",
              "array([[-0.20500746, -0.19056922, -0.05996153, -0.36269826,  0.1903401 ,\n",
              "        -0.04625234,  0.13225448, -0.03558987,  0.3774014 ,  0.27509642,\n",
              "        -0.10304087,  0.29859477,  0.1840874 , -0.4077328 ,  0.3075052 ,\n",
              "        -0.03155178, -0.11757031, -0.35948884, -0.02733284,  0.28894544,\n",
              "         0.34326434,  0.16701752,  0.26890773,  0.35464144, -0.38859773,\n",
              "         0.3573107 ,  0.26546663,  0.06170556, -0.30949217, -0.1771384 ,\n",
              "         0.15233165,  0.09460551],\n",
              "       [ 0.18717033,  0.05433017, -0.3691437 , -0.02557811, -0.2737561 ,\n",
              "        -0.07500079, -0.08398044,  0.16096956,  0.05259228, -0.21786226,\n",
              "         0.39554846, -0.39706793, -0.23934563,  0.14055687, -0.2239903 ,\n",
              "         0.26672244,  0.10834128,  0.07291472, -0.2393577 , -0.30546916,\n",
              "        -0.1414693 ,  0.03931484,  0.00361314,  0.02392364, -0.03025296,\n",
              "        -0.23572539,  0.22830749, -0.20870109, -0.07915083, -0.26178187,\n",
              "         0.15320069,  0.34092373],\n",
              "       [-0.2111287 ,  0.18715775,  0.26929176,  0.33806944,  0.38862687,\n",
              "         0.32421792,  0.24305981, -0.00223741,  0.3915959 , -0.40179983,\n",
              "         0.18025428, -0.06954503, -0.3861504 ,  0.34170836, -0.3637106 ,\n",
              "         0.36367148,  0.36872888, -0.17152661,  0.26172405,  0.04488683,\n",
              "        -0.03812775,  0.33899462,  0.2612146 , -0.38946235,  0.10055184,\n",
              "         0.20318621,  0.02299234, -0.07809338, -0.10899147, -0.40806073,\n",
              "         0.28337026, -0.32042336],\n",
              "       [-0.02929431,  0.04429826,  0.3918839 ,  0.20572764, -0.19222994,\n",
              "         0.23006743,  0.05870649, -0.03713369, -0.02704132, -0.08061686,\n",
              "         0.09796947, -0.3104846 ,  0.0143992 ,  0.21785712, -0.3084578 ,\n",
              "         0.3596192 , -0.16867472, -0.32448345, -0.34679067,  0.40371323,\n",
              "        -0.3488186 , -0.09409907, -0.39214838,  0.00192294,  0.24282199,\n",
              "         0.06625408, -0.02566376,  0.09367955, -0.33987293, -0.03671914,\n",
              "        -0.18431075,  0.27718896]], dtype=float32)>"
            ]
          },
          "metadata": {
            "tags": []
          },
          "execution_count": 15
        }
      ]
    },
    {
      "cell_type": "code",
      "metadata": {
        "id": "wCMJR5Xd6_OL",
        "colab_type": "code",
        "colab": {}
      },
      "source": [
        "def target_to_policy():\n",
        "    for i in range(len(policy_net.weights)):\n",
        "        tf.keras.backend.set_value(policy_net.weights[i], target_net.weights[i].numpy())\n",
        "\n",
        "def policy_to_target():\n",
        "    for i in range(len(target_net.weights)):\n",
        "        tf.keras.backend.set_value(target_net.weights[i], policy_net.weights[i].numpy())"
      ],
      "execution_count": 0,
      "outputs": []
    },
    {
      "cell_type": "markdown",
      "metadata": {
        "id": "HgAoLqog6_OP",
        "colab_type": "text"
      },
      "source": [
        "Copy weights from target network to policy network"
      ]
    },
    {
      "cell_type": "code",
      "metadata": {
        "id": "sX_1GHKj6_OQ",
        "colab_type": "code",
        "colab": {}
      },
      "source": [
        "target_to_policy()"
      ],
      "execution_count": 0,
      "outputs": []
    },
    {
      "cell_type": "code",
      "metadata": {
        "id": "sW7hRaiRvyCP",
        "colab_type": "code",
        "outputId": "344fb847-2e21-4e45-ed5e-82838d5c6dc6",
        "colab": {
          "base_uri": "https://localhost:8080/",
          "height": 510
        }
      },
      "source": [
        "target_net.weights[0]"
      ],
      "execution_count": 0,
      "outputs": [
        {
          "output_type": "execute_result",
          "data": {
            "text/plain": [
              "<tf.Variable 'target_net_dense_01/kernel:0' shape=(4, 32) dtype=float32, numpy=\n",
              "array([[-0.2903304 ,  0.15775728, -0.3099111 , -0.13895291, -0.37072566,\n",
              "        -0.23374824,  0.14921874,  0.34970367,  0.17436069, -0.23189111,\n",
              "        -0.27255774,  0.24855256,  0.01648107, -0.14891806,  0.09979576,\n",
              "        -0.1533674 ,  0.20650727,  0.25669026, -0.05707413, -0.39687356,\n",
              "         0.27697426,  0.39898843, -0.3062862 ,  0.2389713 , -0.02829149,\n",
              "        -0.38638067, -0.03242448, -0.23036072,  0.13910133, -0.3045591 ,\n",
              "        -0.32903868,  0.2776913 ],\n",
              "       [-0.3850325 , -0.19779979, -0.10743013, -0.19120093, -0.3331997 ,\n",
              "        -0.37097153, -0.12807515, -0.21097355, -0.32262614,  0.14916062,\n",
              "        -0.29991987,  0.371311  ,  0.06295699, -0.39255184, -0.36007148,\n",
              "        -0.01850864, -0.33189934,  0.35801655, -0.08989152,  0.03506088,\n",
              "        -0.14240673, -0.39952406,  0.31688052, -0.36672115, -0.050255  ,\n",
              "        -0.09038717, -0.3145625 ,  0.05345768,  0.2746902 ,  0.01589465,\n",
              "        -0.0107154 , -0.36766315],\n",
              "       [-0.11821669,  0.14471   ,  0.16423804, -0.3303556 ,  0.30461985,\n",
              "        -0.17437859,  0.07050046,  0.15202212,  0.13670576, -0.32199988,\n",
              "        -0.24667068, -0.1538125 ,  0.40618628, -0.02114561, -0.21709312,\n",
              "        -0.25317085, -0.08408701, -0.1539079 , -0.19617869, -0.27771828,\n",
              "        -0.07061443,  0.303289  ,  0.32051873, -0.28725195,  0.27968532,\n",
              "        -0.38483033, -0.01515236,  0.07281613,  0.2266587 ,  0.19467187,\n",
              "        -0.2500025 , -0.21511939],\n",
              "       [ 0.35872322,  0.25606662,  0.09582424, -0.21934621,  0.1787703 ,\n",
              "        -0.17835537,  0.02533615, -0.1733855 ,  0.1394586 , -0.0067175 ,\n",
              "         0.23353899,  0.38426298, -0.23957174,  0.26111943, -0.20690946,\n",
              "        -0.13611594,  0.20078754,  0.23114163,  0.12282252, -0.04054797,\n",
              "         0.23202443, -0.00508064,  0.3945691 ,  0.04770708,  0.05986711,\n",
              "         0.322254  ,  0.21183348,  0.28598183, -0.02693281, -0.17679453,\n",
              "         0.32520616, -0.28049248]], dtype=float32)>"
            ]
          },
          "metadata": {
            "tags": []
          },
          "execution_count": 18
        }
      ]
    },
    {
      "cell_type": "code",
      "metadata": {
        "id": "d7qJnxsSv7BQ",
        "colab_type": "code",
        "outputId": "4838e6e9-e4a2-4451-868c-255dc2b0fa95",
        "colab": {
          "base_uri": "https://localhost:8080/",
          "height": 510
        }
      },
      "source": [
        "policy_net.weights[0]"
      ],
      "execution_count": 0,
      "outputs": [
        {
          "output_type": "execute_result",
          "data": {
            "text/plain": [
              "<tf.Variable 'policy_net_dense_01/kernel:0' shape=(4, 32) dtype=float32, numpy=\n",
              "array([[-0.2903304 ,  0.15775728, -0.3099111 , -0.13895291, -0.37072566,\n",
              "        -0.23374824,  0.14921874,  0.34970367,  0.17436069, -0.23189111,\n",
              "        -0.27255774,  0.24855256,  0.01648107, -0.14891806,  0.09979576,\n",
              "        -0.1533674 ,  0.20650727,  0.25669026, -0.05707413, -0.39687356,\n",
              "         0.27697426,  0.39898843, -0.3062862 ,  0.2389713 , -0.02829149,\n",
              "        -0.38638067, -0.03242448, -0.23036072,  0.13910133, -0.3045591 ,\n",
              "        -0.32903868,  0.2776913 ],\n",
              "       [-0.3850325 , -0.19779979, -0.10743013, -0.19120093, -0.3331997 ,\n",
              "        -0.37097153, -0.12807515, -0.21097355, -0.32262614,  0.14916062,\n",
              "        -0.29991987,  0.371311  ,  0.06295699, -0.39255184, -0.36007148,\n",
              "        -0.01850864, -0.33189934,  0.35801655, -0.08989152,  0.03506088,\n",
              "        -0.14240673, -0.39952406,  0.31688052, -0.36672115, -0.050255  ,\n",
              "        -0.09038717, -0.3145625 ,  0.05345768,  0.2746902 ,  0.01589465,\n",
              "        -0.0107154 , -0.36766315],\n",
              "       [-0.11821669,  0.14471   ,  0.16423804, -0.3303556 ,  0.30461985,\n",
              "        -0.17437859,  0.07050046,  0.15202212,  0.13670576, -0.32199988,\n",
              "        -0.24667068, -0.1538125 ,  0.40618628, -0.02114561, -0.21709312,\n",
              "        -0.25317085, -0.08408701, -0.1539079 , -0.19617869, -0.27771828,\n",
              "        -0.07061443,  0.303289  ,  0.32051873, -0.28725195,  0.27968532,\n",
              "        -0.38483033, -0.01515236,  0.07281613,  0.2266587 ,  0.19467187,\n",
              "        -0.2500025 , -0.21511939],\n",
              "       [ 0.35872322,  0.25606662,  0.09582424, -0.21934621,  0.1787703 ,\n",
              "        -0.17835537,  0.02533615, -0.1733855 ,  0.1394586 , -0.0067175 ,\n",
              "         0.23353899,  0.38426298, -0.23957174,  0.26111943, -0.20690946,\n",
              "        -0.13611594,  0.20078754,  0.23114163,  0.12282252, -0.04054797,\n",
              "         0.23202443, -0.00508064,  0.3945691 ,  0.04770708,  0.05986711,\n",
              "         0.322254  ,  0.21183348,  0.28598183, -0.02693281, -0.17679453,\n",
              "         0.32520616, -0.28049248]], dtype=float32)>"
            ]
          },
          "metadata": {
            "tags": []
          },
          "execution_count": 19
        }
      ]
    },
    {
      "cell_type": "code",
      "metadata": {
        "id": "p2mnbQNj6_OT",
        "colab_type": "code",
        "colab": {}
      },
      "source": [
        "def select_action(state):\n",
        "    global steps_done\n",
        "    sample = random.random()\n",
        "    eps_threshold = EPS_END + (EPS_START - EPS_END) * math.exp(-1. * steps_done / EPS_DECAY)\n",
        "    if sample > eps_threshold:\n",
        "        batch = np.array([state])\n",
        "        action = np.argmax(policy_net.predict(batch)[0])\n",
        "    else:\n",
        "        action = random.randrange(n_actions)\n",
        "    \n",
        "    steps_done += 1\n",
        "    return action"
      ],
      "execution_count": 0,
      "outputs": []
    },
    {
      "cell_type": "code",
      "metadata": {
        "id": "ZKA7gn-xdqcy",
        "colab_type": "code",
        "outputId": "d7f6c3a1-e402-4753-d00f-48c6fd4eaa69",
        "colab": {
          "base_uri": "https://localhost:8080/",
          "height": 34
        }
      },
      "source": [
        "EPS_END + (EPS_START - EPS_END) * math.exp(-1. * steps_done / EPS_DECAY)"
      ],
      "execution_count": 0,
      "outputs": [
        {
          "output_type": "execute_result",
          "data": {
            "text/plain": [
              "1.0"
            ]
          },
          "metadata": {
            "tags": []
          },
          "execution_count": 21
        }
      ]
    },
    {
      "cell_type": "code",
      "metadata": {
        "id": "NrxJBzXy6_OW",
        "colab_type": "code",
        "colab": {}
      },
      "source": [
        "def optimize_model():\n",
        "    if len(memory) < BATCH_SIZE:\n",
        "        return\n",
        "    \n",
        "    transitions = memory.sample(BATCH_SIZE)\n",
        "    # transpose the batch\n",
        "    batch = Transition(*zip(*transitions))\n",
        "    \n",
        "    s = np.array(batch.state)\n",
        "    a = np.array(batch.action)\n",
        "    r = np.array(batch.reward)\n",
        "    \n",
        "    non_final_mask = np.array(list(map(lambda s: s is not None, batch.next_state)))\n",
        "    non_final_s2 = np.array([s for s in batch.next_state if s is not None])\n",
        "    \n",
        "    # compute V(s_{t+1}) for all next states (except for terminal states)\n",
        "    s2_values = target_net.predict(non_final_s2)\n",
        "    target_q = np.zeros((BATCH_SIZE, n_actions), dtype=np.float32)\n",
        "    s2_index = 0\n",
        "    for i in range(BATCH_SIZE):\n",
        "        if non_final_mask[i]:\n",
        "            target_q[i][a[i]] = np.max(s2_values[s2_index]) * GAMMA + r[i]\n",
        "            s2_index += 1\n",
        "    \n",
        "    policy_net.fit(\n",
        "        x=s,\n",
        "        y=target_q,\n",
        "        verbose=0,\n",
        "    )"
      ],
      "execution_count": 0,
      "outputs": []
    },
    {
      "cell_type": "markdown",
      "metadata": {
        "id": "2WcL-WiL6_Oe",
        "colab_type": "text"
      },
      "source": [
        "## Training loop"
      ]
    },
    {
      "cell_type": "code",
      "metadata": {
        "id": "GFWOy-ez4ISs",
        "colab_type": "code",
        "colab": {}
      },
      "source": [
        "train_reward_log = []"
      ],
      "execution_count": 0,
      "outputs": []
    },
    {
      "cell_type": "code",
      "metadata": {
        "id": "iOYJuUnF6_Oe",
        "colab_type": "code",
        "outputId": "938b72ab-3f56-4a69-c7a4-cc0e6f43f856",
        "colab": {
          "base_uri": "https://localhost:8080/",
          "height": 373
        }
      },
      "source": [
        "update_freq = 10_000\n",
        "save_freq = 20_000\n",
        "\n",
        "num_steps = 500_000\n",
        "\n",
        "state = env.reset()\n",
        "ep_reward = 0\n",
        "\n",
        "for step_num in tqdm(range(num_steps)):\n",
        "    action = select_action(state) # select action use epsilon-greedy\n",
        "    # the agent is seem to perform better when training with random data (the first 500_000 steps only)\n",
        "    # action = random.randrange(n_actions)\n",
        "    next_state, reward, done, info = env.step(action)\n",
        "    ep_reward += reward\n",
        "    \n",
        "    if done:\n",
        "        next_state = None\n",
        "    memory.push(state, action, next_state, reward)\n",
        "    \n",
        "    if done:\n",
        "        state = env.reset()\n",
        "        train_reward_log.append(ep_reward)\n",
        "        ep_reward = 0\n",
        "    else:\n",
        "        state = next_state\n",
        "    \n",
        "    optimize_model()\n",
        "    \n",
        "    if step_num > 0:\n",
        "        if step_num % update_freq == 0:\n",
        "            policy_to_target()\n",
        "        if step_num % save_freq == 0:\n",
        "            timestr = time.strftime('%Y%m%d-%H%M%S')\n",
        "            fname = f'{save_dir}/weights_{timestr}_{activation_name}_{steps_done}.h5'\n",
        "            target_net.save_weights(fname)\n",
        "\n",
        "timestr = time.strftime('%Y%m%d-%H%M%S')\n",
        "fname = f'{save_dir}/model_{timestr}_{activation_name}_{steps_done}.h5'\n",
        "target_net.save(fname)\n",
        "\n",
        "np_reward = np.array(train_reward_log[-num_steps:])\n",
        "\n",
        "reward_mean = np.mean(np_reward)\n",
        "reward_max = np.max(np_reward)\n",
        "reward_min = np.min(np_reward)\n",
        "\n",
        "print()\n",
        "print(f'Mean: {reward_mean:.2f}')\n",
        "print(f'Max: {reward_max}')\n",
        "print(f'Min: {reward_min}')\n",
        "\n",
        "mean_plot = np.zeros_like(np_reward)\n",
        "mean_plot.fill(reward_mean)\n",
        "\n",
        "plt.plot(np_reward)\n",
        "plt.plot(mean_plot)"
      ],
      "execution_count": 34,
      "outputs": [
        {
          "output_type": "stream",
          "text": [
            "100%|██████████| 500000/500000 [44:40<00:00, 186.50it/s]\n"
          ],
          "name": "stderr"
        },
        {
          "output_type": "stream",
          "text": [
            "\n",
            "Mean: 60.58\n",
            "Max: 200.0\n",
            "Min: 8.0\n"
          ],
          "name": "stdout"
        },
        {
          "output_type": "execute_result",
          "data": {
            "text/plain": [
              "[<matplotlib.lines.Line2D at 0x7f8a4246d6d8>]"
            ]
          },
          "metadata": {
            "tags": []
          },
          "execution_count": 34
        },
        {
          "output_type": "display_data",
          "data": {
            "image/png": "[encoded data removed]",
            "text/plain": [
              "<Figure size 432x288 with 1 Axes>"
            ]
          },
          "metadata": {
            "tags": []
          }
        }
      ]
    },
    {
      "cell_type": "markdown",
      "metadata": {
        "id": "sa1vQY7K6_Ol",
        "colab_type": "text"
      },
      "source": [
        "Populate memory for testing if you haven't start training loop."
      ]
    },
    {
      "cell_type": "code",
      "metadata": {
        "id": "wXc2uLV56_Om",
        "colab_type": "code",
        "outputId": "15eb7911-f5eb-438d-f3a6-f27608694f96",
        "colab": {
          "base_uri": "https://localhost:8080/",
          "height": 34
        }
      },
      "source": [
        "state = env.reset()\n",
        "reward = 0\n",
        "\n",
        "for _ in tqdm(range(100_000)):\n",
        "    action = random.randrange(n_actions)\n",
        "    next_state, reward, done, info = env.step(action)\n",
        "    \n",
        "    if done:\n",
        "        next_state = None\n",
        "    memory.push(state, action, next_state, reward)\n",
        "    \n",
        "    if done:\n",
        "        state = env.reset()\n",
        "    else:\n",
        "        state = next_state"
      ],
      "execution_count": 0,
      "outputs": [
        {
          "output_type": "stream",
          "text": [
            "100%|██████████| 100000/100000 [00:01<00:00, 69637.43it/s]\n"
          ],
          "name": "stderr"
        }
      ]
    },
    {
      "cell_type": "markdown",
      "metadata": {
        "id": "a9xJQiuy6_Ox",
        "colab_type": "text"
      },
      "source": [
        "## Evaluate target network"
      ]
    },
    {
      "cell_type": "markdown",
      "metadata": {
        "id": "tej9KfGu6_Oy",
        "colab_type": "text"
      },
      "source": [
        "Use random as baseline"
      ]
    },
    {
      "cell_type": "code",
      "metadata": {
        "id": "K99hdzcE6_Oz",
        "colab_type": "code",
        "outputId": "5270da2b-67aa-4e9f-ba68-49a314442ca0",
        "colab": {
          "base_uri": "https://localhost:8080/",
          "height": 373
        }
      },
      "source": [
        "num_episodes = 100\n",
        "max_steps = 2_000\n",
        "\n",
        "reward_log = []\n",
        "action_log = []\n",
        "\n",
        "for episode in tqdm(range(num_episodes)):\n",
        "\n",
        "    state = env.reset()\n",
        "\n",
        "    total_reward = 0\n",
        "    ep_action_log = []\n",
        "\n",
        "    for _ in range(max_steps):\n",
        "        action = random.randrange(env.action_space.n)\n",
        "        ep_action_log.append(action)\n",
        "        next_state, reward, done, info = env.step(action)\n",
        "        total_reward += reward\n",
        "\n",
        "        state = next_state\n",
        "\n",
        "        if done:\n",
        "            break\n",
        "    \n",
        "    reward_log.append(total_reward)\n",
        "    action_log.append(ep_action_log)\n",
        "\n",
        "reward_log = np.array(reward_log)\n",
        "\n",
        "reward_mean = np.mean(reward_log)\n",
        "reward_max = np.max(reward_log)\n",
        "reward_min = np.min(reward_log)\n",
        "\n",
        "print()\n",
        "print(f'Mean: {reward_mean}')\n",
        "print(f'Max: {reward_max}')\n",
        "print(f'Min: {reward_min}')\n",
        "\n",
        "mean_plot = np.zeros_like(reward_log)\n",
        "mean_plot.fill(reward_mean)\n",
        "\n",
        "plt.plot(reward_log)\n",
        "plt.plot(mean_plot)"
      ],
      "execution_count": 37,
      "outputs": [
        {
          "output_type": "stream",
          "text": [
            "100%|██████████| 100/100 [00:00<00:00, 2885.26it/s]"
          ],
          "name": "stderr"
        },
        {
          "output_type": "stream",
          "text": [
            "\n",
            "Mean: 23.31\n",
            "Max: 63.0\n",
            "Min: 10.0\n"
          ],
          "name": "stdout"
        },
        {
          "output_type": "stream",
          "text": [
            "\n"
          ],
          "name": "stderr"
        },
        {
          "output_type": "execute_result",
          "data": {
            "text/plain": [
              "[<matplotlib.lines.Line2D at 0x7f8a41e08b00>]"
            ]
          },
          "metadata": {
            "tags": []
          },
          "execution_count": 37
        },
        {
          "output_type": "display_data",
          "data": {
            "image/png": "[encoded data removed]",
            "text/plain": [
              "<Figure size 432x288 with 1 Axes>"
            ]
          },
          "metadata": {
            "tags": []
          }
        }
      ]
    },
    {
      "cell_type": "markdown",
      "metadata": {
        "id": "HB32c8G9sAhv",
        "colab_type": "text"
      },
      "source": [
        "## Now it's time for the agent's turn."
      ]
    },
    {
      "cell_type": "code",
      "metadata": {
        "id": "4W3viz8DEpzg",
        "colab_type": "code",
        "outputId": "a932f04d-d203-41fa-ba94-3bb4b62e2429",
        "colab": {
          "base_uri": "https://localhost:8080/",
          "height": 373
        }
      },
      "source": [
        "num_episodes = 100\n",
        "max_steps = 2_000\n",
        "\n",
        "reward_log = []\n",
        "action_log = []\n",
        "\n",
        "for episode in tqdm(range(num_episodes)):\n",
        "\n",
        "    state = env.reset()\n",
        "\n",
        "    total_reward = 0\n",
        "    ep_action_log = []\n",
        "\n",
        "    for _ in range(max_steps):\n",
        "        action = np.argmax(target_net.predict(np.array([state]))[0])\n",
        "        ep_action_log.append(action)\n",
        "        next_state, reward, done, info = env.step(action)\n",
        "        total_reward += reward\n",
        "\n",
        "        state = next_state\n",
        "\n",
        "        if done:\n",
        "            break\n",
        "    \n",
        "    reward_log.append(total_reward)\n",
        "    action_log.append(ep_action_log)\n",
        "reward_log = np.array(reward_log)\n",
        "reward_mean = np.mean(reward_log)\n",
        "reward_max = np.max(reward_log)\n",
        "reward_min = np.min(reward_log)\n",
        "\n",
        "print()\n",
        "print(f'Mean: {reward_mean}')\n",
        "print(f'Max: {reward_max}')\n",
        "print(f'Min: {reward_min}')\n",
        "\n",
        "mean_plot = np.zeros_like(reward_log)\n",
        "mean_plot.fill(reward_mean)\n",
        "\n",
        "plt.plot(reward_log)\n",
        "plt.plot(mean_plot)"
      ],
      "execution_count": 36,
      "outputs": [
        {
          "output_type": "stream",
          "text": [
            "100%|██████████| 100/100 [00:10<00:00,  9.88it/s]"
          ],
          "name": "stderr"
        },
        {
          "output_type": "stream",
          "text": [
            "\n",
            "Mean: 85.01\n",
            "Max: 197.0\n",
            "Min: 46.0\n"
          ],
          "name": "stdout"
        },
        {
          "output_type": "stream",
          "text": [
            "\n"
          ],
          "name": "stderr"
        },
        {
          "output_type": "execute_result",
          "data": {
            "text/plain": [
              "[<matplotlib.lines.Line2D at 0x7f8a42165278>]"
            ]
          },
          "metadata": {
            "tags": []
          },
          "execution_count": 36
        },
        {
          "output_type": "display_data",
          "data": {
            "image/png": "[encoded data removed]",
            "text/plain": [
              "<Figure size 432x288 with 1 Axes>"
            ]
          },
          "metadata": {
            "tags": []
          }
        }
      ]
    },
    {
      "cell_type": "code",
      "metadata": {
        "id": "30V3jIDLdH8_",
        "colab_type": "code",
        "outputId": "4fc80a58-b5c3-4a76-edf3-23abd318dbe1",
        "colab": {
          "base_uri": "https://localhost:8080/",
          "height": 34
        }
      },
      "source": [
        "len(action_log)"
      ],
      "execution_count": 0,
      "outputs": [
        {
          "output_type": "execute_result",
          "data": {
            "text/plain": [
              "100"
            ]
          },
          "metadata": {
            "tags": []
          },
          "execution_count": 28
        }
      ]
    },
    {
      "cell_type": "code",
      "metadata": {
        "id": "t6bTejvUdS5L",
        "colab_type": "code",
        "outputId": "c0201eee-618d-417b-c751-693737a6a52c",
        "colab": {
          "base_uri": "https://localhost:8080/",
          "height": 51
        }
      },
      "source": [
        "x = np.argmax(reward_log)\n",
        "print(x)\n",
        "print(reward_log[x])"
      ],
      "execution_count": 0,
      "outputs": [
        {
          "output_type": "stream",
          "text": [
            "2\n",
            "200.0\n"
          ],
          "name": "stdout"
        }
      ]
    },
    {
      "cell_type": "code",
      "metadata": {
        "id": "EClEsYDW-pgb",
        "colab_type": "code",
        "colab": {}
      },
      "source": [
        "target_net.save('CartPole-v0.h5')"
      ],
      "execution_count": 0,
      "outputs": []
    },
    {
      "cell_type": "markdown",
      "metadata": {
        "id": "E34b4JjL6_O-",
        "colab_type": "text"
      },
      "source": [
        "## Evaluate using Q-value\n"
      ]
    },
    {
      "cell_type": "code",
      "metadata": {
        "id": "DdZ2vwfu6_O_",
        "colab_type": "code",
        "outputId": "23db6334-f534-4977-d528-6161818c00d8",
        "colab": {
          "base_uri": "https://localhost:8080/",
          "height": 269
        }
      },
      "source": [
        "transitions = memory.sample(BATCH_SIZE)\n",
        "# transpose the batch\n",
        "batch = Transition(*zip(*transitions))\n",
        "\n",
        "s = np.array(batch.state)\n",
        "a = np.array(batch.action)\n",
        "r = np.array(batch.reward)\n",
        "\n",
        "non_final_mask = np.array(list(map(lambda s: s is not None, batch.next_state)))\n",
        "non_final_s2 = np.array([s for s in batch.next_state if s is not None])\n",
        "\n",
        "# compute V(s_{t+1}) for all next states (except for terminal states)\n",
        "s2_values = target_net.predict(non_final_s2)\n",
        "target_q = np.zeros((BATCH_SIZE, n_actions), dtype=np.float32)\n",
        "\n",
        "# DEBUG\n",
        "s_q = target_net.predict(s)\n",
        "_old_q = []\n",
        "_target_q = []\n",
        "# END_DEBUG\n",
        "\n",
        "s2_index = 0\n",
        "for i in range(BATCH_SIZE):\n",
        "    if non_final_mask[i]:\n",
        "        target_q[i][a[i]] = np.max(s2_values[s2_index]) * GAMMA + r[i]\n",
        "        # DEBUG\n",
        "        _old_q.append(s_q[i][a[i]])\n",
        "#         _target_q.append(target_q[i][a[i]])\n",
        "        _target_q.append(np.max(s2_values[s2_index]))\n",
        "        # END_DEBUG\n",
        "        s2_index += 1\n",
        "    else:\n",
        "        # DEBUG\n",
        "        _old_q.append(s_q[i][a[i]])\n",
        "        _target_q.append(0)\n",
        "        # END_DEBUG\n",
        "_old_q = np.array(_old_q)\n",
        "_target_q = np.array(_target_q)\n",
        "\n",
        "plt.plot(_old_q, label='Old Q')\n",
        "plt.plot(_target_q, label='Target Q')\n",
        "plt.legend()\n",
        "plt.grid()"
      ],
      "execution_count": 0,
      "outputs": [
        {
          "output_type": "display_data",
          "data": {
            "image/png": "[encoded data removed]",
            "text/plain": [
              "<Figure size 432x288 with 1 Axes>"
            ]
          },
          "metadata": {
            "tags": []
          }
        }
      ]
    }
  ]
}