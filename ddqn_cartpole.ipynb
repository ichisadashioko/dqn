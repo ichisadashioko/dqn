{
 "cells": [
  {
   "cell_type": "markdown",
   "metadata": {
    "colab_type": "text",
    "id": "view-in-github"
   },
   "source": [
    "<a href=\"https://colab.research.google.com/github/ichisadashioko/dqn/blob/master/ddqn_cartpole.ipynb\" target=\"_parent\"><img src=\"https://colab.research.google.com/assets/colab-badge.svg\" alt=\"Open In Colab\"/></a>"
   ]
  },
  {
   "cell_type": "code",
   "execution_count": 1,
   "metadata": {
    "colab": {
     "base_uri": "https://localhost:8080/",
     "height": 377
    },
    "colab_type": "code",
    "id": "_CTS0EC87ODi",
    "outputId": "20c9b279-fb1a-43c5-b82d-3b4480043a77"
   },
   "outputs": [],
   "source": [
    "if False:\n",
    "    !pip install tensorflow==2.0.0-beta1"
   ]
  },
  {
   "cell_type": "code",
   "execution_count": 2,
   "metadata": {
    "colab": {
     "base_uri": "https://localhost:8080/",
     "height": 445
    },
    "colab_type": "code",
    "id": "DSI4ZtEk2MUN",
    "outputId": "087b4415-7265-4107-cf01-e46d377e6b27"
   },
   "outputs": [],
   "source": [
    "if False:\n",
    "    !pip install tensorflow-gpu==2.0.0-beta1"
   ]
  },
  {
   "cell_type": "code",
   "execution_count": 3,
   "metadata": {
    "colab": {},
    "colab_type": "code",
    "id": "99I5FE3g6_NZ"
   },
   "outputs": [],
   "source": [
    "import os\n",
    "import time\n",
    "import math\n",
    "import random\n",
    "from datetime import datetime\n",
    "from collections import namedtuple, deque\n",
    "\n",
    "from tqdm import tqdm\n",
    "\n",
    "import numpy as np\n",
    "import pandas as pd\n",
    "import seaborn as sns\n",
    "import matplotlib.pyplot as plt\n",
    "\n",
    "import gym\n",
    "from gym.envs.registration import register"
   ]
  },
  {
   "cell_type": "code",
   "execution_count": 4,
   "metadata": {},
   "outputs": [],
   "source": [
    "# disable GPU (optional)\n",
    "os.environ[\"CUDA_VISIBLE_DEVICES\"]=\"-1\" "
   ]
  },
  {
   "cell_type": "code",
   "execution_count": 5,
   "metadata": {
    "colab": {},
    "colab_type": "code",
    "id": "9NRxHaba6_Ne"
   },
   "outputs": [],
   "source": [
    "# disable TensorFlow logs\n",
    "os.environ['TF_CPP_MIN_LOG_LEVEL'] = '3'\n",
    "import tensorflow as tf\n",
    "\n",
    "from tensorflow import keras\n",
    "from tensorflow.keras.layers import Conv2D, Dense, Flatten\n",
    "from tensorflow.keras.optimizers import RMSprop, Adam"
   ]
  },
  {
   "cell_type": "code",
   "execution_count": 6,
   "metadata": {
    "colab": {},
    "colab_type": "code",
    "id": "-noAyxK96_Nh"
   },
   "outputs": [],
   "source": [
    "Transition = namedtuple('Transition', ('state', 'action', 'next_state', 'reward'))\n",
    "\n",
    "class ReplayMemory(object):\n",
    "    def __init__(self, capacity=1_000_000):\n",
    "        self.capacity = capacity\n",
    "        self.memory = deque(maxlen=capacity)\n",
    "\n",
    "    def push(self, *args):\n",
    "        self.memory.append(Transition(*args))\n",
    "\n",
    "    def sample(self, batch_size=32):\n",
    "        return random.sample(self.memory, batch_size)\n",
    "\n",
    "    def __len__(self):\n",
    "        return len(self.memory)"
   ]
  },
  {
   "cell_type": "code",
   "execution_count": 7,
   "metadata": {
    "colab": {
     "base_uri": "https://localhost:8080/",
     "height": 34
    },
    "colab_type": "code",
    "id": "gocp3-F96_Np",
    "outputId": "70661790-89f6-46e1-97ab-99d20926e936"
   },
   "outputs": [
    {
     "data": {
      "text/plain": [
       "0"
      ]
     },
     "execution_count": 7,
     "metadata": {},
     "output_type": "execute_result"
    }
   ],
   "source": [
    "memory = ReplayMemory()\n",
    "len(memory)"
   ]
  },
  {
   "cell_type": "code",
   "execution_count": 8,
   "metadata": {
    "colab": {},
    "colab_type": "code",
    "id": "NxudH-Ja6_Ny"
   },
   "outputs": [],
   "source": [
    "env_name = 'CartPole-v1'\n",
    "env = gym.make(env_name).unwrapped"
   ]
  },
  {
   "cell_type": "code",
   "execution_count": 9,
   "metadata": {
    "colab": {},
    "colab_type": "code",
    "id": "Dp20t31JtuwA"
   },
   "outputs": [
    {
     "data": {
      "text/plain": [
       "True"
      ]
     },
     "execution_count": 9,
     "metadata": {},
     "output_type": "execute_result"
    }
   ],
   "source": [
    "if False:\n",
    "# if True:\n",
    "    from google.colab import drive\n",
    "    mount_point = '/gdrive'\n",
    "    drive.mount(mount_point, force_remount=True)\n",
    "    save_dir = f'{mount_point}/My Drive/DQN-{env_name}'\n",
    "else:\n",
    "    save_dir = f'./DQN-{env_name}'\n",
    "\n",
    "if not os.path.exists(save_dir):\n",
    "    os.makedirs(save_dir)\n",
    "\n",
    "os.path.exists(save_dir)"
   ]
  },
  {
   "cell_type": "markdown",
   "metadata": {
    "colab_type": "text",
    "id": "BAqmI8Tp6_N3"
   },
   "source": [
    "## Hyperparameters"
   ]
  },
  {
   "cell_type": "code",
   "execution_count": 10,
   "metadata": {
    "colab": {},
    "colab_type": "code",
    "id": "UwW1nKbe6_N5"
   },
   "outputs": [],
   "source": [
    "input_shape = env.observation_space.shape\n",
    "n_actions = env.action_space.n\n",
    "lr = 0.0001\n",
    "BATCH_SIZE = 32\n",
    "GAMMA = 0.99\n",
    "\n",
    "EPS_START = 1 # initial value of epsilon\n",
    "EPS_END = 0.1 # final value of epsilon\n",
    "EPS_DECAY = 500_000 # number of steps until epsilon reach its final value\n",
    "steps_done = 0"
   ]
  },
  {
   "cell_type": "code",
   "execution_count": 11,
   "metadata": {
    "colab": {},
    "colab_type": "code",
    "id": "vM6yFSQL6_OB"
   },
   "outputs": [],
   "source": [
    "def create_network(name, input_shape, n_actions, lr, activation_name):\n",
    "    model = keras.Sequential(name=name, layers=[\n",
    "        Dense(\n",
    "            name=f'{name}_dense_01',\n",
    "            units=32,\n",
    "            input_shape=input_shape,\n",
    "            activation=activation_name,\n",
    "        ),\n",
    "        Dense(\n",
    "            name=f'{name}_dense_02',\n",
    "            units=64,\n",
    "            activation=activation_name,\n",
    "        ),\n",
    "        Dense(\n",
    "            name=f'{name}_dense_03',\n",
    "            units=n_actions,\n",
    "            activation='linear',\n",
    "        )\n",
    "    ])\n",
    "\n",
    "    optimizer = RMSprop(lr=lr)\n",
    "\n",
    "    model.compile(\n",
    "        optimizer=optimizer,\n",
    "        loss='mse',\n",
    "    )\n",
    "\n",
    "    return model"
   ]
  },
  {
   "cell_type": "code",
   "execution_count": 12,
   "metadata": {
    "colab": {
     "base_uri": "https://localhost:8080/",
     "height": 493
    },
    "colab_type": "code",
    "id": "Th_N1LMY6_OE",
    "outputId": "ada4c5e9-28dc-4032-f956-5c04f5091f96"
   },
   "outputs": [
    {
     "name": "stdout",
     "output_type": "stream",
     "text": [
      "Model: \"target_net\"\n",
      "_________________________________________________________________\n",
      "Layer (type)                 Output Shape              Param #   \n",
      "=================================================================\n",
      "target_net_dense_01 (Dense)  (None, 32)                160       \n",
      "_________________________________________________________________\n",
      "target_net_dense_02 (Dense)  (None, 64)                2112      \n",
      "_________________________________________________________________\n",
      "target_net_dense_03 (Dense)  (None, 2)                 130       \n",
      "=================================================================\n",
      "Total params: 2,402\n",
      "Trainable params: 2,402\n",
      "Non-trainable params: 0\n",
      "_________________________________________________________________\n",
      "Model: \"policy_net\"\n",
      "_________________________________________________________________\n",
      "Layer (type)                 Output Shape              Param #   \n",
      "=================================================================\n",
      "policy_net_dense_01 (Dense)  (None, 32)                160       \n",
      "_________________________________________________________________\n",
      "policy_net_dense_02 (Dense)  (None, 64)                2112      \n",
      "_________________________________________________________________\n",
      "policy_net_dense_03 (Dense)  (None, 2)                 130       \n",
      "=================================================================\n",
      "Total params: 2,402\n",
      "Trainable params: 2,402\n",
      "Non-trainable params: 0\n",
      "_________________________________________________________________\n"
     ]
    }
   ],
   "source": [
    "activation_name = 'relu'\n",
    "\n",
    "target_net = create_network(\n",
    "    name='target_net',\n",
    "    input_shape=input_shape,\n",
    "    n_actions=n_actions,\n",
    "    lr=lr,\n",
    "    activation_name=activation_name,\n",
    ")\n",
    "\n",
    "target_net.summary()\n",
    "\n",
    "policy_net = create_network(\n",
    "    name='policy_net',\n",
    "    input_shape=input_shape,\n",
    "    n_actions=n_actions,\n",
    "    lr=lr,\n",
    "    activation_name=activation_name,\n",
    ")\n",
    "\n",
    "policy_net.summary()"
   ]
  },
  {
   "cell_type": "markdown",
   "metadata": {
    "colab_type": "text",
    "id": "HgAoLqog6_OP"
   },
   "source": [
    "Copy weights from target network to policy network"
   ]
  },
  {
   "cell_type": "code",
   "execution_count": 13,
   "metadata": {
    "colab": {},
    "colab_type": "code",
    "id": "sX_1GHKj6_OQ"
   },
   "outputs": [],
   "source": [
    "policy_net.set_weights(target_net.get_weights())"
   ]
  },
  {
   "cell_type": "code",
   "execution_count": 14,
   "metadata": {
    "colab": {},
    "colab_type": "code",
    "id": "p2mnbQNj6_OT"
   },
   "outputs": [],
   "source": [
    "def select_action(state):\n",
    "    global steps_done\n",
    "    sample = random.random()\n",
    "    eps_threshold = EPS_END + (EPS_START - EPS_END) * math.exp(-1. * steps_done / EPS_DECAY)\n",
    "    if sample > eps_threshold:\n",
    "        batch = np.array([state])\n",
    "        action = np.argmax(policy_net.predict(batch)[0])\n",
    "    else:\n",
    "        action = random.randrange(n_actions)\n",
    "    \n",
    "    steps_done += 1\n",
    "    return action"
   ]
  },
  {
   "cell_type": "code",
   "execution_count": 15,
   "metadata": {},
   "outputs": [],
   "source": [
    "class MyClassback(tf.keras.callbacks.Callback):\n",
    "    def __init__(self):\n",
    "        self.log = []\n",
    "\n",
    "    def on_epoch_end(self, epoch, logs={}):\n",
    "        self.log.append(logs)"
   ]
  },
  {
   "cell_type": "code",
   "execution_count": 16,
   "metadata": {},
   "outputs": [],
   "source": [
    "callback = MyClassback()"
   ]
  },
  {
   "cell_type": "code",
   "execution_count": 17,
   "metadata": {},
   "outputs": [],
   "source": [
    "optimize_model_time = []\n",
    "process_data_time = []\n",
    "predict_time = []\n",
    "fit_time = []"
   ]
  },
  {
   "cell_type": "code",
   "execution_count": 18,
   "metadata": {
    "colab": {},
    "colab_type": "code",
    "id": "NrxJBzXy6_OW"
   },
   "outputs": [],
   "source": [
    "def optimize_model():\n",
    "    if len(memory) < BATCH_SIZE:\n",
    "        return\n",
    "    optimize_start = time.time()\n",
    "    transitions = memory.sample(BATCH_SIZE)\n",
    "    # transpose the batch\n",
    "    batch = Transition(*zip(*transitions))\n",
    "    \n",
    "    s = np.array(batch.state)\n",
    "    a = np.array(batch.action)\n",
    "    r = np.array(batch.reward)\n",
    "    \n",
    "    non_final_mask = np.array(list(map(lambda s: s is not None, batch.next_state)))\n",
    "    non_final_s2 = np.array([s for s in batch.next_state if s is not None])\n",
    "\n",
    "    forward_batch = np.concatenate((s, non_final_s2), axis=0)\n",
    "    _proc_time = time.time() - optimize_start\n",
    "    process_data_time.append(_proc_time)\n",
    "\n",
    "    _predict_start = time.time()\n",
    "    forward_values = target_net.predict(forward_batch)\n",
    "    # compute V(s_{t+1}) for all next states (except for terminal states)\n",
    "    # s2_values = agent_net.predict(non_final_s2)\n",
    "    s2_values = forward_values[len(s):]\n",
    "    # compute old Q-values\n",
    "    # s_values = agent_net.predict(s)\n",
    "    s_values = forward_values[:len(s)]\n",
    "    _predict_time = time.time() - _predict_start\n",
    "    predict_time.append(_predict_time)\n",
    "    \n",
    "#     target_q = np.zeros((BATCH_SIZE, n_actions), dtype=np.float32)\n",
    "    target_q = s_values\n",
    "    s2_index = 0\n",
    "    for i in range(BATCH_SIZE):\n",
    "        if non_final_mask[i]:\n",
    "            target_q[i][a[i]] = np.max(s2_values[s2_index]) * GAMMA + r[i]\n",
    "            s2_index += 1\n",
    "        else:\n",
    "            # subject to change\n",
    "            target_q[i][a[i]] = r[i]\n",
    "    \n",
    "    _fit_start = time.time()\n",
    "    policy_net.fit(\n",
    "        x=s,\n",
    "        y=target_q,\n",
    "        verbose=0,\n",
    "        callbacks=[callback]\n",
    "    )\n",
    "    _fit_time = time.time() - _fit_start\n",
    "    fit_time.append(_fit_time)\n",
    "    \n",
    "    optimize_model_time.append(time.time() - optimize_start)"
   ]
  },
  {
   "cell_type": "code",
   "execution_count": 19,
   "metadata": {},
   "outputs": [],
   "source": [
    "def evaluate_networks(num_episodes=20, show=False, max_steps=1_000):\n",
    "    # use random as baseline\n",
    "    rand_reward_log = []\n",
    "    rand_action_log = []\n",
    "\n",
    "    for episode in range(num_episodes):\n",
    "        state = env.reset()\n",
    "        total_reward = 0\n",
    "        ep_action_log = []\n",
    "        for _ in range(max_steps):\n",
    "            action = random.randrange(env.action_space.n)\n",
    "            ep_action_log.append(action)\n",
    "            next_state, reward, done, info = env.step(action)\n",
    "            total_reward += reward\n",
    "            state = next_state\n",
    "            if done:\n",
    "                break\n",
    "        rand_reward_log.append(total_reward)\n",
    "        rand_action_log.append(ep_action_log)\n",
    "    rand_reward_log = np.array(rand_reward_log)\n",
    "    rand_reward_mean = np.mean(rand_reward_log)\n",
    "    rand_reward_max = np.max(rand_reward_log)\n",
    "    rand_reward_min = np.min(rand_reward_log)\n",
    "    \n",
    "    print()\n",
    "    print(f'Random Mean: {rand_reward_mean}')\n",
    "    print(f'Random Max: {rand_reward_max}')\n",
    "    print(f'Random Min: {rand_reward_min}')\n",
    "    \n",
    "    if show:\n",
    "        rand_mean_plot = np.zeros_like(rand_reward_log)\n",
    "        rand_mean_plot.fill(rand_reward_mean)\n",
    "        plt.plot(rand_reward_log)\n",
    "        plt.plot(rand_mean_plot)\n",
    "        plt.show()\n",
    "\n",
    "    # evaluate agent (before update)\n",
    "    target_reward_log = []\n",
    "    target_action_log = []\n",
    "\n",
    "    for episode in range(num_episodes):\n",
    "        state = env.reset()\n",
    "        total_reward = 0\n",
    "        ep_action_log = []\n",
    "        for _ in range(max_steps):\n",
    "            action = np.argmax(target_net.predict(np.array([state]))[0])\n",
    "            ep_action_log.append(action)\n",
    "            next_state, reward, done, info = env.step(action)\n",
    "            total_reward += reward\n",
    "            state = next_state\n",
    "            if done:\n",
    "                break\n",
    "        target_reward_log.append(total_reward)\n",
    "        target_action_log.append(ep_action_log)\n",
    "    target_reward_log = np.array(target_reward_log)\n",
    "    target_reward_mean = np.mean(target_reward_log)\n",
    "    target_reward_max = np.max(target_reward_log)\n",
    "    target_reward_min = np.min(target_reward_log)\n",
    "    \n",
    "    print()\n",
    "    print(f'Target Mean: {target_reward_mean} {(target_reward_mean/rand_reward_mean)*100:.2f}% compare to random')\n",
    "    print(f'Target Max: {target_reward_max} {(target_reward_max/rand_reward_max)*100:.2f}% compare to random')\n",
    "    print(f'Target Min: {target_reward_min} {(target_reward_min/rand_reward_min)*100:.2f}% compare to random')\n",
    "    \n",
    "    if show:\n",
    "        target_mean_plot = np.zeros_like(target_reward_log)\n",
    "        target_mean_plot.fill(target_reward_mean)\n",
    "        plt.plot(target_reward_log)\n",
    "        plt.plot(target_mean_plot)\n",
    "        plt.show()\n",
    "\n",
    "\n",
    "    # evaluate agent (after update)\n",
    "    policy_reward_log = []\n",
    "    policy_action_log = []\n",
    "\n",
    "    for episode in range(num_episodes):\n",
    "        state = env.reset()\n",
    "        total_reward = 0\n",
    "        ep_action_log = []\n",
    "        for _ in range(max_steps):\n",
    "            action = np.argmax(policy_net.predict(np.array([state]))[0])\n",
    "            ep_action_log.append(action)\n",
    "            next_state, reward, done, info = env.step(action)\n",
    "            total_reward += reward\n",
    "            state = next_state\n",
    "            if done:\n",
    "                break\n",
    "        policy_reward_log.append(total_reward)\n",
    "        policy_action_log.append(ep_action_log)\n",
    "    policy_reward_log = np.array(policy_reward_log)\n",
    "    policy_reward_mean = np.mean(policy_reward_log)\n",
    "    policy_reward_max = np.max(policy_reward_log)\n",
    "    policy_reward_min = np.min(policy_reward_log)\n",
    "    \n",
    "    print()\n",
    "    print(f'Policy Mean: {policy_reward_mean} {(policy_reward_mean/rand_reward_mean)*100:.2f}% compare to random')\n",
    "    print(f'Policy Max: {policy_reward_max} {(policy_reward_max/rand_reward_max)*100:.2f}% compare to random')\n",
    "    print(f'Policy Min: {policy_reward_min} {(policy_reward_min/rand_reward_min)*100:.2f}% compare to random')\n",
    "    \n",
    "    if show:\n",
    "        policy_mean_plot = np.zeros_like(policy_reward_log)\n",
    "        policy_mean_plot.fill(policy_reward_mean)\n",
    "        plt.plot(policy_reward_log)\n",
    "        plt.plot(policy_mean_plot)\n",
    "        plt.show()"
   ]
  },
  {
   "cell_type": "markdown",
   "metadata": {
    "colab_type": "text",
    "id": "2WcL-WiL6_Oe"
   },
   "source": [
    "## Training loop"
   ]
  },
  {
   "cell_type": "code",
   "execution_count": 20,
   "metadata": {
    "colab": {},
    "colab_type": "code",
    "id": "GFWOy-ez4ISs"
   },
   "outputs": [],
   "source": [
    "train_reward_log = []"
   ]
  },
  {
   "cell_type": "code",
   "execution_count": 21,
   "metadata": {
    "colab": {
     "base_uri": "https://localhost:8080/",
     "height": 373
    },
    "colab_type": "code",
    "id": "iOYJuUnF6_Oe",
    "outputId": "938b72ab-3f56-4a69-c7a4-cc0e6f43f856",
    "scrolled": false
   },
   "outputs": [
    {
     "name": "stderr",
     "output_type": "stream",
     "text": [
      "  5%|███▋                                                                      | 19997/400000 [01:05<19:47, 320.07it/s]"
     ]
    },
    {
     "name": "stdout",
     "output_type": "stream",
     "text": [
      "\n",
      "Random Mean: 18.1\n",
      "Random Max: 38.0\n",
      "Random Min: 9.0\n",
      "\n",
      "Target Mean: 11.4 62.98% compare to random\n",
      "Target Max: 28.0 73.68% compare to random\n",
      "Target Min: 8.0 88.89% compare to random\n",
      "\n",
      "Policy Mean: 17.45 96.41% compare to random\n",
      "Policy Max: 24.0 63.16% compare to random\n",
      "Policy Min: 14.0 155.56% compare to random\n"
     ]
    },
    {
     "name": "stderr",
     "output_type": "stream",
     "text": [
      "c:\\users\\shioko\\appdata\\local\\programs\\python\\python37\\lib\\site-packages\\gym\\logger.py:30: UserWarning: WARN: You are calling 'step()' even though this environment has already returned done = True. You should always call 'reset()' once you receive 'done = True' -- any further steps are undefined behavior.\n",
      "  warnings.warn(colorize('%s: %s'%('WARN', msg % args), 'yellow'))\n",
      " 10%|███████▍                                                                  | 39985/400000 [02:11<19:58, 300.34it/s]"
     ]
    },
    {
     "name": "stdout",
     "output_type": "stream",
     "text": [
      "\n",
      "Random Mean: 27.25\n",
      "Random Max: 84.0\n",
      "Random Min: 10.0\n",
      "\n",
      "Target Mean: 16.75 61.47% compare to random\n",
      "Target Max: 23.0 27.38% compare to random\n",
      "Target Min: 10.0 100.00% compare to random\n",
      "\n",
      "Policy Mean: 10.25 37.61% compare to random\n",
      "Policy Max: 13.0 15.48% compare to random\n",
      "Policy Min: 9.0 90.00% compare to random\n"
     ]
    },
    {
     "name": "stderr",
     "output_type": "stream",
     "text": [
      " 15%|███████████                                                               | 59977/400000 [03:21<20:57, 270.33it/s]"
     ]
    },
    {
     "name": "stdout",
     "output_type": "stream",
     "text": [
      "\n",
      "Random Mean: 24.75\n",
      "Random Max: 71.0\n",
      "Random Min: 12.0\n",
      "\n",
      "Target Mean: 10.35 41.82% compare to random\n",
      "Target Max: 12.0 16.90% compare to random\n",
      "Target Min: 9.0 75.00% compare to random\n",
      "\n",
      "Policy Mean: 9.5 38.38% compare to random\n",
      "Policy Max: 11.0 15.49% compare to random\n",
      "Policy Min: 8.0 66.67% compare to random\n"
     ]
    },
    {
     "name": "stderr",
     "output_type": "stream",
     "text": [
      " 20%|██████████████▊                                                           | 79973/400000 [04:28<18:12, 292.89it/s]"
     ]
    },
    {
     "name": "stdout",
     "output_type": "stream",
     "text": [
      "\n",
      "Random Mean: 21.95\n",
      "Random Max: 45.0\n",
      "Random Min: 10.0\n",
      "\n",
      "Target Mean: 9.2 41.91% compare to random\n",
      "Target Max: 11.0 24.44% compare to random\n",
      "Target Min: 8.0 80.00% compare to random\n",
      "\n",
      "Policy Mean: 9.95 45.33% compare to random\n",
      "Policy Max: 12.0 26.67% compare to random\n",
      "Policy Min: 9.0 90.00% compare to random\n"
     ]
    },
    {
     "name": "stderr",
     "output_type": "stream",
     "text": [
      " 25%|██████████████████▍                                                       | 99978/400000 [05:35<16:08, 309.75it/s]"
     ]
    },
    {
     "name": "stdout",
     "output_type": "stream",
     "text": [
      "\n",
      "Random Mean: 20.25\n",
      "Random Max: 63.0\n",
      "Random Min: 9.0\n",
      "\n",
      "Target Mean: 9.8 48.40% compare to random\n",
      "Target Max: 12.0 19.05% compare to random\n",
      "Target Min: 9.0 100.00% compare to random\n",
      "\n",
      "Policy Mean: 9.7 47.90% compare to random\n",
      "Policy Max: 11.0 17.46% compare to random\n",
      "Policy Min: 8.0 88.89% compare to random\n"
     ]
    },
    {
     "name": "stderr",
     "output_type": "stream",
     "text": [
      " 30%|█████████████████████▉                                                   | 119983/400000 [06:40<15:07, 308.50it/s]"
     ]
    },
    {
     "name": "stdout",
     "output_type": "stream",
     "text": [
      "\n",
      "Random Mean: 23.15\n",
      "Random Max: 70.0\n",
      "Random Min: 9.0\n",
      "\n",
      "Target Mean: 9.6 41.47% compare to random\n",
      "Target Max: 11.0 15.71% compare to random\n",
      "Target Min: 8.0 88.89% compare to random\n",
      "\n",
      "Policy Mean: 9.7 41.90% compare to random\n",
      "Policy Max: 11.0 15.71% compare to random\n",
      "Policy Min: 9.0 100.00% compare to random\n"
     ]
    },
    {
     "name": "stderr",
     "output_type": "stream",
     "text": [
      " 35%|█████████████████████████▌                                               | 139978/400000 [07:49<14:43, 294.47it/s]"
     ]
    },
    {
     "name": "stdout",
     "output_type": "stream",
     "text": [
      "\n",
      "Random Mean: 22.15\n",
      "Random Max: 39.0\n",
      "Random Min: 10.0\n",
      "\n",
      "Target Mean: 9.75 44.02% compare to random\n",
      "Target Max: 11.0 28.21% compare to random\n",
      "Target Min: 9.0 90.00% compare to random\n",
      "\n",
      "Policy Mean: 13.45 60.72% compare to random\n",
      "Policy Max: 26.0 66.67% compare to random\n",
      "Policy Min: 10.0 100.00% compare to random\n"
     ]
    },
    {
     "name": "stderr",
     "output_type": "stream",
     "text": [
      " 40%|█████████████████████████████▏                                           | 159989/400000 [09:03<14:54, 268.44it/s]"
     ]
    },
    {
     "name": "stdout",
     "output_type": "stream",
     "text": [
      "\n",
      "Random Mean: 27.15\n",
      "Random Max: 84.0\n",
      "Random Min: 11.0\n",
      "\n",
      "Target Mean: 10.95 40.33% compare to random\n",
      "Target Max: 25.0 29.76% compare to random\n",
      "Target Min: 9.0 81.82% compare to random\n",
      "\n",
      "Policy Mean: 15.5 57.09% compare to random\n",
      "Policy Max: 26.0 30.95% compare to random\n",
      "Policy Min: 10.0 90.91% compare to random\n"
     ]
    },
    {
     "name": "stderr",
     "output_type": "stream",
     "text": [
      " 45%|████████████████████████████████▊                                        | 179998/400000 [10:18<13:44, 266.85it/s]"
     ]
    },
    {
     "name": "stdout",
     "output_type": "stream",
     "text": [
      "\n",
      "Random Mean: 23.1\n",
      "Random Max: 40.0\n",
      "Random Min: 10.0\n",
      "\n",
      "Target Mean: 17.55 75.97% compare to random\n",
      "Target Max: 28.0 70.00% compare to random\n",
      "Target Min: 10.0 100.00% compare to random\n",
      "\n",
      "Policy Mean: 26.25 113.64% compare to random\n",
      "Policy Max: 39.0 97.50% compare to random\n",
      "Policy Min: 22.0 220.00% compare to random\n"
     ]
    },
    {
     "name": "stderr",
     "output_type": "stream",
     "text": [
      " 50%|████████████████████████████████████▍                                    | 199985/400000 [11:38<14:06, 236.33it/s]"
     ]
    },
    {
     "name": "stdout",
     "output_type": "stream",
     "text": [
      "\n",
      "Random Mean: 21.25\n",
      "Random Max: 43.0\n",
      "Random Min: 10.0\n",
      "\n",
      "Target Mean: 25.65 120.71% compare to random\n",
      "Target Max: 29.0 67.44% compare to random\n",
      "Target Min: 23.0 230.00% compare to random\n",
      "\n",
      "Policy Mean: 64.55 303.76% compare to random\n",
      "Policy Max: 154.0 358.14% compare to random\n",
      "Policy Min: 26.0 260.00% compare to random\n"
     ]
    },
    {
     "name": "stderr",
     "output_type": "stream",
     "text": [
      " 55%|████████████████████████████████████████▏                                | 219984/400000 [13:00<12:11, 245.96it/s]"
     ]
    },
    {
     "name": "stdout",
     "output_type": "stream",
     "text": [
      "\n",
      "Random Mean: 23.8\n",
      "Random Max: 49.0\n",
      "Random Min: 9.0\n",
      "\n",
      "Target Mean: 66.5 279.41% compare to random\n",
      "Target Max: 178.0 363.27% compare to random\n",
      "Target Min: 25.0 277.78% compare to random\n",
      "\n",
      "Policy Mean: 116.45 489.29% compare to random\n",
      "Policy Max: 230.0 469.39% compare to random\n",
      "Policy Min: 24.0 266.67% compare to random\n"
     ]
    },
    {
     "name": "stderr",
     "output_type": "stream",
     "text": [
      " 60%|███████████████████████████████████████████▊                             | 240000/400000 [14:23<11:32, 231.07it/s]"
     ]
    },
    {
     "name": "stdout",
     "output_type": "stream",
     "text": [
      "\n",
      "Random Mean: 22.85\n",
      "Random Max: 50.0\n",
      "Random Min: 9.0\n",
      "\n",
      "Target Mean: 123.85 542.01% compare to random\n",
      "Target Max: 212.0 424.00% compare to random\n",
      "Target Min: 52.0 577.78% compare to random\n",
      "\n",
      "Policy Mean: 131.0 573.30% compare to random\n",
      "Policy Max: 182.0 364.00% compare to random\n",
      "Policy Min: 58.0 644.44% compare to random\n"
     ]
    },
    {
     "name": "stderr",
     "output_type": "stream",
     "text": [
      " 65%|███████████████████████████████████████████████▍                         | 259977/400000 [15:50<09:20, 249.88it/s]"
     ]
    },
    {
     "name": "stdout",
     "output_type": "stream",
     "text": [
      "\n",
      "Random Mean: 30.35\n",
      "Random Max: 84.0\n",
      "Random Min: 11.0\n",
      "\n",
      "Target Mean: 135.85 447.61% compare to random\n",
      "Target Max: 171.0 203.57% compare to random\n",
      "Target Min: 42.0 381.82% compare to random\n",
      "\n",
      "Policy Mean: 136.6 450.08% compare to random\n",
      "Policy Max: 186.0 221.43% compare to random\n",
      "Policy Min: 43.0 390.91% compare to random\n"
     ]
    },
    {
     "name": "stderr",
     "output_type": "stream",
     "text": [
      " 70%|███████████████████████████████████████████████████                      | 279984/400000 [17:14<08:25, 237.33it/s]"
     ]
    },
    {
     "name": "stdout",
     "output_type": "stream",
     "text": [
      "\n",
      "Random Mean: 21.35\n",
      "Random Max: 40.0\n",
      "Random Min: 9.0\n",
      "\n",
      "Target Mean: 140.25 656.91% compare to random\n",
      "Target Max: 185.0 462.50% compare to random\n",
      "Target Min: 68.0 755.56% compare to random\n",
      "\n",
      "Policy Mean: 200.3 938.17% compare to random\n",
      "Policy Max: 363.0 907.50% compare to random\n",
      "Policy Min: 105.0 1166.67% compare to random\n"
     ]
    },
    {
     "name": "stderr",
     "output_type": "stream",
     "text": [
      " 75%|██████████████████████████████████████████████████████▋                  | 299988/400000 [18:35<06:19, 263.62it/s]"
     ]
    },
    {
     "name": "stdout",
     "output_type": "stream",
     "text": [
      "\n",
      "Random Mean: 27.3\n",
      "Random Max: 60.0\n",
      "Random Min: 14.0\n",
      "\n",
      "Target Mean: 188.55 690.66% compare to random\n",
      "Target Max: 312.0 520.00% compare to random\n",
      "Target Min: 105.0 750.00% compare to random\n",
      "\n",
      "Policy Mean: 227.75 834.25% compare to random\n",
      "Policy Max: 535.0 891.67% compare to random\n",
      "Policy Min: 125.0 892.86% compare to random\n"
     ]
    },
    {
     "name": "stderr",
     "output_type": "stream",
     "text": [
      " 80%|██████████████████████████████████████████████████████████▍              | 320000/400000 [19:57<05:04, 262.75it/s]"
     ]
    },
    {
     "name": "stdout",
     "output_type": "stream",
     "text": [
      "\n",
      "Random Mean: 17.75\n",
      "Random Max: 37.0\n",
      "Random Min: 9.0\n",
      "\n",
      "Target Mean: 221.15 1245.92% compare to random\n",
      "Target Max: 329.0 889.19% compare to random\n",
      "Target Min: 127.0 1411.11% compare to random\n",
      "\n",
      "Policy Mean: 202.6 1141.41% compare to random\n",
      "Policy Max: 300.0 810.81% compare to random\n",
      "Policy Min: 148.0 1644.44% compare to random\n"
     ]
    },
    {
     "name": "stderr",
     "output_type": "stream",
     "text": [
      " 85%|██████████████████████████████████████████████████████████████           | 339989/400000 [21:21<03:50, 260.82it/s]"
     ]
    },
    {
     "name": "stdout",
     "output_type": "stream",
     "text": [
      "\n",
      "Random Mean: 24.4\n",
      "Random Max: 49.0\n",
      "Random Min: 9.0\n",
      "\n",
      "Target Mean: 185.85 761.68% compare to random\n",
      "Target Max: 247.0 504.08% compare to random\n",
      "Target Min: 136.0 1511.11% compare to random\n",
      "\n",
      "Policy Mean: 200.3 820.90% compare to random\n",
      "Policy Max: 333.0 679.59% compare to random\n",
      "Policy Min: 169.0 1877.78% compare to random\n"
     ]
    },
    {
     "name": "stderr",
     "output_type": "stream",
     "text": [
      " 90%|█████████████████████████████████████████████████████████████████▋       | 359997/400000 [22:45<02:43, 245.15it/s]"
     ]
    },
    {
     "name": "stdout",
     "output_type": "stream",
     "text": [
      "\n",
      "Random Mean: 23.2\n",
      "Random Max: 45.0\n",
      "Random Min: 10.0\n",
      "\n",
      "Target Mean: 206.9 891.81% compare to random\n",
      "Target Max: 272.0 604.44% compare to random\n",
      "Target Min: 154.0 1540.00% compare to random\n",
      "\n",
      "Policy Mean: 280.0 1206.90% compare to random\n",
      "Policy Max: 377.0 837.78% compare to random\n",
      "Policy Min: 179.0 1790.00% compare to random\n"
     ]
    },
    {
     "name": "stderr",
     "output_type": "stream",
     "text": [
      " 95%|█████████████████████████████████████████████████████████████████████▎   | 379997/400000 [24:12<01:21, 244.85it/s]"
     ]
    },
    {
     "name": "stdout",
     "output_type": "stream",
     "text": [
      "\n",
      "Random Mean: 20.85\n",
      "Random Max: 39.0\n",
      "Random Min: 12.0\n",
      "\n",
      "Target Mean: 279.15 1338.85% compare to random\n",
      "Target Max: 445.0 1141.03% compare to random\n",
      "Target Min: 153.0 1275.00% compare to random\n",
      "\n",
      "Policy Mean: 266.05 1276.02% compare to random\n",
      "Policy Max: 374.0 958.97% compare to random\n",
      "Policy Min: 178.0 1483.33% compare to random\n"
     ]
    },
    {
     "name": "stderr",
     "output_type": "stream",
     "text": [
      "100%|█████████████████████████████████████████████████████████████████████████| 400000/400000 [25:43<00:00, 259.21it/s]\n"
     ]
    },
    {
     "name": "stdout",
     "output_type": "stream",
     "text": [
      "\n",
      "Mean: 26.03\n",
      "Max: 318.0\n",
      "Min: 1.0\n"
     ]
    },
    {
     "data": {
      "text/plain": [
       "[<matplotlib.lines.Line2D at 0x25fb35ce4a8>]"
      ]
     },
     "execution_count": 21,
     "metadata": {},
     "output_type": "execute_result"
    },
    {
     "data": {
      "image/png": "[encoded data removed]",
      "text/plain": [
       "<Figure size 432x288 with 1 Axes>"
      ]
     },
     "metadata": {
      "needs_background": "light"
     },
     "output_type": "display_data"
    }
   ],
   "source": [
    "scale = 10_000\n",
    "update_freq = 2 * scale\n",
    "save_freq = 4 * scale\n",
    "\n",
    "num_steps = save_freq * 10\n",
    "\n",
    "episode_count = 0\n",
    "state = env.reset()\n",
    "ep_reward = 0\n",
    "\n",
    "for step_num in tqdm(range(num_steps)):\n",
    "    action = select_action(state) # select action use epsilon-greedy\n",
    "    # the agent is seem to perform better when training with random data (the first 500_000 steps only)\n",
    "    # action = random.randrange(n_actions)\n",
    "    next_state, reward, done, info = env.step(action)\n",
    "    ep_reward += reward\n",
    "    \n",
    "    if done:\n",
    "        next_state = None\n",
    "    memory.push(state, action, next_state, reward)\n",
    "    \n",
    "    if done:\n",
    "        train_reward_log.append(ep_reward)\n",
    "        ep_reward = 0\n",
    "        episode_count += 1\n",
    "        state = env.reset()\n",
    "    else:\n",
    "        state = next_state\n",
    "    \n",
    "    optimize_model()\n",
    "    \n",
    "    if step_num > 0:\n",
    "        if step_num % update_freq == 0:\n",
    "            evaluate_networks()\n",
    "            target_net.set_weights(policy_net.get_weights())\n",
    "        if step_num % save_freq == 0:\n",
    "            timestr = time.strftime('%Y%m%d-%H%M%S')\n",
    "            fname = f'{save_dir}/weights_{timestr}_{activation_name}_{steps_done}.h5'\n",
    "            target_net.save_weights(fname)\n",
    "\n",
    "timestr = time.strftime('%Y%m%d-%H%M%S')\n",
    "fname = f'{save_dir}/model_{timestr}_{activation_name}_{steps_done}.h5'\n",
    "target_net.save(fname)\n",
    "\n",
    "np_reward = np.array(train_reward_log[-episode_count:])\n",
    "\n",
    "reward_mean = np.mean(np_reward)\n",
    "reward_max = np.max(np_reward)\n",
    "reward_min = np.min(np_reward)\n",
    "\n",
    "print()\n",
    "print(f'Mean: {reward_mean:.2f}')\n",
    "print(f'Max: {reward_max}')\n",
    "print(f'Min: {reward_min}')\n",
    "\n",
    "mean_plot = np.zeros_like(np_reward)\n",
    "mean_plot.fill(reward_mean)\n",
    "\n",
    "plt.plot(np_reward)\n",
    "plt.plot(mean_plot)"
   ]
  },
  {
   "cell_type": "markdown",
   "metadata": {},
   "source": [
    "## Replay memory only"
   ]
  },
  {
   "cell_type": "code",
   "execution_count": 22,
   "metadata": {
    "scrolled": false
   },
   "outputs": [],
   "source": [
    "# scale = 2_000\n",
    "# update_freq = scale * 2\n",
    "# save_freq = scale * 4\n",
    "\n",
    "# num_steps = save_freq * 4\n",
    "\n",
    "# for step_num in tqdm(range(num_steps)):\n",
    "#     optimize_model()\n",
    "\n",
    "#     if step_num > 0:\n",
    "#         if step_num % update_freq == 0:\n",
    "#             evaluate_networks()\n",
    "#             target_net.set_weights(policy_net.get_weights())\n",
    "#         if step_num % save_freq == 0:\n",
    "#             timestr = time.strftime('%Y%m%d-%H%M%S')\n",
    "#             fname = f'{save_dir}/weights_{timestr}_{activation_name}_{steps_done}.h5'\n",
    "#             target_net.save_weights(fname)"
   ]
  },
  {
   "cell_type": "code",
   "execution_count": 29,
   "metadata": {},
   "outputs": [
    {
     "name": "stdout",
     "output_type": "stream",
     "text": [
      "\n",
      "Random Mean: 23.62\n",
      "Random Max: 76.0\n",
      "Random Min: 9.0\n"
     ]
    },
    {
     "data": {
      "image/png": "[encoded data removed]",
      "text/plain": [
       "<Figure size 432x288 with 1 Axes>"
      ]
     },
     "metadata": {
      "needs_background": "light"
     },
     "output_type": "display_data"
    },
    {
     "name": "stdout",
     "output_type": "stream",
     "text": [
      "\n",
      "Target Mean: 283.37 1199.70% compare to random\n",
      "Target Max: 422.0 555.26% compare to random\n",
      "Target Min: 185.0 2055.56% compare to random\n"
     ]
    },
    {
     "data": {
      "image/png": "[encoded data removed]",
      "text/plain": [
       "<Figure size 432x288 with 1 Axes>"
      ]
     },
     "metadata": {
      "needs_background": "light"
     },
     "output_type": "display_data"
    },
    {
     "name": "stdout",
     "output_type": "stream",
     "text": [
      "\n",
      "Policy Mean: 252.79 1070.24% compare to random\n",
      "Policy Max: 401.0 527.63% compare to random\n",
      "Policy Min: 180.0 2000.00% compare to random\n"
     ]
    },
    {
     "data": {
      "image/png": "[encoded data removed]",
      "text/plain": [
       "<Figure size 432x288 with 1 Axes>"
      ]
     },
     "metadata": {
      "needs_background": "light"
     },
     "output_type": "display_data"
    }
   ],
   "source": [
    "evaluate_networks(\n",
    "    num_episodes=100, \n",
    "    show=True,\n",
    ")"
   ]
  },
  {
   "cell_type": "markdown",
   "metadata": {},
   "source": [
    "## Plot time data"
   ]
  },
  {
   "cell_type": "code",
   "execution_count": 30,
   "metadata": {},
   "outputs": [
    {
     "data": {
      "image/png": "[encoded data removed]",
      "text/plain": [
       "<Figure size 432x288 with 1 Axes>"
      ]
     },
     "metadata": {
      "needs_background": "light"
     },
     "output_type": "display_data"
    }
   ],
   "source": [
    "# reference https://python-graph-gallery.com/255-percentage-stacked-area-chart/\n",
    "\n",
    "time_data = pd.DataFrame({\n",
    "    'process_time': process_data_time,\n",
    "    'predict_time': predict_time,\n",
    "    'fit_time': fit_time,\n",
    "})\n",
    "\n",
    "# We need to transform the data from raw data to percentage (fraction)\n",
    "time_data_perc = time_data.divide(time_data.sum(axis=1), axis=0)\n",
    "\n",
    "# make the plot\n",
    "plt.stackplot(\n",
    "    range(len(time_data_perc)),\n",
    "    time_data_perc['process_time'],\n",
    "    time_data_perc['predict_time'],\n",
    "    time_data_perc['fit_time'],\n",
    "    labels=['Process Data Time', 'Predict Time', 'Fit Time'],\n",
    ")\n",
    "plt.legend(loc='upper left')\n",
    "plt.margins(0, 0)\n",
    "plt.show()"
   ]
  },
  {
   "cell_type": "code",
   "execution_count": 31,
   "metadata": {},
   "outputs": [
    {
     "data": {
      "text/plain": [
       "400000"
      ]
     },
     "execution_count": 31,
     "metadata": {},
     "output_type": "execute_result"
    }
   ],
   "source": [
    "len(memory)"
   ]
  },
  {
   "cell_type": "code",
   "execution_count": 25,
   "metadata": {},
   "outputs": [
    {
     "data": {
      "text/plain": [
       "[{'loss': 0.5511572360992432},\n",
       " {'loss': 0.5434291362762451},\n",
       " {'loss': 0.5420385599136353},\n",
       " {'loss': 0.5408966541290283},\n",
       " {'loss': 0.5293301343917847},\n",
       " {'loss': 0.5304077863693237},\n",
       " {'loss': 0.5338785648345947},\n",
       " {'loss': 0.5323253870010376},\n",
       " {'loss': 0.5384925603866577},\n",
       " {'loss': 0.5246586203575134}]"
      ]
     },
     "execution_count": 25,
     "metadata": {},
     "output_type": "execute_result"
    }
   ],
   "source": [
    "callback.log[:10]"
   ]
  },
  {
   "cell_type": "code",
   "execution_count": 32,
   "metadata": {},
   "outputs": [
    {
     "data": {
      "text/plain": [
       "[<matplotlib.lines.Line2D at 0x25f90f04ef0>]"
      ]
     },
     "execution_count": 32,
     "metadata": {},
     "output_type": "execute_result"
    },
    {
     "data": {
      "image/png": "[encoded data removed]",
      "text/plain": [
       "<Figure size 432x288 with 1 Axes>"
      ]
     },
     "metadata": {
      "needs_background": "light"
     },
     "output_type": "display_data"
    }
   ],
   "source": [
    "loss_log = [x['loss'] for x in callback.log]\n",
    "plt.plot(loss_log)"
   ]
  },
  {
   "cell_type": "markdown",
   "metadata": {
    "colab_type": "text",
    "id": "sa1vQY7K6_Ol"
   },
   "source": [
    "Populate memory for testing if you haven't start training loop."
   ]
  },
  {
   "cell_type": "code",
   "execution_count": 27,
   "metadata": {
    "colab": {
     "base_uri": "https://localhost:8080/",
     "height": 34
    },
    "colab_type": "code",
    "id": "wXc2uLV56_Om",
    "outputId": "15eb7911-f5eb-438d-f3a6-f27608694f96"
   },
   "outputs": [],
   "source": [
    "# state = env.reset()\n",
    "# reward = 0\n",
    "# for _ in tqdm(range(100_000)):\n",
    "#     action = random.randrange(n_actions)\n",
    "#     next_state, reward, done, info = env.step(action)\n",
    "#     if done:\n",
    "#         next_state = None\n",
    "#     memory.push(state, action, next_state, reward)\n",
    "#     if done:\n",
    "#         state = env.reset()\n",
    "#     else:\n",
    "#         state = next_state"
   ]
  },
  {
   "cell_type": "markdown",
   "metadata": {
    "colab_type": "text",
    "id": "a9xJQiuy6_Ox"
   },
   "source": [
    "## Evaluate target network"
   ]
  },
  {
   "cell_type": "markdown",
   "metadata": {
    "colab_type": "text",
    "id": "tej9KfGu6_Oy"
   },
   "source": [
    "Use random as baseline"
   ]
  },
  {
   "cell_type": "markdown",
   "metadata": {
    "colab_type": "text",
    "id": "E34b4JjL6_O-"
   },
   "source": [
    "## Evaluate using Q-value\n"
   ]
  },
  {
   "cell_type": "code",
   "execution_count": 34,
   "metadata": {
    "colab": {
     "base_uri": "https://localhost:8080/",
     "height": 269
    },
    "colab_type": "code",
    "id": "DdZ2vwfu6_O_",
    "outputId": "23db6334-f534-4977-d528-6161818c00d8"
   },
   "outputs": [
    {
     "data": {
      "image/png": "[encoded data removed]",
      "text/plain": [
       "<Figure size 432x288 with 1 Axes>"
      ]
     },
     "metadata": {
      "needs_background": "light"
     },
     "output_type": "display_data"
    }
   ],
   "source": [
    "transitions = memory.sample(BATCH_SIZE)\n",
    "# transpose the batch\n",
    "batch = Transition(*zip(*transitions))\n",
    "\n",
    "s = np.array(batch.state)\n",
    "a = np.array(batch.action)\n",
    "r = np.array(batch.reward)\n",
    "\n",
    "non_final_mask = np.array(list(map(lambda s: s is not None, batch.next_state)))\n",
    "non_final_s2 = np.array([s for s in batch.next_state if s is not None])\n",
    "\n",
    "# compute V(s_{t+1}) for all next states (except for terminal states)\n",
    "s2_values = target_net.predict(non_final_s2)\n",
    "target_q = np.zeros((BATCH_SIZE, n_actions), dtype=np.float32)\n",
    "\n",
    "# DEBUG\n",
    "s_q = target_net.predict(s)\n",
    "_old_q = []\n",
    "_target_q = []\n",
    "# END_DEBUG\n",
    "\n",
    "s2_index = 0\n",
    "for i in range(BATCH_SIZE):\n",
    "    if non_final_mask[i]:\n",
    "        target_q[i][a[i]] = np.max(s2_values[s2_index]) * GAMMA + r[i]\n",
    "        # DEBUG\n",
    "        _old_q.append(s_q[i][a[i]])\n",
    "#         _target_q.append(target_q[i][a[i]])\n",
    "        _target_q.append(np.max(s2_values[s2_index]))\n",
    "        # END_DEBUG\n",
    "        s2_index += 1\n",
    "    else:\n",
    "        # DEBUG\n",
    "        _old_q.append(s_q[i][a[i]])\n",
    "        _target_q.append(0)\n",
    "        # END_DEBUG\n",
    "_old_q = np.array(_old_q)\n",
    "_target_q = np.array(_target_q)\n",
    "\n",
    "plt.plot(_old_q, label='Old Q')\n",
    "plt.plot(_target_q, label='Target Q')\n",
    "plt.legend()\n",
    "plt.grid()\n",
    "plt.show()"
   ]
  }
 ],
 "metadata": {
  "colab": {
   "collapsed_sections": [],
   "include_colab_link": true,
   "name": "dqn_cartpole.ipynb",
   "provenance": [],
   "version": "0.3.2"
  },
  "kernelspec": {
   "display_name": "Python 3",
   "language": "python",
   "name": "python3"
  },
  "language_info": {
   "codemirror_mode": {
    "name": "ipython",
    "version": 3
   },
   "file_extension": ".py",
   "mimetype": "text/x-python",
   "name": "python",
   "nbconvert_exporter": "python",
   "pygments_lexer": "ipython3",
   "version": "3.7.3"
  }
 },
 "nbformat": 4,
 "nbformat_minor": 1
}
